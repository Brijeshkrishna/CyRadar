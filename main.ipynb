{
 "cells": [
  {
   "cell_type": "code",
   "execution_count": 1,
   "id": "49ee8be0",
   "metadata": {},
   "outputs": [
    {
     "name": "stderr",
     "output_type": "stream",
     "text": [
      "2023-06-18 14:11:58.935198: I tensorflow/tsl/cuda/cudart_stub.cc:28] Could not find cuda drivers on your machine, GPU will not be used.\n",
      "2023-06-18 14:11:59.003679: I tensorflow/tsl/cuda/cudart_stub.cc:28] Could not find cuda drivers on your machine, GPU will not be used.\n",
      "2023-06-18 14:11:59.004970: I tensorflow/core/platform/cpu_feature_guard.cc:182] This TensorFlow binary is optimized to use available CPU instructions in performance-critical operations.\n",
      "To enable the following instructions: AVX2 FMA, in other operations, rebuild TensorFlow with the appropriate compiler flags.\n",
      "2023-06-18 14:12:02.960023: W tensorflow/compiler/tf2tensorrt/utils/py_utils.cc:38] TF-TRT Warning: Could not find TensorRT\n"
     ]
    }
   ],
   "source": [
    "import tensorflow as tf\n",
    "import tensorflow_hub as hub\n",
    "import pandas as pd\n",
    "from sklearn.model_selection import train_test_split\n",
    "\n",
    "from keras.callbacks import EarlyStopping"
   ]
  },
  {
   "cell_type": "code",
   "execution_count": 3,
   "id": "7fe59f10",
   "metadata": {},
   "outputs": [],
   "source": [
    "csv = pd.read_csv(\n",
    "    \"/home/brijesh/Documents/ai/spam-detection/datasets/yt.csv\",\n",
    "    delimiter=\",\"\n",
    ")\n",
    "df = csv[[\"Comment\", \"Spam\"]]\n",
    "\n",
    "df = df.dropna()\n"
   ]
  },
  {
   "cell_type": "code",
   "execution_count": 4,
   "id": "ae28d42e",
   "metadata": {},
   "outputs": [
    {
     "name": "stdout",
     "output_type": "stream",
     "text": [
      "11792\n",
      "2948\n"
     ]
    },
    {
     "name": "stderr",
     "output_type": "stream",
     "text": [
      "2023-06-18 14:12:22.825153: I tensorflow/compiler/xla/stream_executor/cuda/cuda_gpu_executor.cc:996] successful NUMA node read from SysFS had negative value (-1), but there must be at least one NUMA node, so returning NUMA node zero. See more at https://github.com/torvalds/linux/blob/v6.0/Documentation/ABI/testing/sysfs-bus-pci#L344-L355\n",
      "2023-06-18 14:12:22.826650: W tensorflow/core/common_runtime/gpu/gpu_device.cc:1956] Cannot dlopen some GPU libraries. Please make sure the missing libraries mentioned above are installed properly if you would like to use GPU. Follow the guide at https://www.tensorflow.org/install/gpu for how to download and setup the required libraries for your platform.\n",
      "Skipping registering GPU devices...\n",
      "2023-06-18 14:12:22.914094: W tensorflow/tsl/framework/cpu_allocator_impl.cc:83] Allocation of 192762400 exceeds 10% of free system memory.\n"
     ]
    },
    {
     "name": "stdout",
     "output_type": "stream",
     "text": [
      "Model: \"sequential\"\n",
      "_________________________________________________________________\n",
      " Layer (type)                Output Shape              Param #   \n",
      "=================================================================\n",
      " keras_layer (KerasLayer)    (None, 50)                48190600  \n",
      "                                                                 \n",
      " dense (Dense)               (None, 16)                816       \n",
      "                                                                 \n",
      " dense_1 (Dense)             (None, 1)                 17        \n",
      "                                                                 \n",
      "=================================================================\n",
      "Total params: 48,191,433\n",
      "Trainable params: 48,191,433\n",
      "Non-trainable params: 0\n",
      "_________________________________________________________________\n",
      "None\n"
     ]
    },
    {
     "name": "stderr",
     "output_type": "stream",
     "text": [
      "2023-06-18 14:12:24.076982: I tensorflow/core/common_runtime/executor.cc:1197] [/device:CPU:0] (DEBUG INFO) Executor start aborting (this does not indicate an error and you can ignore this message): INVALID_ARGUMENT: You must feed a value for placeholder tensor 'sentences' with dtype string and shape [?]\n",
      "\t [[{{node sentences}}]]\n",
      "2023-06-18 14:12:24.082664: I tensorflow/core/common_runtime/executor.cc:1197] [/device:CPU:0] (DEBUG INFO) Executor start aborting (this does not indicate an error and you can ignore this message): INVALID_ARGUMENT: You must feed a value for placeholder tensor 'Placeholder' with dtype string and shape [?]\n",
      "\t [[{{node Placeholder}}]]\n"
     ]
    }
   ],
   "source": [
    "\n",
    "X = df['Comment'].values\n",
    "y = df['Spam'].values\n",
    "X_train, X_test, y_train, y_test = train_test_split(X, y, test_size=0.20, random_state=42)\n",
    "    \n",
    "print(len(X_train))\n",
    "print(len(X_test))\n",
    "\n",
    "model = \"https://tfhub.dev/google/nnlm-en-dim50/2\"\n",
    "hub_layer = hub.KerasLayer(model, input_shape=[], dtype=tf.string, trainable=True)\n",
    "\n",
    "model = tf.keras.Sequential()\n",
    "model.add(hub_layer)\n",
    "model.add(tf.keras.layers.Dense(16, activation='relu'))\n",
    "model.add(tf.keras.layers.Dense(1, activation='sigmoid'))\n",
    "\n",
    "print(model.summary())"
   ]
  },
  {
   "cell_type": "code",
   "execution_count": 5,
   "id": "f8939856",
   "metadata": {},
   "outputs": [
    {
     "name": "stdout",
     "output_type": "stream",
     "text": [
      "Epoch 1/40\n"
     ]
    },
    {
     "name": "stderr",
     "output_type": "stream",
     "text": [
      "2023-06-18 14:12:24.628048: I tensorflow/core/common_runtime/executor.cc:1197] [/device:CPU:0] (DEBUG INFO) Executor start aborting (this does not indicate an error and you can ignore this message): INVALID_ARGUMENT: You must feed a value for placeholder tensor 'gradients/StatefulPartitionedCall_grad/StatefulPartitionedCall' with dtype float and shape [?,50]\n",
      "\t [[{{node gradients/StatefulPartitionedCall_grad/StatefulPartitionedCall}}]]\n",
      "2023-06-18 14:12:24.628130: I tensorflow/core/common_runtime/executor.cc:1197] [/device:CPU:0] (DEBUG INFO) Executor start aborting (this does not indicate an error and you can ignore this message): INVALID_ARGUMENT: You must feed a value for placeholder tensor 'gradients/StatefulPartitionedCall_grad/StatefulPartitionedCall_3' with dtype int64 and shape [?]\n",
      "\t [[{{node gradients/StatefulPartitionedCall_grad/StatefulPartitionedCall_3}}]]\n",
      "2023-06-18 14:12:24.634943: W tensorflow/tsl/framework/cpu_allocator_impl.cc:83] Allocation of 192762400 exceeds 10% of free system memory.\n",
      "2023-06-18 14:12:25.176569: W tensorflow/tsl/framework/cpu_allocator_impl.cc:83] Allocation of 192762400 exceeds 10% of free system memory.\n",
      "2023-06-18 14:12:26.621682: W tensorflow/tsl/framework/cpu_allocator_impl.cc:83] Allocation of 192762400 exceeds 10% of free system memory.\n"
     ]
    },
    {
     "name": "stdout",
     "output_type": "stream",
     "text": [
      " 1/24 [>.............................] - ETA: 1:21 - loss: 0.6736 - accuracy: 0.5938"
     ]
    },
    {
     "name": "stderr",
     "output_type": "stream",
     "text": [
      "2023-06-18 14:12:28.927591: W tensorflow/tsl/framework/cpu_allocator_impl.cc:83] Allocation of 192762400 exceeds 10% of free system memory.\n"
     ]
    },
    {
     "name": "stdout",
     "output_type": "stream",
     "text": [
      "24/24 [==============================] - 13s 400ms/step - loss: 0.5219 - accuracy: 0.9176 - val_loss: 0.3991 - val_accuracy: 0.9732\n",
      "Epoch 2/40\n",
      "24/24 [==============================] - 8s 342ms/step - loss: 0.3317 - accuracy: 0.9736 - val_loss: 0.2587 - val_accuracy: 0.9766\n",
      "Epoch 3/40\n",
      "24/24 [==============================] - 8s 335ms/step - loss: 0.2291 - accuracy: 0.9759 - val_loss: 0.1849 - val_accuracy: 0.9780\n",
      "Epoch 4/40\n",
      "24/24 [==============================] - 8s 336ms/step - loss: 0.1793 - accuracy: 0.9763 - val_loss: 0.1512 - val_accuracy: 0.9786\n",
      "Epoch 5/40\n",
      "24/24 [==============================] - 8s 331ms/step - loss: 0.1566 - accuracy: 0.9766 - val_loss: 0.1337 - val_accuracy: 0.9790\n",
      "Epoch 6/40\n",
      "24/24 [==============================] - 8s 323ms/step - loss: 0.1432 - accuracy: 0.9766 - val_loss: 0.1222 - val_accuracy: 0.9790\n",
      "Epoch 7/40\n",
      "24/24 [==============================] - 8s 325ms/step - loss: 0.1331 - accuracy: 0.9766 - val_loss: 0.1138 - val_accuracy: 0.9790\n",
      "Epoch 8/40\n",
      "24/24 [==============================] - 7s 302ms/step - loss: 0.1240 - accuracy: 0.9766 - val_loss: 0.1070 - val_accuracy: 0.9790\n",
      "Epoch 9/40\n",
      "24/24 [==============================] - 8s 315ms/step - loss: 0.1154 - accuracy: 0.9766 - val_loss: 0.1012 - val_accuracy: 0.9790\n",
      "Epoch 10/40\n",
      "24/24 [==============================] - 8s 316ms/step - loss: 0.1074 - accuracy: 0.9766 - val_loss: 0.0960 - val_accuracy: 0.9790\n",
      "Epoch 11/40\n",
      "24/24 [==============================] - 8s 317ms/step - loss: 0.1001 - accuracy: 0.9766 - val_loss: 0.0919 - val_accuracy: 0.9790\n",
      "Epoch 12/40\n",
      "24/24 [==============================] - 7s 285ms/step - loss: 0.0935 - accuracy: 0.9766 - val_loss: 0.0883 - val_accuracy: 0.9790\n",
      "Epoch 13/40\n",
      "24/24 [==============================] - 8s 326ms/step - loss: 0.0876 - accuracy: 0.9766 - val_loss: 0.0855 - val_accuracy: 0.9790\n",
      "Epoch 14/40\n",
      "24/24 [==============================] - 8s 318ms/step - loss: 0.0823 - accuracy: 0.9766 - val_loss: 0.0836 - val_accuracy: 0.9790\n",
      "Epoch 15/40\n",
      "24/24 [==============================] - 8s 316ms/step - loss: 0.0775 - accuracy: 0.9766 - val_loss: 0.0822 - val_accuracy: 0.9790\n",
      "Epoch 16/40\n",
      "24/24 [==============================] - 8s 321ms/step - loss: 0.0732 - accuracy: 0.9766 - val_loss: 0.0809 - val_accuracy: 0.9790\n",
      "Epoch 17/40\n",
      "24/24 [==============================] - 8s 335ms/step - loss: 0.0694 - accuracy: 0.9766 - val_loss: 0.0807 - val_accuracy: 0.9790\n",
      "Epoch 18/40\n",
      "24/24 [==============================] - 8s 324ms/step - loss: 0.0658 - accuracy: 0.9766 - val_loss: 0.0797 - val_accuracy: 0.9790\n",
      "Epoch 19/40\n",
      "24/24 [==============================] - 8s 319ms/step - loss: 0.0629 - accuracy: 0.9768 - val_loss: 0.0791 - val_accuracy: 0.9793\n",
      "Epoch 20/40\n",
      "24/24 [==============================] - 8s 323ms/step - loss: 0.0597 - accuracy: 0.9773 - val_loss: 0.0789 - val_accuracy: 0.9800\n",
      "Epoch 21/40\n",
      "24/24 [==============================] - 8s 315ms/step - loss: 0.0564 - accuracy: 0.9780 - val_loss: 0.0789 - val_accuracy: 0.9813\n",
      "Epoch 22/40\n",
      "24/24 [==============================] - 8s 321ms/step - loss: 0.0531 - accuracy: 0.9791 - val_loss: 0.0791 - val_accuracy: 0.9817\n",
      "Epoch 23/40\n",
      "24/24 [==============================] - 8s 318ms/step - loss: 0.0506 - accuracy: 0.9811 - val_loss: 0.0787 - val_accuracy: 0.9817\n",
      "Epoch 24/40\n",
      "24/24 [==============================] - 8s 319ms/step - loss: 0.0481 - accuracy: 0.9830 - val_loss: 0.0790 - val_accuracy: 0.9820\n",
      "Epoch 25/40\n",
      "24/24 [==============================] - 8s 314ms/step - loss: 0.0452 - accuracy: 0.9838 - val_loss: 0.0793 - val_accuracy: 0.9820\n",
      "Epoch 26/40\n",
      "24/24 [==============================] - 8s 317ms/step - loss: 0.0424 - accuracy: 0.9842 - val_loss: 0.0799 - val_accuracy: 0.9807\n",
      "Epoch 27/40\n",
      "24/24 [==============================] - 8s 328ms/step - loss: 0.0395 - accuracy: 0.9848 - val_loss: 0.0808 - val_accuracy: 0.9807\n",
      "Epoch 28/40\n",
      "24/24 [==============================] - 8s 314ms/step - loss: 0.0366 - accuracy: 0.9864 - val_loss: 0.0819 - val_accuracy: 0.9807\n",
      "Epoch 29/40\n",
      "24/24 [==============================] - 8s 316ms/step - loss: 0.0340 - accuracy: 0.9885 - val_loss: 0.0827 - val_accuracy: 0.9800\n",
      "Epoch 30/40\n",
      "24/24 [==============================] - 7s 312ms/step - loss: 0.0314 - accuracy: 0.9897 - val_loss: 0.0839 - val_accuracy: 0.9800\n",
      "Epoch 31/40\n",
      "24/24 [==============================] - 8s 318ms/step - loss: 0.0292 - accuracy: 0.9903 - val_loss: 0.0848 - val_accuracy: 0.9803\n",
      "Epoch 32/40\n",
      "24/24 [==============================] - 7s 310ms/step - loss: 0.0271 - accuracy: 0.9907 - val_loss: 0.0860 - val_accuracy: 0.9793\n",
      "Epoch 33/40\n",
      "24/24 [==============================] - 7s 308ms/step - loss: 0.0248 - accuracy: 0.9921 - val_loss: 0.0877 - val_accuracy: 0.9793\n",
      "Epoch 33: early stopping\n"
     ]
    }
   ],
   "source": [
    "\n",
    "\n",
    "early_stop = EarlyStopping(monitor='val_loss', mode='min', verbose=1, patience=10)\n",
    "\n",
    "model.compile(optimizer='rmsprop', loss='binary_crossentropy', metrics=['accuracy'])\n",
    "\n",
    "# fit the model\n",
    "model.fit(X_train,\n",
    "         y_train,\n",
    "         epochs=40,\n",
    "         batch_size=512,\n",
    "         validation_data=(X_test, y_test),\n",
    "         verbose=1,\n",
    "         callbacks=[early_stop]\n",
    ")\n",
    "\n",
    "\n",
    "model.save(\"trained-model.h5\")"
   ]
  },
  {
   "cell_type": "code",
   "execution_count": 6,
   "id": "ae7c538a",
   "metadata": {},
   "outputs": [],
   "source": [
    "# model_prod = tf.keras.models.load_model('./trained-model.h5', custom_objects={'KerasLayer':hub.KerasLayer})\n"
   ]
  },
  {
   "cell_type": "code",
   "execution_count": 9,
   "id": "2ef6b26d",
   "metadata": {},
   "outputs": [
    {
     "name": "stdout",
     "output_type": "stream",
     "text": [
      "1/1 [==============================] - 0s 277ms/step\n",
      "[[0.00585569]]\n",
      "1/1 [==============================] - 0s 125ms/step\n",
      "[[2.5443951e-05]]\n"
     ]
    }
   ],
   "source": [
    "for test in [\"Congratulations! You have been selected to receive a free gift worth $1000. Claim your prize by clicking this link and entering your personal information. Hurry, this offer is only available for a limited time!\",\"good video\"]:\n",
    "    out = model.predict([test])\n",
    "    print(out)"
   ]
  },
  {
   "cell_type": "code",
   "execution_count": null,
   "id": "8fc40ad6",
   "metadata": {},
   "outputs": [],
   "source": []
  }
 ],
 "metadata": {
  "kernelspec": {
   "display_name": "Python 3",
   "language": "python",
   "name": "python3"
  },
  "language_info": {
   "codemirror_mode": {
    "name": "ipython",
    "version": 3
   },
   "file_extension": ".py",
   "mimetype": "text/x-python",
   "name": "python",
   "nbconvert_exporter": "python",
   "pygments_lexer": "ipython3",
   "version": "3.11.3"
  },
  "vscode": {
   "interpreter": {
    "hash": "4e1d9a8909477db77738c33245c29c7265277ef753467dede8cf3f814cde494e"
   }
  }
 },
 "nbformat": 4,
 "nbformat_minor": 5
}
