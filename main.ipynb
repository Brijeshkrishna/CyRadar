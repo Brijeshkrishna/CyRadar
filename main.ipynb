{
 "cells": [
  {
   "cell_type": "code",
   "execution_count": 6,
   "id": "49ee8be0",
   "metadata": {},
   "outputs": [],
   "source": [
    "import tensorflow as tf\n",
    "import tensorflow_hub as hub\n",
    "import pandas as pd\n",
    "from sklearn.model_selection import train_test_split\n",
    "\n",
    "from keras.callbacks import EarlyStopping"
   ]
  },
  {
   "cell_type": "code",
   "execution_count": 4,
   "id": "7fe59f10",
   "metadata": {},
   "outputs": [],
   "source": [
    "csv = pd.read_csv(\n",
    "    \"data.csv\",\n",
    "    delimiter=\";\"\n",
    ")\n",
    "df = csv[[\"Comment\", \"Spam\"]]\n",
    "\n",
    "df = df.dropna()\n"
   ]
  },
  {
   "cell_type": "code",
   "execution_count": 5,
   "id": "ae28d42e",
   "metadata": {},
   "outputs": [
    {
     "name": "stdout",
     "output_type": "stream",
     "text": [
      "1380\n",
      "345\n"
     ]
    },
    {
     "name": "stderr",
     "output_type": "stream",
     "text": [
      "2023-04-09 19:56:34.359132: I tensorflow/compiler/xla/stream_executor/cuda/cuda_gpu_executor.cc:981] successful NUMA node read from SysFS had negative value (-1), but there must be at least one NUMA node, so returning NUMA node zero\n",
      "2023-04-09 19:56:34.359775: W tensorflow/compiler/xla/stream_executor/platform/default/dso_loader.cc:64] Could not load dynamic library 'libcudart.so.11.0'; dlerror: libcudart.so.11.0: cannot open shared object file: No such file or directory\n",
      "2023-04-09 19:56:34.377181: W tensorflow/compiler/xla/stream_executor/platform/default/dso_loader.cc:64] Could not load dynamic library 'libcublas.so.11'; dlerror: libcublas.so.11: cannot open shared object file: No such file or directory\n",
      "2023-04-09 19:56:34.377647: W tensorflow/compiler/xla/stream_executor/platform/default/dso_loader.cc:64] Could not load dynamic library 'libcublasLt.so.11'; dlerror: libcublasLt.so.11: cannot open shared object file: No such file or directory\n",
      "2023-04-09 19:56:34.377772: W tensorflow/compiler/xla/stream_executor/platform/default/dso_loader.cc:64] Could not load dynamic library 'libcufft.so.10'; dlerror: libcufft.so.10: cannot open shared object file: No such file or directory\n",
      "2023-04-09 19:56:40.115066: W tensorflow/compiler/xla/stream_executor/platform/default/dso_loader.cc:64] Could not load dynamic library 'libcusparse.so.11'; dlerror: libcusparse.so.11: cannot open shared object file: No such file or directory\n",
      "2023-04-09 19:56:40.126998: W tensorflow/core/common_runtime/gpu/gpu_device.cc:1934] Cannot dlopen some GPU libraries. Please make sure the missing libraries mentioned above are installed properly if you would like to use GPU. Follow the guide at https://www.tensorflow.org/install/gpu for how to download and setup the required libraries for your platform.\n",
      "Skipping registering GPU devices...\n",
      "2023-04-09 19:56:40.156518: I tensorflow/core/platform/cpu_feature_guard.cc:193] This TensorFlow binary is optimized with oneAPI Deep Neural Network Library (oneDNN) to use the following CPU instructions in performance-critical operations:  AVX2 FMA\n",
      "To enable them in other operations, rebuild TensorFlow with the appropriate compiler flags.\n",
      "2023-04-09 19:56:44.140337: W tensorflow/tsl/framework/cpu_allocator_impl.cc:82] Allocation of 192762400 exceeds 10% of free system memory.\n"
     ]
    },
    {
     "name": "stdout",
     "output_type": "stream",
     "text": [
      "WARNING:tensorflow:From /home/brijesh/.local/lib/python3.10/site-packages/tensorflow/python/autograph/pyct/static_analysis/liveness.py:83: Analyzer.lamba_check (from tensorflow.python.autograph.pyct.static_analysis.liveness) is deprecated and will be removed after 2023-09-23.\n",
      "Instructions for updating:\n",
      "Lambda fuctions will be no more assumed to be used in the statement where they are used, or at least in the same block. https://github.com/tensorflow/tensorflow/issues/56089\n"
     ]
    },
    {
     "name": "stderr",
     "output_type": "stream",
     "text": [
      "WARNING:tensorflow:From /home/brijesh/.local/lib/python3.10/site-packages/tensorflow/python/autograph/pyct/static_analysis/liveness.py:83: Analyzer.lamba_check (from tensorflow.python.autograph.pyct.static_analysis.liveness) is deprecated and will be removed after 2023-09-23.\n",
      "Instructions for updating:\n",
      "Lambda fuctions will be no more assumed to be used in the statement where they are used, or at least in the same block. https://github.com/tensorflow/tensorflow/issues/56089\n"
     ]
    },
    {
     "name": "stdout",
     "output_type": "stream",
     "text": [
      "Model: \"sequential\"\n",
      "_________________________________________________________________\n",
      " Layer (type)                Output Shape              Param #   \n",
      "=================================================================\n",
      " keras_layer (KerasLayer)    (None, 50)                48190600  \n",
      "                                                                 \n",
      " dense (Dense)               (None, 16)                816       \n",
      "                                                                 \n",
      " dense_1 (Dense)             (None, 1)                 17        \n",
      "                                                                 \n",
      "=================================================================\n",
      "Total params: 48,191,433\n",
      "Trainable params: 48,191,433\n",
      "Non-trainable params: 0\n",
      "_________________________________________________________________\n",
      "None\n"
     ]
    }
   ],
   "source": [
    "\n",
    "X = df['Comment'].values\n",
    "y = df['Spam'].values\n",
    "X_train, X_test, y_train, y_test = train_test_split(X, y, test_size=0.20, random_state=42)\n",
    "    \n",
    "print(len(X_train))\n",
    "print(len(X_test))\n",
    "\n",
    "model = \"https://tfhub.dev/google/nnlm-en-dim50/2\"\n",
    "hub_layer = hub.KerasLayer(model, input_shape=[], dtype=tf.string, trainable=True)\n",
    "\n",
    "model = tf.keras.Sequential()\n",
    "model.add(hub_layer)\n",
    "model.add(tf.keras.layers.Dense(16, activation='relu'))\n",
    "model.add(tf.keras.layers.Dense(1, activation='sigmoid'))\n",
    "\n",
    "print(model.summary())"
   ]
  },
  {
   "cell_type": "code",
   "execution_count": 9,
   "id": "f8939856",
   "metadata": {},
   "outputs": [
    {
     "name": "stdout",
     "output_type": "stream",
     "text": [
      "Epoch 1/40\n"
     ]
    },
    {
     "name": "stderr",
     "output_type": "stream",
     "text": [
      "2023-04-09 19:59:17.335601: W tensorflow/tsl/framework/cpu_allocator_impl.cc:82] Allocation of 192762400 exceeds 10% of free system memory.\n",
      "2023-04-09 19:59:18.547123: W tensorflow/tsl/framework/cpu_allocator_impl.cc:82] Allocation of 192762400 exceeds 10% of free system memory.\n"
     ]
    },
    {
     "name": "stdout",
     "output_type": "stream",
     "text": [
      "1/3 [=========>....................] - ETA: 5s - loss: 0.7256 - accuracy: 0.3242"
     ]
    },
    {
     "name": "stderr",
     "output_type": "stream",
     "text": [
      "2023-04-09 19:59:19.946410: W tensorflow/tsl/framework/cpu_allocator_impl.cc:82] Allocation of 192762400 exceeds 10% of free system memory.\n",
      "2023-04-09 19:59:20.054827: W tensorflow/tsl/framework/cpu_allocator_impl.cc:82] Allocation of 192762400 exceeds 10% of free system memory.\n"
     ]
    },
    {
     "name": "stdout",
     "output_type": "stream",
     "text": [
      "3/3 [==============================] - 4s 469ms/step - loss: 0.7119 - accuracy: 0.3804 - val_loss: 0.6995 - val_accuracy: 0.4783\n",
      "Epoch 2/40\n",
      "3/3 [==============================] - 1s 376ms/step - loss: 0.6946 - accuracy: 0.5101 - val_loss: 0.6866 - val_accuracy: 0.5652\n",
      "Epoch 3/40\n",
      "3/3 [==============================] - 1s 378ms/step - loss: 0.6829 - accuracy: 0.5775 - val_loss: 0.6763 - val_accuracy: 0.6319\n",
      "Epoch 4/40\n",
      "3/3 [==============================] - 1s 394ms/step - loss: 0.6730 - accuracy: 0.6529 - val_loss: 0.6669 - val_accuracy: 0.6696\n",
      "Epoch 5/40\n",
      "3/3 [==============================] - 1s 366ms/step - loss: 0.6637 - accuracy: 0.7051 - val_loss: 0.6581 - val_accuracy: 0.6899\n",
      "Epoch 6/40\n",
      "3/3 [==============================] - 1s 369ms/step - loss: 0.6545 - accuracy: 0.7384 - val_loss: 0.6493 - val_accuracy: 0.7188\n",
      "Epoch 7/40\n",
      "3/3 [==============================] - 1s 379ms/step - loss: 0.6453 - accuracy: 0.7536 - val_loss: 0.6406 - val_accuracy: 0.7565\n",
      "Epoch 8/40\n",
      "3/3 [==============================] - 1s 369ms/step - loss: 0.6357 - accuracy: 0.7833 - val_loss: 0.6315 - val_accuracy: 0.7652\n",
      "Epoch 9/40\n",
      "3/3 [==============================] - 1s 380ms/step - loss: 0.6257 - accuracy: 0.7964 - val_loss: 0.6217 - val_accuracy: 0.7826\n",
      "Epoch 10/40\n",
      "3/3 [==============================] - 1s 363ms/step - loss: 0.6150 - accuracy: 0.8029 - val_loss: 0.6117 - val_accuracy: 0.7942\n",
      "Epoch 11/40\n",
      "3/3 [==============================] - 1s 346ms/step - loss: 0.6038 - accuracy: 0.8116 - val_loss: 0.6016 - val_accuracy: 0.7942\n",
      "Epoch 12/40\n",
      "3/3 [==============================] - 1s 348ms/step - loss: 0.5922 - accuracy: 0.8196 - val_loss: 0.5915 - val_accuracy: 0.8000\n",
      "Epoch 13/40\n",
      "3/3 [==============================] - 1s 356ms/step - loss: 0.5805 - accuracy: 0.8232 - val_loss: 0.5815 - val_accuracy: 0.8029\n",
      "Epoch 14/40\n",
      "3/3 [==============================] - 1s 369ms/step - loss: 0.5686 - accuracy: 0.8268 - val_loss: 0.5716 - val_accuracy: 0.8058\n",
      "Epoch 15/40\n",
      "3/3 [==============================] - 1s 371ms/step - loss: 0.5566 - accuracy: 0.8326 - val_loss: 0.5617 - val_accuracy: 0.8203\n",
      "Epoch 16/40\n",
      "3/3 [==============================] - 1s 367ms/step - loss: 0.5444 - accuracy: 0.8399 - val_loss: 0.5518 - val_accuracy: 0.8232\n",
      "Epoch 17/40\n",
      "3/3 [==============================] - 1s 351ms/step - loss: 0.5319 - accuracy: 0.8420 - val_loss: 0.5421 - val_accuracy: 0.8232\n",
      "Epoch 18/40\n",
      "3/3 [==============================] - 1s 353ms/step - loss: 0.5196 - accuracy: 0.8471 - val_loss: 0.5326 - val_accuracy: 0.8319\n",
      "Epoch 19/40\n",
      "3/3 [==============================] - 1s 353ms/step - loss: 0.5074 - accuracy: 0.8529 - val_loss: 0.5237 - val_accuracy: 0.8319\n",
      "Epoch 20/40\n",
      "3/3 [==============================] - 1s 357ms/step - loss: 0.4952 - accuracy: 0.8601 - val_loss: 0.5148 - val_accuracy: 0.8348\n",
      "Epoch 21/40\n",
      "3/3 [==============================] - 1s 379ms/step - loss: 0.4830 - accuracy: 0.8623 - val_loss: 0.5063 - val_accuracy: 0.8406\n",
      "Epoch 22/40\n",
      "3/3 [==============================] - 1s 364ms/step - loss: 0.4710 - accuracy: 0.8703 - val_loss: 0.4981 - val_accuracy: 0.8406\n",
      "Epoch 23/40\n",
      "3/3 [==============================] - 1s 370ms/step - loss: 0.4593 - accuracy: 0.8732 - val_loss: 0.4904 - val_accuracy: 0.8406\n",
      "Epoch 24/40\n",
      "3/3 [==============================] - 1s 379ms/step - loss: 0.4476 - accuracy: 0.8768 - val_loss: 0.4827 - val_accuracy: 0.8435\n",
      "Epoch 25/40\n",
      "3/3 [==============================] - 1s 359ms/step - loss: 0.4360 - accuracy: 0.8783 - val_loss: 0.4755 - val_accuracy: 0.8435\n",
      "Epoch 26/40\n",
      "3/3 [==============================] - 1s 353ms/step - loss: 0.4244 - accuracy: 0.8797 - val_loss: 0.4684 - val_accuracy: 0.8435\n",
      "Epoch 27/40\n",
      "3/3 [==============================] - 1s 357ms/step - loss: 0.4130 - accuracy: 0.8841 - val_loss: 0.4618 - val_accuracy: 0.8406\n",
      "Epoch 28/40\n",
      "3/3 [==============================] - 1s 361ms/step - loss: 0.4016 - accuracy: 0.8891 - val_loss: 0.4553 - val_accuracy: 0.8435\n",
      "Epoch 29/40\n",
      "3/3 [==============================] - 1s 353ms/step - loss: 0.3905 - accuracy: 0.8928 - val_loss: 0.4492 - val_accuracy: 0.8493\n",
      "Epoch 30/40\n",
      "3/3 [==============================] - 1s 357ms/step - loss: 0.3795 - accuracy: 0.8971 - val_loss: 0.4433 - val_accuracy: 0.8493\n",
      "Epoch 31/40\n",
      "3/3 [==============================] - 1s 347ms/step - loss: 0.3685 - accuracy: 0.9014 - val_loss: 0.4373 - val_accuracy: 0.8493\n",
      "Epoch 32/40\n",
      "3/3 [==============================] - 1s 365ms/step - loss: 0.3579 - accuracy: 0.9043 - val_loss: 0.4318 - val_accuracy: 0.8493\n",
      "Epoch 33/40\n",
      "3/3 [==============================] - 1s 357ms/step - loss: 0.3474 - accuracy: 0.9087 - val_loss: 0.4266 - val_accuracy: 0.8493\n",
      "Epoch 34/40\n",
      "3/3 [==============================] - 1s 353ms/step - loss: 0.3371 - accuracy: 0.9101 - val_loss: 0.4216 - val_accuracy: 0.8493\n",
      "Epoch 35/40\n",
      "3/3 [==============================] - 1s 378ms/step - loss: 0.3269 - accuracy: 0.9138 - val_loss: 0.4169 - val_accuracy: 0.8551\n",
      "Epoch 36/40\n",
      "3/3 [==============================] - 1s 353ms/step - loss: 0.3170 - accuracy: 0.9196 - val_loss: 0.4127 - val_accuracy: 0.8551\n",
      "Epoch 37/40\n",
      "3/3 [==============================] - 1s 360ms/step - loss: 0.3070 - accuracy: 0.9217 - val_loss: 0.4086 - val_accuracy: 0.8551\n",
      "Epoch 38/40\n",
      "3/3 [==============================] - 1s 367ms/step - loss: 0.2975 - accuracy: 0.9232 - val_loss: 0.4046 - val_accuracy: 0.8609\n",
      "Epoch 39/40\n",
      "3/3 [==============================] - 1s 364ms/step - loss: 0.2881 - accuracy: 0.9268 - val_loss: 0.4008 - val_accuracy: 0.8609\n",
      "Epoch 40/40\n",
      "3/3 [==============================] - 1s 357ms/step - loss: 0.2787 - accuracy: 0.9319 - val_loss: 0.3975 - val_accuracy: 0.8609\n"
     ]
    }
   ],
   "source": [
    "\n",
    "\n",
    "early_stop = EarlyStopping(monitor='val_loss', mode='min', verbose=1, patience=10)\n",
    "\n",
    "model.compile(optimizer='rmsprop', loss='binary_crossentropy', metrics=['accuracy'])\n",
    "\n",
    "# fit the model\n",
    "model.fit(X_train,\n",
    "         y_train,\n",
    "         epochs=40,\n",
    "         batch_size=512,\n",
    "         validation_data=(X_test, y_test),\n",
    "         verbose=1,\n",
    "         callbacks=[early_stop]\n",
    ")\n",
    "\n",
    "\n",
    "model.save(\"trained-model.h5\")"
   ]
  },
  {
   "cell_type": "code",
   "execution_count": 7,
   "id": "ae7c538a",
   "metadata": {},
   "outputs": [
    {
     "name": "stderr",
     "output_type": "stream",
     "text": [
      "2023-04-09 20:14:01.659233: I tensorflow/core/platform/cpu_feature_guard.cc:193] This TensorFlow binary is optimized with oneAPI Deep Neural Network Library (oneDNN) to use the following CPU instructions in performance-critical operations:  AVX2 FMA\n",
      "To enable them in other operations, rebuild TensorFlow with the appropriate compiler flags.\n",
      "2023-04-09 20:14:02.200186: W tensorflow/tsl/framework/cpu_allocator_impl.cc:82] Allocation of 192762400 exceeds 10% of free system memory.\n"
     ]
    },
    {
     "name": "stdout",
     "output_type": "stream",
     "text": [
      "WARNING:tensorflow:From /home/brijesh/.local/lib/python3.10/site-packages/tensorflow/python/autograph/pyct/static_analysis/liveness.py:83: Analyzer.lamba_check (from tensorflow.python.autograph.pyct.static_analysis.liveness) is deprecated and will be removed after 2023-09-23.\n",
      "Instructions for updating:\n",
      "Lambda fuctions will be no more assumed to be used in the statement where they are used, or at least in the same block. https://github.com/tensorflow/tensorflow/issues/56089\n"
     ]
    },
    {
     "name": "stderr",
     "output_type": "stream",
     "text": [
      "WARNING:tensorflow:From /home/brijesh/.local/lib/python3.10/site-packages/tensorflow/python/autograph/pyct/static_analysis/liveness.py:83: Analyzer.lamba_check (from tensorflow.python.autograph.pyct.static_analysis.liveness) is deprecated and will be removed after 2023-09-23.\n",
      "Instructions for updating:\n",
      "Lambda fuctions will be no more assumed to be used in the statement where they are used, or at least in the same block. https://github.com/tensorflow/tensorflow/issues/56089\n",
      "2023-04-09 20:14:07.453992: W tensorflow/tsl/framework/cpu_allocator_impl.cc:82] Allocation of 192762400 exceeds 10% of free system memory.\n",
      "2023-04-09 20:14:07.566667: W tensorflow/tsl/framework/cpu_allocator_impl.cc:82] Allocation of 192762400 exceeds 10% of free system memory.\n",
      "2023-04-09 20:14:11.543538: W tensorflow/tsl/framework/cpu_allocator_impl.cc:82] Allocation of 192762400 exceeds 10% of free system memory.\n"
     ]
    }
   ],
   "source": [
    "model_prod = tf.keras.models.load_model('./trained-model.h5', custom_objects={'KerasLayer':hub.KerasLayer})\n"
   ]
  },
  {
   "cell_type": "code",
   "execution_count": 9,
   "id": "2ef6b26d",
   "metadata": {},
   "outputs": [
    {
     "name": "stdout",
     "output_type": "stream",
     "text": [
      "1/1 [==============================] - 0s 45ms/step\n",
      "[[0.35363215]]\n"
     ]
    }
   ],
   "source": [
    "for test in [\"Congratulations! You have been selected to receive a free gift worth $1000. Claim your prize by clicking this link and entering your personal information. Hurry, this offer is only available for a limited time!\"]:\n",
    "    out = model_prod.predict([test])\n",
    "    print(out)"
   ]
  },
  {
   "cell_type": "code",
   "execution_count": null,
   "id": "8fc40ad6",
   "metadata": {},
   "outputs": [],
   "source": []
  }
 ],
 "metadata": {
  "kernelspec": {
   "display_name": "Python 3",
   "language": "python",
   "name": "python3"
  },
  "language_info": {
   "codemirror_mode": {
    "name": "ipython",
    "version": 3
   },
   "file_extension": ".py",
   "mimetype": "text/x-python",
   "name": "python",
   "nbconvert_exporter": "python",
   "pygments_lexer": "ipython3",
   "version": "3.10.10"
  },
  "vscode": {
   "interpreter": {
    "hash": "4e1d9a8909477db77738c33245c29c7265277ef753467dede8cf3f814cde494e"
   }
  }
 },
 "nbformat": 4,
 "nbformat_minor": 5
}
