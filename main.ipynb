{
 "cells": [
  {
   "cell_type": "code",
   "execution_count": 1,
   "id": "49ee8be0",
   "metadata": {},
   "outputs": [
    {
     "name": "stderr",
     "output_type": "stream",
     "text": [
      "2023-07-01 08:59:57.741979: I tensorflow/tsl/cuda/cudart_stub.cc:28] Could not find cuda drivers on your machine, GPU will not be used.\n",
      "2023-07-01 09:00:05.974139: I tensorflow/tsl/cuda/cudart_stub.cc:28] Could not find cuda drivers on your machine, GPU will not be used.\n",
      "2023-07-01 09:00:05.999744: I tensorflow/core/platform/cpu_feature_guard.cc:182] This TensorFlow binary is optimized to use available CPU instructions in performance-critical operations.\n",
      "To enable the following instructions: AVX2 FMA, in other operations, rebuild TensorFlow with the appropriate compiler flags.\n",
      "2023-07-01 09:00:12.955221: W tensorflow/compiler/tf2tensorrt/utils/py_utils.cc:38] TF-TRT Warning: Could not find TensorRT\n"
     ]
    }
   ],
   "source": [
    "import tensorflow as tf\n",
    "import tensorflow_hub as hub\n",
    "import pandas as pd\n",
    "from sklearn.model_selection import train_test_split\n",
    "\n",
    "from keras.callbacks import EarlyStopping"
   ]
  },
  {
   "cell_type": "code",
   "execution_count": 2,
   "id": "7fe59f10",
   "metadata": {},
   "outputs": [],
   "source": [
    "csv = pd.read_csv(\n",
    "    \"/home/brijesh/Documents/ai/spam-detection/datasets/yt.csv\",\n",
    "    delimiter=\",\"\n",
    ")\n",
    "df = csv[[\"Comment\", \"Spam\"]]\n",
    "\n",
    "df = df.dropna()\n"
   ]
  },
  {
   "cell_type": "code",
   "execution_count": 3,
   "id": "ae28d42e",
   "metadata": {},
   "outputs": [
    {
     "name": "stdout",
     "output_type": "stream",
     "text": [
      "11792\n",
      "2948\n"
     ]
    },
    {
     "name": "stderr",
     "output_type": "stream",
     "text": [
      "2023-07-01 09:01:04.593138: I tensorflow/compiler/xla/stream_executor/cuda/cuda_gpu_executor.cc:996] successful NUMA node read from SysFS had negative value (-1), but there must be at least one NUMA node, so returning NUMA node zero. See more at https://github.com/torvalds/linux/blob/v6.0/Documentation/ABI/testing/sysfs-bus-pci#L344-L355\n",
      "2023-07-01 09:01:04.594930: W tensorflow/core/common_runtime/gpu/gpu_device.cc:1956] Cannot dlopen some GPU libraries. Please make sure the missing libraries mentioned above are installed properly if you would like to use GPU. Follow the guide at https://www.tensorflow.org/install/gpu for how to download and setup the required libraries for your platform.\n",
      "Skipping registering GPU devices...\n",
      "2023-07-01 09:01:06.093066: I tensorflow/core/common_runtime/executor.cc:1197] [/device:CPU:0] (DEBUG INFO) Executor start aborting (this does not indicate an error and you can ignore this message): INVALID_ARGUMENT: You must feed a value for placeholder tensor 'sentences' with dtype string and shape [?]\n",
      "\t [[{{node sentences}}]]\n",
      "2023-07-01 09:01:06.100413: I tensorflow/core/common_runtime/executor.cc:1197] [/device:CPU:0] (DEBUG INFO) Executor start aborting (this does not indicate an error and you can ignore this message): INVALID_ARGUMENT: You must feed a value for placeholder tensor 'Placeholder' with dtype string and shape [?]\n",
      "\t [[{{node Placeholder}}]]\n"
     ]
    },
    {
     "name": "stdout",
     "output_type": "stream",
     "text": [
      "Model: \"sequential\"\n",
      "_________________________________________________________________\n",
      " Layer (type)                Output Shape              Param #   \n",
      "=================================================================\n",
      " keras_layer (KerasLayer)    (None, 50)                48190600  \n",
      "                                                                 \n",
      " dense (Dense)               (None, 16)                816       \n",
      "                                                                 \n",
      " dense_1 (Dense)             (None, 1)                 17        \n",
      "                                                                 \n",
      "=================================================================\n",
      "Total params: 48,191,433\n",
      "Trainable params: 48,191,433\n",
      "Non-trainable params: 0\n",
      "_________________________________________________________________\n",
      "None\n"
     ]
    }
   ],
   "source": [
    "\n",
    "X = df['Comment'].values\n",
    "y = df['Spam'].values\n",
    "X_train, X_test, y_train, y_test = train_test_split(X, y, test_size=0.20, random_state=42)\n",
    "    \n",
    "print(len(X_train))\n",
    "print(len(X_test))\n",
    "\n",
    "model = \"https://tfhub.dev/google/nnlm-en-dim50/2\"\n",
    "hub_layer = hub.KerasLayer(model, input_shape=[], dtype=tf.string, trainable=True)\n",
    "\n",
    "model = tf.keras.Sequential()\n",
    "model.add(hub_layer)\n",
    "model.add(tf.keras.layers.Dense(16, activation='relu'))\n",
    "model.add(tf.keras.layers.Dense(1, activation='sigmoid'))\n",
    "\n",
    "print(model.summary())"
   ]
  },
  {
   "cell_type": "code",
   "execution_count": 8,
   "id": "b245e802",
   "metadata": {},
   "outputs": [
    {
     "name": "stdout",
     "output_type": "stream",
     "text": [
      "<class 'pandas.core.frame.DataFrame'>\n",
      "RangeIndex: 14740 entries, 0 to 14739\n",
      "Data columns (total 2 columns):\n",
      " #   Column   Non-Null Count  Dtype \n",
      "---  ------   --------------  ----- \n",
      " 0   Comment  14740 non-null  object\n",
      " 1   Spam     14740 non-null  int64 \n",
      "dtypes: int64(1), object(1)\n",
      "memory usage: 230.4+ KB\n"
     ]
    }
   ],
   "source": [
    "df.info()"
   ]
  },
  {
   "cell_type": "code",
   "execution_count": 4,
   "id": "f8939856",
   "metadata": {},
   "outputs": [
    {
     "name": "stdout",
     "output_type": "stream",
     "text": [
      "Epoch 1/40\n"
     ]
    },
    {
     "name": "stderr",
     "output_type": "stream",
     "text": [
      "2023-07-01 09:01:07.138810: I tensorflow/core/common_runtime/executor.cc:1197] [/device:CPU:0] (DEBUG INFO) Executor start aborting (this does not indicate an error and you can ignore this message): INVALID_ARGUMENT: You must feed a value for placeholder tensor 'gradients/StatefulPartitionedCall_grad/StatefulPartitionedCall' with dtype float and shape [?,50]\n",
      "\t [[{{node gradients/StatefulPartitionedCall_grad/StatefulPartitionedCall}}]]\n",
      "2023-07-01 09:01:07.138903: I tensorflow/core/common_runtime/executor.cc:1197] [/device:CPU:0] (DEBUG INFO) Executor start aborting (this does not indicate an error and you can ignore this message): INVALID_ARGUMENT: You must feed a value for placeholder tensor 'gradients/StatefulPartitionedCall_grad/StatefulPartitionedCall_3' with dtype int64 and shape [?]\n",
      "\t [[{{node gradients/StatefulPartitionedCall_grad/StatefulPartitionedCall_3}}]]\n"
     ]
    },
    {
     "name": "stdout",
     "output_type": "stream",
     "text": [
      "24/24 [==============================] - 8s 275ms/step - loss: 0.6188 - accuracy: 0.7508 - val_loss: 0.4911 - val_accuracy: 0.9488\n",
      "Epoch 2/40\n",
      "24/24 [==============================] - 6s 261ms/step - loss: 0.4129 - accuracy: 0.9555 - val_loss: 0.3265 - val_accuracy: 0.9705\n",
      "Epoch 3/40\n",
      "24/24 [==============================] - 6s 259ms/step - loss: 0.2844 - accuracy: 0.9697 - val_loss: 0.2277 - val_accuracy: 0.9766\n",
      "Epoch 4/40\n",
      "24/24 [==============================] - 6s 260ms/step - loss: 0.2113 - accuracy: 0.9738 - val_loss: 0.1741 - val_accuracy: 0.9776\n",
      "Epoch 5/40\n",
      "24/24 [==============================] - 6s 259ms/step - loss: 0.1744 - accuracy: 0.9759 - val_loss: 0.1459 - val_accuracy: 0.9780\n",
      "Epoch 6/40\n",
      "24/24 [==============================] - 6s 256ms/step - loss: 0.1554 - accuracy: 0.9766 - val_loss: 0.1311 - val_accuracy: 0.9786\n",
      "Epoch 7/40\n",
      "24/24 [==============================] - 6s 260ms/step - loss: 0.1441 - accuracy: 0.9765 - val_loss: 0.1219 - val_accuracy: 0.9786\n",
      "Epoch 8/40\n",
      "24/24 [==============================] - 6s 265ms/step - loss: 0.1352 - accuracy: 0.9766 - val_loss: 0.1148 - val_accuracy: 0.9786\n",
      "Epoch 9/40\n",
      "24/24 [==============================] - 6s 259ms/step - loss: 0.1273 - accuracy: 0.9766 - val_loss: 0.1095 - val_accuracy: 0.9790\n",
      "Epoch 10/40\n",
      "24/24 [==============================] - 6s 258ms/step - loss: 0.1198 - accuracy: 0.9766 - val_loss: 0.1039 - val_accuracy: 0.9790\n",
      "Epoch 11/40\n",
      "24/24 [==============================] - 6s 259ms/step - loss: 0.1127 - accuracy: 0.9766 - val_loss: 0.0993 - val_accuracy: 0.9790\n",
      "Epoch 12/40\n",
      "24/24 [==============================] - 6s 261ms/step - loss: 0.1061 - accuracy: 0.9767 - val_loss: 0.0950 - val_accuracy: 0.9790\n",
      "Epoch 13/40\n",
      "24/24 [==============================] - 6s 259ms/step - loss: 0.0999 - accuracy: 0.9766 - val_loss: 0.0914 - val_accuracy: 0.9790\n",
      "Epoch 14/40\n",
      "24/24 [==============================] - 6s 258ms/step - loss: 0.0944 - accuracy: 0.9767 - val_loss: 0.0888 - val_accuracy: 0.9790\n",
      "Epoch 15/40\n",
      "24/24 [==============================] - 6s 260ms/step - loss: 0.0893 - accuracy: 0.9769 - val_loss: 0.0866 - val_accuracy: 0.9790\n",
      "Epoch 16/40\n",
      "24/24 [==============================] - 6s 265ms/step - loss: 0.0851 - accuracy: 0.9769 - val_loss: 0.0849 - val_accuracy: 0.9790\n",
      "Epoch 17/40\n",
      "24/24 [==============================] - 6s 261ms/step - loss: 0.0814 - accuracy: 0.9774 - val_loss: 0.0830 - val_accuracy: 0.9786\n",
      "Epoch 18/40\n",
      "24/24 [==============================] - 6s 258ms/step - loss: 0.0774 - accuracy: 0.9778 - val_loss: 0.0818 - val_accuracy: 0.9790\n",
      "Epoch 19/40\n",
      "24/24 [==============================] - 6s 261ms/step - loss: 0.0734 - accuracy: 0.9781 - val_loss: 0.0804 - val_accuracy: 0.9790\n",
      "Epoch 20/40\n",
      "24/24 [==============================] - 6s 260ms/step - loss: 0.0697 - accuracy: 0.9784 - val_loss: 0.0800 - val_accuracy: 0.9793\n",
      "Epoch 21/40\n",
      "24/24 [==============================] - 6s 260ms/step - loss: 0.0665 - accuracy: 0.9792 - val_loss: 0.0796 - val_accuracy: 0.9800\n",
      "Epoch 22/40\n",
      "24/24 [==============================] - 6s 260ms/step - loss: 0.0636 - accuracy: 0.9803 - val_loss: 0.0787 - val_accuracy: 0.9810\n",
      "Epoch 23/40\n",
      "24/24 [==============================] - 6s 261ms/step - loss: 0.0604 - accuracy: 0.9819 - val_loss: 0.0786 - val_accuracy: 0.9807\n",
      "Epoch 24/40\n",
      "24/24 [==============================] - 6s 264ms/step - loss: 0.0575 - accuracy: 0.9828 - val_loss: 0.0779 - val_accuracy: 0.9803\n",
      "Epoch 25/40\n",
      "24/24 [==============================] - 6s 263ms/step - loss: 0.0543 - accuracy: 0.9841 - val_loss: 0.0778 - val_accuracy: 0.9810\n",
      "Epoch 26/40\n",
      "24/24 [==============================] - 6s 261ms/step - loss: 0.0511 - accuracy: 0.9847 - val_loss: 0.0779 - val_accuracy: 0.9817\n",
      "Epoch 27/40\n",
      "24/24 [==============================] - 6s 261ms/step - loss: 0.0480 - accuracy: 0.9853 - val_loss: 0.0781 - val_accuracy: 0.9813\n",
      "Epoch 28/40\n",
      "24/24 [==============================] - 6s 261ms/step - loss: 0.0449 - accuracy: 0.9862 - val_loss: 0.0787 - val_accuracy: 0.9810\n",
      "Epoch 29/40\n",
      "24/24 [==============================] - 6s 262ms/step - loss: 0.0418 - accuracy: 0.9876 - val_loss: 0.0794 - val_accuracy: 0.9810\n",
      "Epoch 30/40\n",
      "24/24 [==============================] - 6s 263ms/step - loss: 0.0389 - accuracy: 0.9884 - val_loss: 0.0798 - val_accuracy: 0.9813\n",
      "Epoch 31/40\n",
      "24/24 [==============================] - 6s 260ms/step - loss: 0.0362 - accuracy: 0.9897 - val_loss: 0.0809 - val_accuracy: 0.9817\n",
      "Epoch 32/40\n",
      "24/24 [==============================] - 6s 266ms/step - loss: 0.0334 - accuracy: 0.9897 - val_loss: 0.0819 - val_accuracy: 0.9817\n",
      "Epoch 33/40\n",
      "24/24 [==============================] - 6s 263ms/step - loss: 0.0308 - accuracy: 0.9909 - val_loss: 0.0830 - val_accuracy: 0.9820\n",
      "Epoch 34/40\n",
      "24/24 [==============================] - 6s 261ms/step - loss: 0.0283 - accuracy: 0.9920 - val_loss: 0.0844 - val_accuracy: 0.9807\n",
      "Epoch 35/40\n",
      "24/24 [==============================] - 6s 260ms/step - loss: 0.0260 - accuracy: 0.9929 - val_loss: 0.0858 - val_accuracy: 0.9803\n",
      "Epoch 35: early stopping\n"
     ]
    }
   ],
   "source": [
    "\n",
    "\n",
    "early_stop = EarlyStopping(monitor='val_loss', mode='min', verbose=1, patience=10)\n",
    "\n",
    "model.compile(optimizer='rmsprop', loss='binary_crossentropy', metrics=['accuracy'])\n",
    "\n",
    "# fit the model\n",
    "model.fit(X_train,\n",
    "         y_train,\n",
    "         epochs=40,\n",
    "         batch_size=512,\n",
    "         validation_data=(X_test, y_test),\n",
    "         verbose=1,\n",
    "         callbacks=[early_stop]\n",
    ")\n",
    "\n",
    "\n",
    "model.save(\"trained-model.h5\")"
   ]
  },
  {
   "cell_type": "code",
   "execution_count": 5,
   "id": "ae7c538a",
   "metadata": {},
   "outputs": [],
   "source": [
    "# model_prod = tf.keras.models.load_model('./trained-model.h5', custom_objects={'KerasLayer':hub.KerasLayer})\n"
   ]
  },
  {
   "cell_type": "code",
   "execution_count": 6,
   "id": "2ef6b26d",
   "metadata": {},
   "outputs": [
    {
     "name": "stdout",
     "output_type": "stream",
     "text": [
      "1/1 [==============================] - 0s 267ms/step\n",
      "[[0.01069523]]\n",
      "1/1 [==============================] - 0s 72ms/step\n",
      "[[5.824592e-05]]\n"
     ]
    }
   ],
   "source": [
    "for test in [\"Congratulations! You have been selected to receive a free gift worth $1000. Claim your prize by clicking this link and entering your personal information. Hurry, this offer is only available for a limited time!\",\"good video\"]:\n",
    "    out = model.predict([test])\n",
    "    print(out)"
   ]
  },
  {
   "cell_type": "code",
   "execution_count": null,
   "id": "8fc40ad6",
   "metadata": {},
   "outputs": [],
   "source": []
  }
 ],
 "metadata": {
  "kernelspec": {
   "display_name": "Python 3",
   "language": "python",
   "name": "python3"
  },
  "language_info": {
   "codemirror_mode": {
    "name": "ipython",
    "version": 3
   },
   "file_extension": ".py",
   "mimetype": "text/x-python",
   "name": "python",
   "nbconvert_exporter": "python",
   "pygments_lexer": "ipython3",
   "version": "3.11.3"
  },
  "vscode": {
   "interpreter": {
    "hash": "4e1d9a8909477db77738c33245c29c7265277ef753467dede8cf3f814cde494e"
   }
  }
 },
 "nbformat": 4,
 "nbformat_minor": 5
}
