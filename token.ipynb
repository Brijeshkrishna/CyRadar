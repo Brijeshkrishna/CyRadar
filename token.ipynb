{
 "cells": [
  {
   "cell_type": "code",
   "execution_count": 1,
   "metadata": {
    "ExecuteTime": {
     "end_time": "2023-06-28T05:13:04.981714876Z",
     "start_time": "2023-06-28T05:12:51.147451167Z"
    }
   },
   "outputs": [
    {
     "name": "stderr",
     "output_type": "stream",
     "text": [
      "[nltk_data] Downloading package stopwords to\n",
      "[nltk_data]     /home/brijesh/nltk_data...\n",
      "[nltk_data]   Package stopwords is already up-to-date!\n",
      "[nltk_data] Downloading package wordnet to /home/brijesh/nltk_data...\n",
      "[nltk_data]   Package wordnet is already up-to-date!\n"
     ]
    }
   ],
   "source": [
    "import numpy as np\n",
    "import pandas as pd\n",
    "\n",
    "import os\n",
    "os.environ[\"TF_CPP_MIN_LOG_LEVEL\"] = \"2\"\n",
    "\n",
    "import matplotlib.pyplot as plt\n",
    "import seaborn as sns\n",
    "\n",
    "import tensorflow as tf\n",
    "import tensorflow_hub as hub\n",
    "from tensorflow import  keras\n",
    "\n",
    "import wordcloud\n",
    "\n",
    "from sklearn.model_selection import train_test_split\n",
    "from sklearn.preprocessing import StandardScaler\n",
    "from imblearn.over_sampling import RandomOverSampler\n",
    "\n",
    "import re\n",
    "import string\n",
    "import nltk\n",
    "from nltk.corpus import stopwords\n",
    "\n",
    "nltk.download('stopwords')\n",
    "nltk.download('wordnet')\n",
    "\n",
    "import emoji\n",
    "\n",
    "from tensorflow.keras.preprocessing.text import Tokenizer\n",
    "from tensorflow.keras.preprocessing.sequence import pad_sequences\n",
    "\n",
    "import pandas as pd\n",
    "import seaborn as sns\n",
    "import string \n",
    "import re\n",
    "import nltk\n",
    "from sklearn.model_selection import train_test_split\n",
    "from sklearn.feature_extraction.text import CountVectorizer, TfidfTransformer\n",
    "from sklearn.naive_bayes import MultinomialNB\n",
    "from sklearn.tree import DecisionTreeClassifier\n",
    "from sklearn.ensemble import RandomForestClassifier\n",
    "from sklearn.metrics import accuracy_score"
   ]
  },
  {
   "cell_type": "code",
   "execution_count": 2,
   "metadata": {
    "ExecuteTime": {
     "end_time": "2023-06-28T05:13:59.301545694Z",
     "start_time": "2023-06-28T05:13:59.151580261Z"
    }
   },
   "outputs": [
    {
     "data": {
      "text/html": [
       "<div>\n",
       "<style scoped>\n",
       "    .dataframe tbody tr th:only-of-type {\n",
       "        vertical-align: middle;\n",
       "    }\n",
       "\n",
       "    .dataframe tbody tr th {\n",
       "        vertical-align: top;\n",
       "    }\n",
       "\n",
       "    .dataframe thead th {\n",
       "        text-align: right;\n",
       "    }\n",
       "</style>\n",
       "<table border=\"1\" class=\"dataframe\">\n",
       "  <thead>\n",
       "    <tr style=\"text-align: right;\">\n",
       "      <th></th>\n",
       "      <th>Comment</th>\n",
       "      <th>Spam</th>\n",
       "    </tr>\n",
       "  </thead>\n",
       "  <tbody>\n",
       "    <tr>\n",
       "      <th>0</th>\n",
       "      <td>Go until jurong point, crazy.. Available only ...</td>\n",
       "      <td>0</td>\n",
       "    </tr>\n",
       "    <tr>\n",
       "      <th>1</th>\n",
       "      <td>Ok lar... Joking wif u oni...</td>\n",
       "      <td>1</td>\n",
       "    </tr>\n",
       "    <tr>\n",
       "      <th>2</th>\n",
       "      <td>Free entry in 2 a wkly comp to win FA Cup fina...</td>\n",
       "      <td>1</td>\n",
       "    </tr>\n",
       "    <tr>\n",
       "      <th>3</th>\n",
       "      <td>U dun say so early hor... U c already then say...</td>\n",
       "      <td>0</td>\n",
       "    </tr>\n",
       "    <tr>\n",
       "      <th>4</th>\n",
       "      <td>Nah I don't think he goes to usf, he lives aro...</td>\n",
       "      <td>0</td>\n",
       "    </tr>\n",
       "    <tr>\n",
       "      <th>...</th>\n",
       "      <td>...</td>\n",
       "      <td>...</td>\n",
       "    </tr>\n",
       "    <tr>\n",
       "      <th>22259</th>\n",
       "      <td>Limited spots available in our investment semi...</td>\n",
       "      <td>1</td>\n",
       "    </tr>\n",
       "    <tr>\n",
       "      <th>22260</th>\n",
       "      <td>Unlock your potential with our personal develo...</td>\n",
       "      <td>1</td>\n",
       "    </tr>\n",
       "    <tr>\n",
       "      <th>22261</th>\n",
       "      <td>Attention small business owners! Email us at b...</td>\n",
       "      <td>1</td>\n",
       "    </tr>\n",
       "    <tr>\n",
       "      <th>22262</th>\n",
       "      <td>Limited edition offer: Email us at collectorse...</td>\n",
       "      <td>1</td>\n",
       "    </tr>\n",
       "    <tr>\n",
       "      <th>22263</th>\n",
       "      <td>Get insider access to our premium content. Ema...</td>\n",
       "      <td>1</td>\n",
       "    </tr>\n",
       "  </tbody>\n",
       "</table>\n",
       "<p>22148 rows × 2 columns</p>\n",
       "</div>"
      ],
      "text/plain": [
       "                                                 Comment  Spam\n",
       "0      Go until jurong point, crazy.. Available only ...     0\n",
       "1                          Ok lar... Joking wif u oni...     1\n",
       "2      Free entry in 2 a wkly comp to win FA Cup fina...     1\n",
       "3      U dun say so early hor... U c already then say...     0\n",
       "4      Nah I don't think he goes to usf, he lives aro...     0\n",
       "...                                                  ...   ...\n",
       "22259  Limited spots available in our investment semi...     1\n",
       "22260  Unlock your potential with our personal develo...     1\n",
       "22261  Attention small business owners! Email us at b...     1\n",
       "22262  Limited edition offer: Email us at collectorse...     1\n",
       "22263  Get insider access to our premium content. Ema...     1\n",
       "\n",
       "[22148 rows x 2 columns]"
      ]
     },
     "execution_count": 2,
     "metadata": {},
     "output_type": "execute_result"
    }
   ],
   "source": [
    "df1 = pd.read_csv(\"./datasets/sms.csv\",delimiter=',')\n",
    "df2 = pd.read_csv(\"datasets/yt.csv\",delimiter=',')\n",
    "df3 = pd.read_csv(\"datasets/my-collection.csv\",delimiter=',')\n",
    "df4 = pd.read_csv(\"datasets/spam-word.csv\",delimiter=',')\n",
    "df5 = pd.read_csv(\"datasets/emoji.csv\",delimiter=',')\n",
    "\n",
    "\n",
    "df = pd.concat([df1,df2,df3,df4,df5],ignore_index=True)\n",
    "\n",
    "\n",
    "\n",
    "# df = df[[\"comment\", \"spam\"]]\n",
    "\n",
    "df = df.drop_duplicates()\n",
    "df = df.dropna()\n",
    "\n",
    "# df[\"Spam\"]  = df[\"Spam\"].astype(int)\n",
    "# df[\"Comment\"]  = df[\"Comment\"].astype(str)\n",
    "\n",
    "\n",
    "\n",
    "df"
   ]
  },
  {
   "cell_type": "markdown",
   "metadata": {},
   "source": [
    "Preprocessing"
   ]
  },
  {
   "cell_type": "code",
   "execution_count": 5,
   "metadata": {
    "ExecuteTime": {
     "end_time": "2023-06-26T07:09:58.792539697Z",
     "start_time": "2023-06-26T07:09:58.684081487Z"
    }
   },
   "outputs": [],
   "source": [
    "df_test = pd.concat([df1,df2,df3,df4,df5], ignore_index=True)\n"
   ]
  },
  {
   "cell_type": "code",
   "execution_count": 6,
   "metadata": {
    "ExecuteTime": {
     "end_time": "2023-06-26T07:09:59.537292421Z",
     "start_time": "2023-06-26T07:09:59.485988757Z"
    }
   },
   "outputs": [],
   "source": [
    "spam_words = [ \"Urgent\", \"Exclusive\", \"Limited time\", \"Free\", \"Guaranteed\", \"Act now\", \"Discount\", \"Special offer\", \"Prize\", \"Instant\",    \"Cash\", \"Save\", \"Win\", \"Best\", \"Secret\", \"Incredible\", \"Congratulations\", \"Approved\", \"Risk free\", \"Hidden\", \"Bonus\",    \"Sale\", \"Amazing\", \"Extra cash\", \"Opportunity\", \"Easy\", \"Double your\", \"Best price\", \"Cash back\", \"Deal\", \"Earn\",    \"Money\", \"No obligation\", \"Profit\", \"Results\", \"Exciting\", \"Unbelievable\", \"Jackpot\", \"Fantastic\", \"Instant access\",    \"Million dollars\", \"Discounted\", \"Last chance\", \"Exclusive offer\", \"Big savings\", \"Limited offer\", \"Free trial\",    \"Special promotion\", \"Secret revealed\", \"Valuable\", \"Money-back guarantee\", \"Lowest price\", \"Save money\", \"Make money\",    \"No risk\", \"Exclusive deal\", \"Limited supply\", \"Huge\", \"Incredible offer\", \"Prize winner\", \"Earn extra income\",    \"Limited spots\", \"New offer\", \"Best deal\", \"Don't miss out\", \"Great savings\", \"Top offer\", \"Double your income\",    \"Discount code\", \"Fast cash\", \"Top-rated\", \"Best value\", \"No cost\", \"Elite\", \"Act fast\", \"Unbeatable\", \"Cash prize\",    \"Limited availability\", \"Special discount\", \"Quick cash\", \"No catch\", \"Instant approval\", \"Big discount\", \"Easy money\",    \"Insider\", \"Invitation\", \"Free shipping\", \"Huge discount\", \"Extra income\", \"Secret formula\", \"No strings attached\",    \"Money-making\", \"Dream come true\", \"Massive\", \"Free gift\", \"Incredible opportunity\", \"Risk-free trial\", \"Instant money\",    \"Special price\", \"No purchase necessary\"]\n"
   ]
  },
  {
   "cell_type": "code",
   "execution_count": 7,
   "metadata": {
    "ExecuteTime": {
     "end_time": "2023-06-26T07:10:23.580750496Z",
     "start_time": "2023-06-26T07:10:00.636195039Z"
    }
   },
   "outputs": [],
   "source": [
    "pattern = re.compile('[{}]'.format(re.escape(string.punctuation)))\n",
    "df['Comment'] = df['Comment'].apply(lambda text: \" \".join([word.lower() for word in pattern.sub('', text.lower().strip()).split() if word.lower() not in set(stopwords.words('english'))]))"
   ]
  },
  {
   "cell_type": "code",
   "execution_count": 8,
   "metadata": {
    "ExecuteTime": {
     "end_time": "2023-06-26T07:10:24.252535340Z",
     "start_time": "2023-06-26T07:10:23.634421636Z"
    }
   },
   "outputs": [],
   "source": [
    "df['length'] = df['Comment'].str.len().astype(int)\n",
    "df['currency']=df['Comment'].str.contains('₤|₨|€|₹|₿|$',regex=False).astype(int)\n",
    "df['spam_word']=df['Comment'].str.contains('|'.join(i.lower().strip() for i in spam_words ),regex=True).astype(int)\n",
    "df[\"emoji\"] = df['Comment'].str.contains('💭|🔝|🆗|🎉|🎊|📯|🙌|😂|💸|👉|📢|🚀|💲|💣|🔱|💼|🆙|⏳|✨|💌|💎|🆕|🔞|💡|💰|👑|⭐|🌟|🎤|⚡|📈|💵|🏆|💪|🔓|🆓|🎰|⌚|🚨|💢|📮|🔥|🎈|🎥|🔔|💯|🎶|🔗|🎁|📚|🔊|👍|👏|📱|📝|🤑|🏅|🔒|📣|💥').astype(int)\n",
    "\n",
    "df['contain']=df['Comment'].str.contains('[0-9]*%|T&C',regex=True).astype(int)\n",
    "df['contain']=df['contain'] | df['Comment'].str.contains(r\"https?://\\S+|www\\.\\S+\",regex=True).astype(int)\n",
    "df['contain']=df['contain'] | df['Comment'].str.contains(\"free|Free\").astype(int)\n",
    "\n",
    "df['email']=df['Comment'].str.contains(r\"[\\w]+@[\\w]+\\.\\w+\",regex=True).astype(int)\n",
    "df['phone']=df['Comment'].str.contains(r\"\\+?[0-9]?[0-9]? ?0?[0-9]{10}\",regex=True).astype(int)\n"
   ]
  },
  {
   "cell_type": "code",
   "execution_count": 9,
   "metadata": {
    "ExecuteTime": {
     "end_time": "2023-06-26T07:10:24.523827905Z",
     "start_time": "2023-06-26T07:10:24.295141966Z"
    }
   },
   "outputs": [
    {
     "data": {
      "text/html": [
       "<div>\n",
       "<style scoped>\n",
       "    .dataframe tbody tr th:only-of-type {\n",
       "        vertical-align: middle;\n",
       "    }\n",
       "\n",
       "    .dataframe tbody tr th {\n",
       "        vertical-align: top;\n",
       "    }\n",
       "\n",
       "    .dataframe thead th {\n",
       "        text-align: right;\n",
       "    }\n",
       "</style>\n",
       "<table border=\"1\" class=\"dataframe\">\n",
       "  <thead>\n",
       "    <tr style=\"text-align: right;\">\n",
       "      <th></th>\n",
       "      <th>Comment</th>\n",
       "      <th>Spam</th>\n",
       "      <th>length</th>\n",
       "      <th>currency</th>\n",
       "      <th>spam_word</th>\n",
       "      <th>emoji</th>\n",
       "      <th>contain</th>\n",
       "      <th>email</th>\n",
       "      <th>phone</th>\n",
       "    </tr>\n",
       "  </thead>\n",
       "  <tbody>\n",
       "    <tr>\n",
       "      <th>0</th>\n",
       "      <td>go jurong point crazy available bugis n great ...</td>\n",
       "      <td>0</td>\n",
       "      <td>82</td>\n",
       "      <td>0</td>\n",
       "      <td>0</td>\n",
       "      <td>0</td>\n",
       "      <td>0</td>\n",
       "      <td>0</td>\n",
       "      <td>0</td>\n",
       "    </tr>\n",
       "    <tr>\n",
       "      <th>1</th>\n",
       "      <td>ok lar joking wif u oni</td>\n",
       "      <td>1</td>\n",
       "      <td>23</td>\n",
       "      <td>0</td>\n",
       "      <td>0</td>\n",
       "      <td>0</td>\n",
       "      <td>0</td>\n",
       "      <td>0</td>\n",
       "      <td>0</td>\n",
       "    </tr>\n",
       "    <tr>\n",
       "      <th>2</th>\n",
       "      <td>free entry 2 wkly comp win fa cup final tkts 2...</td>\n",
       "      <td>1</td>\n",
       "      <td>135</td>\n",
       "      <td>0</td>\n",
       "      <td>1</td>\n",
       "      <td>0</td>\n",
       "      <td>1</td>\n",
       "      <td>0</td>\n",
       "      <td>1</td>\n",
       "    </tr>\n",
       "    <tr>\n",
       "      <th>3</th>\n",
       "      <td>u dun say early hor u c already say</td>\n",
       "      <td>0</td>\n",
       "      <td>35</td>\n",
       "      <td>0</td>\n",
       "      <td>0</td>\n",
       "      <td>0</td>\n",
       "      <td>0</td>\n",
       "      <td>0</td>\n",
       "      <td>0</td>\n",
       "    </tr>\n",
       "    <tr>\n",
       "      <th>4</th>\n",
       "      <td>nah dont think goes usf lives around though</td>\n",
       "      <td>0</td>\n",
       "      <td>43</td>\n",
       "      <td>0</td>\n",
       "      <td>0</td>\n",
       "      <td>0</td>\n",
       "      <td>0</td>\n",
       "      <td>0</td>\n",
       "      <td>0</td>\n",
       "    </tr>\n",
       "  </tbody>\n",
       "</table>\n",
       "</div>"
      ],
      "text/plain": [
       "                                             Comment  Spam  length  currency   \n",
       "0  go jurong point crazy available bugis n great ...     0      82         0  \\\n",
       "1                            ok lar joking wif u oni     1      23         0   \n",
       "2  free entry 2 wkly comp win fa cup final tkts 2...     1     135         0   \n",
       "3                u dun say early hor u c already say     0      35         0   \n",
       "4        nah dont think goes usf lives around though     0      43         0   \n",
       "\n",
       "   spam_word  emoji  contain  email  phone  \n",
       "0          0      0        0      0      0  \n",
       "1          0      0        0      0      0  \n",
       "2          1      0        1      0      1  \n",
       "3          0      0        0      0      0  \n",
       "4          0      0        0      0      0  "
      ]
     },
     "execution_count": 9,
     "metadata": {},
     "output_type": "execute_result"
    }
   ],
   "source": [
    "\n",
    "\n",
    "# df[\"emoji\"] = df['Comment'].str.contains('💭|🔝|🆗|🎉|🎊|📯|🙌|😂|💸|👉|📢|🚀|💲|💣|🔱|💼|🆙|⏳|✨|💌|💎|🆕|🔞|💡|💰|👑|⭐|🌟|🎤|⚡|📈|💵|🏆|💪|🔓|🆓|🎰|⌚|🚨|💢|📮|🔥|🎈|🎥|🔔|💯|🎶|🔗|🎁|📚|🔊|👍|👏|📱|📝|🤑|🏅|🔒|📣|💥').astype(int)\n",
    "\n",
    "# df[\"flag\"] = df['Comment'].str.contains('🇦🇫|🇦🇱|🇩🇿|🇦🇩|🇦🇴|🇦🇷|🇦🇲|🇦🇼|🇦🇺|🇦🇹|🇦🇿|🇧🇸|🇧🇭|🇧🇩|🇧🇧|🇧🇾|🇧🇪|🇧🇿|🇧🇯|🇧🇲|🇧🇹|🇧🇴|🇧🇦|🇧🇼|🇧🇷|🇧🇳|🇧🇬|🇧🇫|🇧🇮|🇨🇻|🇰🇭|🇨🇲|🇨🇦|🇮🇨|🇰🇾|🇨🇫|🇹🇩|🇨🇱|🇨🇳|🇨🇽|🇨🇨|🇨🇴|🇰🇲|🇨🇬|🇨🇩|🇨🇰|🇨🇷|🇨🇮|🇭🇷|🇨🇺|🇨🇼|🇨🇾|🇨🇿|🇩🇰|🇩🇯|🇩🇲|🇩🇴|🇪🇨|🇪🇬|🇸🇻|🇬🇶|🇪🇷|🇪🇪|🇪🇹|🇫🇰|🇫🇴|🇫🇯|🇫🇮|🇫🇷|🇬🇫|🇵🇫|🇹🇫|🇬🇦|🇬🇲|🇬🇪|🇩🇪|🇬🇭|🇬🇮|🇬🇷|🇬🇱|🇬🇩|🇬🇵|🇬🇺|🇬🇹|🇬🇬|🇬🇳|🇬🇼|🇬🇾|🇭🇹|🇭🇳|🇭🇰|🇭🇺|🇮🇸|🇮🇳|🇮🇩|🇮🇷|🇮🇶|🇮🇪|🇮🇲|🇮🇱|🇮🇹|🇯🇲|🇯🇵|🇯🇪|🇯🇴|🇰🇿|🇰🇪|🇰🇮|🇽🇰|🇰🇼|🇰🇬|🇱🇦|🇱🇻|🇱🇧|🇱🇸|🇱🇷|🇱🇾|🇱🇮|🇱🇹|🇱🇺|🇲🇴|🇲🇰|🇲🇬|🇲🇼|🇲🇾|🇲🇻|🇲🇱|🇲🇹|🇲🇭|🇲🇶|🇲🇷|🇲🇺|🇾🇹|🇲🇽|🇫🇲|🇲🇩|🇲🇨|🇲🇳|🇲🇪|🇲🇸|🇲🇦|🇲🇿|🇲🇲|🇳🇦|🇳🇷|🇳🇵|🇳🇱|🇳🇨|🇳🇿|🇳🇮|🇳🇪|🇳🇬|🇳🇺|🇳🇫|🇲🇵|🇰🇵|🇳🇴|🇴🇲|🇵🇰|🇵🇼|🇵🇸|🇵🇦|🇵🇬|🇵🇾|🇵🇪|🇵🇭|🇵🇳|🇵🇱|🇵🇹|🇵🇷|🇶🇦|🇷🇴|🇷🇺|🇷🇼|🇧🇱|🇸🇭|🇰🇳|🇱🇨|🇲🇫|🇵🇲|🇻🇨|🇼🇸|🇸🇲|🇸🇹|🇸🇦|🇸🇳|🇷🇸|🇸🇨|🇸🇱|🇸🇬|🇸🇽|🇸🇰|🇸🇮|🇸🇧|🇸🇴|🇿🇦|🇬🇸|🇰🇷|🇸🇸|🇪🇸|🇱🇰|🇸🇩|🇸🇷|🇸🇯|🇸🇿|🇸🇪|🇨🇭|🇸🇾|🇹🇼|🇹🇯|🇹🇿|🇹🇭|🇹🇱|🇹🇬|🇹🇰|🇹🇴|🇹🇹|🇹🇳|🇹🇷|🇹🇲|🇹🇨|🇹🇻|🇺🇬|🇺🇦|🇦🇪|🇬🇧|🇺🇸|🇺🇾|🇺🇿|🇻🇺|🇻🇦|🇻🇪|🇻🇳|🇻🇮|🇻🇬|🇼🇫|🇪🇭|🇾🇪|🇿🇲|🇿🇼').map({False:0,True:1})\n",
    "\n",
    "df['contain']=df['Comment'].str.contains('[0-9]*%|T&C',regex=True).astype(int)\n",
    "df['contain']=df['contain'] | df['Comment'].str.contains(r\"https?://\\S+|www\\.\\S+\",regex=True).astype(int)\n",
    "df['contain']=df['contain'] | df['Comment'].str.contains(\"free|Free\").astype(int)\n",
    "\n",
    "df['email']=df['Comment'].str.contains(r\"[\\w]+@[\\w]+\\.\\w+\",regex=True).astype(int)\n",
    "df['phone']=df['Comment'].str.contains(r\"\\+?[0-9]?[0-9]? ?0?[0-9]{10}\",regex=True).astype(int)\n",
    "\n",
    "\n",
    "df.head()"
   ]
  },
  {
   "cell_type": "markdown",
   "metadata": {},
   "source": [
    "Remove"
   ]
  },
  {
   "cell_type": "code",
   "execution_count": 10,
   "metadata": {
    "ExecuteTime": {
     "end_time": "2023-06-26T07:10:27.686999174Z",
     "start_time": "2023-06-26T07:10:24.537907392Z"
    }
   },
   "outputs": [],
   "source": [
    "df[\"Comment\"] = df[\"Comment\"].map(lambda  text :  re.compile(r\"(\\+[0-9]{2})? ?\\d{10}\").sub(r\"\", text) )\n",
    "df[\"Comment\"] = df[\"Comment\"].map(lambda  text :  re.compile(r\"[\\w]+@[\\w]+\\.\\w+\").sub(r\"\", text) )\n",
    "df[\"Comment\"] = df[\"Comment\"].map(lambda  text :  re.compile(r\"https?://\\S+|www\\.\\S+\").sub(r\"\", text))\n",
    "df[\"Comment\"] = df[\"Comment\"].map(lambda  text :  emoji.replace_emoji(text))\n",
    "\n",
    "wordlem=nltk.WordNetLemmatizer()\n",
    "\n",
    "df[\"Comment\"] = df[\"Comment\"].map(lambda text : \" \".join([wordlem.lemmatize(i.strip()) for i in re.split(\"\\W+\",text) ]))\n",
    "df[\"Comment\"] = df[\"Comment\"].map(lambda  text :  text.strip() )\n"
   ]
  },
  {
   "cell_type": "code",
   "execution_count": 11,
   "metadata": {
    "ExecuteTime": {
     "end_time": "2023-06-26T07:10:27.729710077Z",
     "start_time": "2023-06-26T07:10:27.727637536Z"
    }
   },
   "outputs": [],
   "source": [
    "y=pd.DataFrame(df.Spam)\n",
    "x=df.drop([\"Spam\"],axis=1)"
   ]
  },
  {
   "cell_type": "code",
   "execution_count": 13,
   "metadata": {
    "ExecuteTime": {
     "end_time": "2023-06-26T07:10:27.772391874Z",
     "start_time": "2023-06-26T07:10:27.728079648Z"
    }
   },
   "outputs": [
    {
     "name": "stdout",
     "output_type": "stream",
     "text": [
      "go jurong point crazy available bugis n great world la e buffet cine got amore wat\n"
     ]
    }
   ],
   "source": [
    "print(df['Comment'][0])\n"
   ]
  },
  {
   "cell_type": "code",
   "execution_count": null,
   "metadata": {
    "ExecuteTime": {
     "end_time": "2023-06-26T07:10:27.821881113Z",
     "start_time": "2023-06-26T07:10:27.773076663Z"
    }
   },
   "outputs": [],
   "source": [
    "x_train,x_test,y_train,y_test=train_test_split(x,y,train_size=0.8,test_size=0.2,random_state=0)\n"
   ]
  },
  {
   "cell_type": "code",
   "execution_count": 12,
   "metadata": {},
   "outputs": [],
   "source": [
    "# tokenizer = Tokenizer()\n",
    "\n",
    "# tokenizer.fit_on_texts(x_train['Comment'])\n",
    "\n",
    "# train_string_sequences = tokenizer.texts_to_sequences(x_train['Comment'])\n",
    "# test_string_sequences = tokenizer.texts_to_sequences(x_test['Comment'])\n",
    "\n",
    "# max_string_sequence_length = 5000\n",
    "# train_string_data = pad_sequences(train_string_sequences, maxlen=max_string_sequence_length)\n",
    "# test_string_data = pad_sequences(test_string_sequences, maxlen=max_string_sequence_length)\n",
    "\n"
   ]
  },
  {
   "cell_type": "code",
   "execution_count": 13,
   "metadata": {},
   "outputs": [],
   "source": [
    "# embed = hub.load(\"https://tfhub.dev/google/nnlm-en-dim50/2\")"
   ]
  },
  {
   "cell_type": "code",
   "execution_count": 14,
   "metadata": {},
   "outputs": [],
   "source": [
    "# train_string_data = embed(x_train['Comment'])\n",
    "# test_string_data = embed(x_test[\"Comment\"])\n"
   ]
  },
  {
   "cell_type": "code",
   "execution_count": 15,
   "metadata": {
    "ExecuteTime": {
     "end_time": "2023-06-26T06:06:07.682492997Z",
     "start_time": "2023-06-26T06:06:06.364595347Z"
    }
   },
   "outputs": [],
   "source": [
    "# # # input_data = {column: x_train[column].values for column in x_train.columns}\n",
    "# # # input_data_test = {column: x_val[column].values for column in x_val.columns}\n",
    "# x1 = x_train\n",
    "# X_train=pd.DataFrame([x_train[\"Comment\"],np.asarray(x_train[\"length\"]).astype(np.float32) ,np.asarray(x_train[\"currency\"]).astype(np.float32),np.asarray(x_train[\"spam_word\"]).astype(np.float32),np.asarray(x_train[\"emoji\"]).astype(np.float32),np.asarray(x_train[\"contain\"]).astype(np.float32),np.asarray(x_train[\"email\"]).astype(np.float32),np.asarray(x_train[\"phone\"])])\n",
    "\n",
    "# X_test=pd.DataFrame ( [x_test[\"Comment\"], x_test[\"length\"],x_test[\"currency\"] , x_test[\"spam_word\"] , x_test[\"emoji\"] , x_test[\"contain\"], x_test[\"email\"], x_test[\"phone\"]])\n",
    "# #,currency_input,spam_word_input,emoji_input,email_input,phone_input\n",
    "# #\n",
    "# x_train = x_train.drop('Comment',axis=1)\n",
    "# x_train = tf.convert_to_tensor(x_train.values.astype(np.int32))\n"
   ]
  },
  {
   "cell_type": "code",
   "execution_count": 19,
   "metadata": {
    "ExecuteTime": {
     "end_time": "2023-06-26T07:10:27.876646241Z",
     "start_time": "2023-06-26T07:10:27.820354069Z"
    }
   },
   "outputs": [],
   "source": [
    "X_train=[x_train[\"Comment\"],x_train[\"length\"],x_train[\"currency\"] , x_train[\"spam_word\"] , x_train[\"emoji\"] , x_train[\"contain\"], x_train[\"email\"], x_train[\"phone\"]]\n",
    "\n",
    "X_test=[ [x_test[\"Comment\"], x_test[\"length\"],x_test[\"currency\"] , x_test[\"spam_word\"] , x_test[\"emoji\"] , x_test[\"contain\"], x_test[\"email\"], x_test[\"phone\"]]]"
   ]
  },
  {
   "cell_type": "code",
   "execution_count": 21,
   "metadata": {
    "ExecuteTime": {
     "end_time": "2023-06-26T07:10:33.960133619Z",
     "start_time": "2023-06-26T07:10:32.805374597Z"
    }
   },
   "outputs": [
    {
     "name": "stdout",
     "output_type": "stream",
     "text": [
      "Model: \"model_1\"\n",
      "__________________________________________________________________________________________________\n",
      " Layer (type)                   Output Shape         Param #     Connected to                     \n",
      "==================================================================================================\n",
      " Currency (InputLayer)          [(None, 1)]          0           []                               \n",
      "                                                                                                  \n",
      " Spam Words (InputLayer)        [(None, 1)]          0           []                               \n",
      "                                                                                                  \n",
      " Contain (InputLayer)           [(None, 1)]          0           []                               \n",
      "                                                                                                  \n",
      " Emoji (InputLayer)             [(None, 1)]          0           []                               \n",
      "                                                                                                  \n",
      " Email (InputLayer)             [(None, 1)]          0           []                               \n",
      "                                                                                                  \n",
      " Phone (InputLayer)             [(None, 1)]          0           []                               \n",
      "                                                                                                  \n",
      " currency_layer (Dense)         (None, 8)            16          ['Currency[0][0]']               \n",
      "                                                                                                  \n",
      " spam_word_layer (Dense)        (None, 8)            16          ['Spam Words[0][0]']             \n",
      "                                                                                                  \n",
      " conatian_layer (Dense)         (None, 8)            16          ['Contain[0][0]']                \n",
      "                                                                                                  \n",
      " emoji_layer (Dense)            (None, 8)            16          ['Emoji[0][0]']                  \n",
      "                                                                                                  \n",
      " email_layer (Dense)            (None, 8)            16          ['Email[0][0]']                  \n",
      "                                                                                                  \n",
      " phone_layer (Dense)            (None, 8)            16          ['Phone[0][0]']                  \n",
      "                                                                                                  \n",
      " Comment (InputLayer)           [(None,)]            0           []                               \n",
      "                                                                                                  \n",
      " Length (InputLayer)            [(None, 1)]          0           []                               \n",
      "                                                                                                  \n",
      " dropout_13 (Dropout)           (None, 8)            0           ['currency_layer[0][0]']         \n",
      "                                                                                                  \n",
      " dropout_14 (Dropout)           (None, 8)            0           ['spam_word_layer[0][0]']        \n",
      "                                                                                                  \n",
      " dropout_16 (Dropout)           (None, 8)            0           ['conatian_layer[0][0]']         \n",
      "                                                                                                  \n",
      " dropout_15 (Dropout)           (None, 8)            0           ['emoji_layer[0][0]']            \n",
      "                                                                                                  \n",
      " dropout_17 (Dropout)           (None, 8)            0           ['email_layer[0][0]']            \n",
      "                                                                                                  \n",
      " dropout_18 (Dropout)           (None, 8)            0           ['phone_layer[0][0]']            \n",
      "                                                                                                  \n",
      " NNLM_Hub (KerasLayer)          (None, 50)           48190600    ['Comment[0][0]']                \n",
      "                                                                                                  \n",
      " length_layer1 (Dense)          (None, 120)          240         ['Length[0][0]']                 \n",
      "                                                                                                  \n",
      " currency_layer1 (Dense)        (None, 8)            72          ['dropout_13[0][0]']             \n",
      "                                                                                                  \n",
      " spam_word_layer1 (Dense)       (None, 8)            72          ['dropout_14[0][0]']             \n",
      "                                                                                                  \n",
      " conatian_layer1 (Dense)        (None, 8)            72          ['dropout_16[0][0]']             \n",
      "                                                                                                  \n",
      " emoji_layer1 (Dense)           (None, 8)            72          ['dropout_15[0][0]']             \n",
      "                                                                                                  \n",
      " email_layer1 (Dense)           (None, 8)            72          ['dropout_17[0][0]']             \n",
      "                                                                                                  \n",
      " phone_layer1 (Dense)           (None, 8)            72          ['dropout_18[0][0]']             \n",
      "                                                                                                  \n",
      " dense_6 (Dense)                (None, 2500)         127500      ['NNLM_Hub[0][0]']               \n",
      "                                                                                                  \n",
      " concatenate_4 (Concatenate)    (None, 136)          0           ['length_layer1[0][0]',          \n",
      "                                                                  'currency_layer1[0][0]',        \n",
      "                                                                  'spam_word_layer1[0][0]']       \n",
      "                                                                                                  \n",
      " concatenate_5 (Concatenate)    (None, 32)           0           ['conatian_layer1[0][0]',        \n",
      "                                                                  'emoji_layer1[0][0]',           \n",
      "                                                                  'email_layer1[0][0]',           \n",
      "                                                                  'phone_layer1[0][0]']           \n",
      "                                                                                                  \n",
      " dropout_10 (Dropout)           (None, 2500)         0           ['dense_6[0][0]']                \n",
      "                                                                                                  \n",
      " concat_layer_level1_1_dense (D  (None, 6)           822         ['concatenate_4[0][0]']          \n",
      " ense)                                                                                            \n",
      "                                                                                                  \n",
      " concat_layer_level1_2_dense (D  (None, 8)           264         ['concatenate_5[0][0]']          \n",
      " ense)                                                                                            \n",
      "                                                                                                  \n",
      " dense_7 (Dense)                (None, 100)          250100      ['dropout_10[0][0]']             \n",
      "                                                                                                  \n",
      " concatenate_6 (Concatenate)    (None, 14)           0           ['concat_layer_level1_1_dense[0][\n",
      "                                                                 0]',                             \n",
      "                                                                  'concat_layer_level1_2_dense[0][\n",
      "                                                                 0]']                             \n",
      "                                                                                                  \n",
      " dropout_11 (Dropout)           (None, 100)          0           ['dense_7[0][0]']                \n",
      "                                                                                                  \n",
      " sub_layer (Dense)              (None, 48)           720         ['concatenate_6[0][0]']          \n",
      "                                                                                                  \n",
      " dense_8 (Dense)                (None, 50)           5050        ['dropout_11[0][0]']             \n",
      "                                                                                                  \n",
      " dropout_19 (Dropout)           (None, 48)           0           ['sub_layer[0][0]']              \n",
      "                                                                                                  \n",
      " concatenate_7 (Concatenate)    (None, 98)           0           ['dense_8[0][0]',                \n",
      "                                                                  'dropout_19[0][0]']             \n",
      "                                                                                                  \n",
      " dense_9 (Dense)                (None, 300)          29700       ['concatenate_7[0][0]']          \n",
      "                                                                                                  \n",
      " dense_10 (Dense)               (None, 150)          45150       ['dense_9[0][0]']                \n",
      "                                                                                                  \n",
      " dense_11 (Dense)               (None, 100)          15100       ['dense_10[0][0]']               \n",
      "                                                                                                  \n",
      " dense (Dense)                  (None, 64)           6464        ['dense_11[0][0]']               \n",
      "                                                                                                  \n",
      " output (Dense)                 (None, 1)            65          ['dense[0][0]']                  \n",
      "                                                                                                  \n",
      "==================================================================================================\n",
      "Total params: 48,672,303\n",
      "Trainable params: 48,672,303\n",
      "Non-trainable params: 0\n",
      "__________________________________________________________________________________________________\n"
     ]
    }
   ],
   "source": [
    "\n",
    "string_input = tf.keras.layers.Input(shape=[], dtype=tf.string , name=\"Comment\")\n",
    "length_input   = tf.keras.layers.Input(shape=(1,),name=\"Length\",dtype=tf.float32)\n",
    "currency_input = tf.keras.layers.Input(shape=(1,),name=\"Currency\",dtype=tf.float32)\n",
    "spam_word_input = tf.keras.layers.Input(shape=(1,),name=\"Spam Words\",dtype=tf.float32)\n",
    "emoji_input = tf.keras.layers.Input(shape=(1,),name=\"Emoji\",dtype=tf.float32)\n",
    "contain_input = tf.keras.layers.Input(shape=(1,),name=\"Contain\",dtype=tf.float32)\n",
    "email_input = tf.keras.layers.Input(shape=(1,),name=\"Email\",dtype=tf.float32)\n",
    "phone_input = tf.keras.layers.Input(shape=(1,),name=\"Phone\",dtype=tf.float32)\n",
    "\n",
    "#Comment\n",
    "hub_layer = hub.KerasLayer(\"https://tfhub.dev/google/nnlm-en-dim50/2\", dtype=tf.string, trainable=True,name=\"NNLM_Hub\")\n",
    "embedding_layer = hub_layer(string_input)\n",
    "s1= tf.keras.layers.Dense(2500, activation='relu')(embedding_layer)\n",
    "drop1 = tf.keras.layers.Dropout(0.01)(s1)\n",
    "s2 = tf.keras.layers.Dense(100, activation='relu')(drop1)\n",
    "drop2 = tf.keras.layers.Dropout(0.01)(s2)\n",
    "s3 = tf.keras.layers.Dense(50, activation='relu',kernel_regularizer=tf.keras.regularizers.l2(0.01))(drop2)\n",
    "\n",
    "\n",
    "length_layer = tf.keras.layers.Dense(256, activation='relu',name=\"length_layer\")(length_input)\n",
    "length_layer = tf.keras.layers.Dropout(0.5)(length_layer)\n",
    "length_layer = tf.keras.layers.Dense(120, activation='relu',name=\"length_layer1\")(length_input)\n",
    "\n",
    "\n",
    "currency_layer = tf.keras.layers.Dense(8, activation='relu',name=\"currency_layer\")(currency_input)\n",
    "currency_layer = tf.keras.layers.Dropout(0.5)(currency_layer)\n",
    "currency_layer = tf.keras.layers.Dense(8, activation='relu',name=\"currency_layer1\")(currency_layer)\n",
    "\n",
    "# currency_layer = tf.keras.layers.Average(name=\"currency_avg\")(currency_layer)\n",
    "\n",
    "spam_word_layer = tf.keras.layers.Dense(8, activation='relu',name=\"spam_word_layer\")(spam_word_input)\n",
    "spam_word_layer = tf.keras.layers.Dropout(0.5)(spam_word_layer)\n",
    "spam_word_layer = tf.keras.layers.Dense(8, activation='relu',name=\"spam_word_layer1\")(spam_word_layer)\n",
    "# spam_word_layer = tf.keras.layers.Average(name=\"spamword_avg\")(spam_word_layer)\n",
    "\n",
    "emoji_layer = tf.keras.layers.Dense(8, activation='relu',name=\"emoji_layer\")(emoji_input)\n",
    "emoji_layer = tf.keras.layers.Dropout(0.5)(emoji_layer)\n",
    "emoji_layer = tf.keras.layers.Dense(8, activation='relu',name=\"emoji_layer1\")(emoji_layer)\n",
    "# emoji_layer = tf.keras.layers.Average(name=\"emoji_avg\")(emoji_layer)\n",
    "\n",
    "contain_layer = tf.keras.layers.Dense(8, activation='relu',name=\"conatian_layer\")(contain_input)\n",
    "contain_layer = tf.keras.layers.Dropout(0.5)(contain_layer)\n",
    "contain_layer = tf.keras.layers.Dense(8, activation='relu',name=\"conatian_layer1\")(contain_layer)\n",
    "# contain_layer = tf.keras.layers.Average(name=\"conatain_avg\")(contain_layer)\n",
    "\n",
    "email_layer = tf.keras.layers.Dense(8, activation='relu',name=\"email_layer\")(email_input)\n",
    "email_layer = tf.keras.layers.Dropout(0.5)(email_layer)\n",
    "email_layer = tf.keras.layers.Dense(8, activation='relu',name=\"email_layer1\")(email_layer)\n",
    "# email_layer = tf.keras.layers.Average(name=\"email_avg\")(email_layer)\n",
    "\n",
    "phone_layer = tf.keras.layers.Dense(8, activation='relu',name=\"phone_layer\")(phone_input)\n",
    "phone_layer = tf.keras.layers.Dropout(0.5)(phone_layer)\n",
    "phone_layer = tf.keras.layers.Dense(8, activation='relu',name=\"phone_layer1\")(phone_layer)\n",
    "# phone_layer = tf.keras.layers.Average(name=\"phone_avg\")(phone_layer)\n",
    "\n",
    "\n",
    "concat_layer_level1_1 = tf.keras.layers.concatenate([length_layer,currency_layer,spam_word_layer])\n",
    "concat_layer_level1_2 = tf.keras.layers.concatenate([contain_layer,emoji_layer,email_layer,phone_layer])\n",
    "\n",
    "\n",
    "\n",
    "concat_layer_level1_1_dense = tf.keras.layers.Dense(6, activation='relu',name=\"concat_layer_level1_1_dense\")(concat_layer_level1_1)\n",
    "concat_layer_level1_2_dense = tf.keras.layers.Dense(8, activation='relu',name=\"concat_layer_level1_2_dense\")(concat_layer_level1_2)\n",
    "\n",
    "concat_layer_level = tf.keras.layers.concatenate([concat_layer_level1_1_dense,concat_layer_level1_2_dense])\n",
    "sub_layer = tf.keras.layers.Dense(48, activation='relu',name=\"sub_layer\")(concat_layer_level)\n",
    "con  = tf.keras.layers.Dropout(rate=0.2)(sub_layer)\n",
    "\n",
    "\n",
    "# Concatenate all input branches\n",
    "concat_layer = tf.keras.layers.concatenate([s3,con ])\n",
    "\n",
    "# Add dense and output layers\n",
    "f1= tf.keras.layers.Dense(300, activation='relu')(concat_layer)\n",
    "f2 = tf.keras.layers.Dense(150, activation='relu')(f1)\n",
    "f3 = tf.keras.layers.Dense(100, activation='relu')(f2)\n",
    "\n",
    "dense_layer = tf.keras.layers.Dense(64, activation='relu',name=\"dense\")(f3)\n",
    "\n",
    "output_layer = tf.keras.layers.Dense(1, activation='sigmoid',name=\"output\")(dense_layer)\n",
    "\n",
    "# Create the model\n",
    "model = tf.keras.Model(inputs=[string_input, length_input,currency_input,spam_word_input,emoji_input,contain_input,email_input,phone_input], outputs=output_layer)\n",
    "\n",
    "model.compile(optimizer='adam', loss='binary_crossentropy', metrics=['accuracy'])\n",
    "model.build(input_shape=[])\n",
    "model.summary()"
   ]
  },
  {
   "cell_type": "code",
   "execution_count": 8,
   "metadata": {
    "ExecuteTime": {
     "end_time": "2023-06-25T13:20:20.225029829Z",
     "start_time": "2023-06-25T13:20:16.175319985Z"
    }
   },
   "outputs": [
    {
     "ename": "NameError",
     "evalue": "name 'model' is not defined",
     "output_type": "error",
     "traceback": [
      "\u001b[0;31m---------------------------------------------------------------------------\u001b[0m",
      "\u001b[0;31mNameError\u001b[0m                                 Traceback (most recent call last)",
      "Cell \u001b[0;32mIn[8], line 4\u001b[0m\n\u001b[1;32m      1\u001b[0m \u001b[39mfrom\u001b[39;00m \u001b[39mtensorflow\u001b[39;00m\u001b[39m.\u001b[39;00m\u001b[39mkeras\u001b[39;00m\u001b[39m.\u001b[39;00m\u001b[39mutils\u001b[39;00m \u001b[39mimport\u001b[39;00m plot_model\n\u001b[1;32m      3\u001b[0m \u001b[39m# Plot model\u001b[39;00m\n\u001b[0;32m----> 4\u001b[0m plot_model(model, to_file\u001b[39m=\u001b[39m\u001b[39m'\u001b[39m\u001b[39mteam_strength_model.png\u001b[39m\u001b[39m'\u001b[39m)\n\u001b[1;32m      6\u001b[0m \u001b[39m# Display the image\u001b[39;00m\n\u001b[1;32m      7\u001b[0m data \u001b[39m=\u001b[39m plt\u001b[39m.\u001b[39mimread(\u001b[39m'\u001b[39m\u001b[39mteam_strength_model.png\u001b[39m\u001b[39m'\u001b[39m)\n",
      "\u001b[0;31mNameError\u001b[0m: name 'model' is not defined"
     ]
    }
   ],
   "source": [
    "from tensorflow.keras.utils import plot_model\n",
    "\n",
    "# Plot model\n",
    "plot_model(model, to_file='team_strength_model.png')\n",
    "\n",
    "# Display the image\n",
    "data = plt.imread('team_strength_model.png')\n",
    "plt.imshow(data)"
   ]
  },
  {
   "cell_type": "code",
   "execution_count": 22,
   "metadata": {
    "ExecuteTime": {
     "end_time": "2023-06-26T07:20:26.981119985Z",
     "start_time": "2023-06-26T07:20:26.938595086Z"
    }
   },
   "outputs": [],
   "source": [
    "\n",
    "import datetime\n",
    "log_dir = \"logs/fit/\" + datetime.datetime.now().strftime(\"%Y%m%d-%H%M%S\")\n",
    "tensorboard_callback = tf.keras.callbacks.TensorBoard(log_dir=\"./logs/fit/\", histogram_freq=1)\n"
   ]
  },
  {
   "cell_type": "code",
   "execution_count": 23,
   "metadata": {
    "ExecuteTime": {
     "end_time": "2023-06-26T07:15:12.380202049Z",
     "start_time": "2023-06-26T07:10:37.899177239Z"
    }
   },
   "outputs": [
    {
     "name": "stdout",
     "output_type": "stream",
     "text": [
      "Epoch 1/10\n",
      "34/34 [==============================] - ETA: 0s - loss: 0.8658 - accuracy: 0.8847"
     ]
    }
   ],
   "source": [
    "\n",
    "k = model.fit(X_train,\n",
    "          y_train,\n",
    "          epochs=10,\n",
    "          batch_size=512,\n",
    "          validation_data=(X_test, y_test),\n",
    "          callbacks=tensorboard_callback,\n",
    "          verbose=1\n",
    ")"
   ]
  },
  {
   "cell_type": "code",
   "execution_count": null,
   "metadata": {},
   "outputs": [],
   "source": []
  },
  {
   "cell_type": "code",
   "execution_count": 34,
   "metadata": {
    "ExecuteTime": {
     "end_time": "2023-06-25T10:08:11.754889368Z",
     "start_time": "2023-06-25T10:08:11.746906402Z"
    }
   },
   "outputs": [
    {
     "data": {
      "text/html": [
       "<div>\n",
       "<style scoped>\n",
       "    .dataframe tbody tr th:only-of-type {\n",
       "        vertical-align: middle;\n",
       "    }\n",
       "\n",
       "    .dataframe tbody tr th {\n",
       "        vertical-align: top;\n",
       "    }\n",
       "\n",
       "    .dataframe thead th {\n",
       "        text-align: right;\n",
       "    }\n",
       "</style>\n",
       "<table border=\"1\" class=\"dataframe\">\n",
       "  <thead>\n",
       "    <tr style=\"text-align: right;\">\n",
       "      <th></th>\n",
       "      <th>Comment</th>\n",
       "      <th>length</th>\n",
       "      <th>currency</th>\n",
       "      <th>spam_word</th>\n",
       "      <th>emoji</th>\n",
       "      <th>contain</th>\n",
       "      <th>email</th>\n",
       "      <th>phone</th>\n",
       "    </tr>\n",
       "  </thead>\n",
       "  <tbody>\n",
       "    <tr>\n",
       "      <th>11906</th>\n",
       "      <td>thank wow thats indeed quite big difference vo...</td>\n",
       "      <td>173</td>\n",
       "      <td>0</td>\n",
       "      <td>0</td>\n",
       "      <td>0</td>\n",
       "      <td>0</td>\n",
       "      <td>0</td>\n",
       "      <td>0</td>\n",
       "    </tr>\n",
       "    <tr>\n",
       "      <th>15229</th>\n",
       "      <td>prevent virus spreading yet studied least they...</td>\n",
       "      <td>105</td>\n",
       "      <td>0</td>\n",
       "      <td>0</td>\n",
       "      <td>0</td>\n",
       "      <td>0</td>\n",
       "      <td>0</td>\n",
       "      <td>0</td>\n",
       "    </tr>\n",
       "    <tr>\n",
       "      <th>18933</th>\n",
       "      <td>api v web service api v sdk</td>\n",
       "      <td>29</td>\n",
       "      <td>0</td>\n",
       "      <td>0</td>\n",
       "      <td>0</td>\n",
       "      <td>0</td>\n",
       "      <td>0</td>\n",
       "      <td>0</td>\n",
       "    </tr>\n",
       "    <tr>\n",
       "      <th>20661</th>\n",
       "      <td>btc</td>\n",
       "      <td>3</td>\n",
       "      <td>0</td>\n",
       "      <td>0</td>\n",
       "      <td>0</td>\n",
       "      <td>0</td>\n",
       "      <td>0</td>\n",
       "      <td>0</td>\n",
       "    </tr>\n",
       "    <tr>\n",
       "      <th>20616</th>\n",
       "      <td>avoid</td>\n",
       "      <td>5</td>\n",
       "      <td>0</td>\n",
       "      <td>0</td>\n",
       "      <td>0</td>\n",
       "      <td>0</td>\n",
       "      <td>0</td>\n",
       "      <td>0</td>\n",
       "    </tr>\n",
       "    <tr>\n",
       "      <th>...</th>\n",
       "      <td>...</td>\n",
       "      <td>...</td>\n",
       "      <td>...</td>\n",
       "      <td>...</td>\n",
       "      <td>...</td>\n",
       "      <td>...</td>\n",
       "      <td>...</td>\n",
       "      <td>...</td>\n",
       "    </tr>\n",
       "    <tr>\n",
       "      <th>13123</th>\n",
       "      <td>what s better secure method encryption asymmet...</td>\n",
       "      <td>85</td>\n",
       "      <td>0</td>\n",
       "      <td>0</td>\n",
       "      <td>0</td>\n",
       "      <td>0</td>\n",
       "      <td>0</td>\n",
       "      <td>0</td>\n",
       "    </tr>\n",
       "    <tr>\n",
       "      <th>19649</th>\n",
       "      <td>nice video though nfts need smart contract you...</td>\n",
       "      <td>132</td>\n",
       "      <td>0</td>\n",
       "      <td>0</td>\n",
       "      <td>0</td>\n",
       "      <td>0</td>\n",
       "      <td>0</td>\n",
       "      <td>0</td>\n",
       "    </tr>\n",
       "    <tr>\n",
       "      <th>9845</th>\n",
       "      <td>wow</td>\n",
       "      <td>3</td>\n",
       "      <td>0</td>\n",
       "      <td>0</td>\n",
       "      <td>0</td>\n",
       "      <td>0</td>\n",
       "      <td>0</td>\n",
       "      <td>0</td>\n",
       "    </tr>\n",
       "    <tr>\n",
       "      <th>10799</th>\n",
       "      <td>dependency blockchain</td>\n",
       "      <td>23</td>\n",
       "      <td>0</td>\n",
       "      <td>0</td>\n",
       "      <td>0</td>\n",
       "      <td>0</td>\n",
       "      <td>0</td>\n",
       "      <td>0</td>\n",
       "    </tr>\n",
       "    <tr>\n",
       "      <th>2732</th>\n",
       "      <td>see</td>\n",
       "      <td>3</td>\n",
       "      <td>0</td>\n",
       "      <td>0</td>\n",
       "      <td>0</td>\n",
       "      <td>0</td>\n",
       "      <td>0</td>\n",
       "      <td>0</td>\n",
       "    </tr>\n",
       "  </tbody>\n",
       "</table>\n",
       "<p>17308 rows × 8 columns</p>\n",
       "</div>"
      ],
      "text/plain": [
       "                                                 Comment  length  currency   \n",
       "11906  thank wow thats indeed quite big difference vo...     173         0  \\\n",
       "15229  prevent virus spreading yet studied least they...     105         0   \n",
       "18933                        api v web service api v sdk      29         0   \n",
       "20661                                                btc       3         0   \n",
       "20616                                              avoid       5         0   \n",
       "...                                                  ...     ...       ...   \n",
       "13123  what s better secure method encryption asymmet...      85         0   \n",
       "19649  nice video though nfts need smart contract you...     132         0   \n",
       "9845                                                 wow       3         0   \n",
       "10799                              dependency blockchain      23         0   \n",
       "2732                                                 see       3         0   \n",
       "\n",
       "       spam_word  emoji  contain  email  phone  \n",
       "11906          0      0        0      0      0  \n",
       "15229          0      0        0      0      0  \n",
       "18933          0      0        0      0      0  \n",
       "20661          0      0        0      0      0  \n",
       "20616          0      0        0      0      0  \n",
       "...          ...    ...      ...    ...    ...  \n",
       "13123          0      0        0      0      0  \n",
       "19649          0      0        0      0      0  \n",
       "9845           0      0        0      0      0  \n",
       "10799          0      0        0      0      0  \n",
       "2732           0      0        0      0      0  \n",
       "\n",
       "[17308 rows x 8 columns]"
      ]
     },
     "execution_count": 34,
     "metadata": {},
     "output_type": "execute_result"
    }
   ],
   "source": []
  },
  {
   "cell_type": "code",
   "execution_count": 16,
   "metadata": {
    "ExecuteTime": {
     "end_time": "2023-06-26T07:19:51.551202079Z",
     "start_time": "2023-06-26T07:19:43.408957476Z"
    }
   },
   "outputs": [
    {
     "name": "stdout",
     "output_type": "stream",
     "text": [
      "136/136 [==============================] - 8s 57ms/step - loss: 0.2091 - accuracy: 0.9607\n"
     ]
    },
    {
     "data": {
      "text/plain": [
       "[0.20914408564567566, 0.9607118368148804]"
      ]
     },
     "execution_count": 16,
     "metadata": {},
     "output_type": "execute_result"
    }
   ],
   "source": [
    "model.evaluate([X_test],y_test)"
   ]
  },
  {
   "cell_type": "code",
   "execution_count": 70,
   "metadata": {},
   "outputs": [
    {
     "data": {
      "text/plain": [
       "pandas.core.frame.DataFrame"
      ]
     },
     "execution_count": 70,
     "metadata": {},
     "output_type": "execute_result"
    }
   ],
   "source": []
  },
  {
   "cell_type": "code",
   "execution_count": 68,
   "metadata": {},
   "outputs": [
    {
     "name": "stdout",
     "output_type": "stream",
     "text": [
      "1/1 [==============================] - 0s 67ms/step\n",
      "[[0.9108964]]\n"
     ]
    }
   ],
   "source": [
    "\n",
    "# Prepare example input data\n",
    "string_input_data = np.array([\"free money\"]).astype(str) \n",
    "length_input_data = np.array([20]).astype(int)  # Example length value\n",
    "currency_input_data = np.array([0]).astype(int)  # Example currency value\n",
    "spam_word_input_data = np.array([1]).astype(int)  # Example spam word value\n",
    "emoji_input_data = np.array([1]).astype(int)  # Example emoji value\n",
    "contain_input_data = np.array([0]).astype(int)  # Example containment value\n",
    "email_input_data = np.array([0]).astype(int)  # Example email value\n",
    "phone_input_data = np.array([0]).astype(int)  # Example phone value\n",
    "\n",
    "\n",
    "\n",
    "# Pass the input data to the model for predict\n",
    "# ion\n",
    "predictions = model.predict([string_input_data, length_input_data, currency_input_data, spam_word_input_data,\n",
    "                             emoji_input_data, contain_input_data, email_input_data, phone_input_data])\n",
    "\n",
    "print(predictions)\n"
   ]
  },
  {
   "cell_type": "code",
   "execution_count": 30,
   "metadata": {},
   "outputs": [
    {
     "ename": "NameError",
     "evalue": "name 'x_val' is not defined",
     "output_type": "error",
     "traceback": [
      "\u001b[0;31m---------------------------------------------------------------------------\u001b[0m",
      "\u001b[0;31mNameError\u001b[0m                                 Traceback (most recent call last)",
      "Cell \u001b[0;32mIn[30], line 3\u001b[0m\n\u001b[1;32m      1\u001b[0m cv\u001b[39m=\u001b[39mCountVectorizer(max_features\u001b[39m=\u001b[39m\u001b[39m5000\u001b[39m)\n\u001b[1;32m      2\u001b[0m temp_train\u001b[39m=\u001b[39mcv\u001b[39m.\u001b[39mfit_transform(x_train[\u001b[39m'\u001b[39m\u001b[39mComment\u001b[39m\u001b[39m'\u001b[39m])\u001b[39m.\u001b[39mtoarray()\n\u001b[0;32m----> 3\u001b[0m temp_val\u001b[39m=\u001b[39mcv\u001b[39m.\u001b[39mtransform(x_val[\u001b[39m'\u001b[39m\u001b[39mComment\u001b[39m\u001b[39m'\u001b[39m])\u001b[39m.\u001b[39mtoarray()\n\u001b[1;32m      5\u001b[0m tf\u001b[39m=\u001b[39mTfidfTransformer()\n\u001b[1;32m      6\u001b[0m temp_train\u001b[39m=\u001b[39mtf\u001b[39m.\u001b[39mfit_transform(temp_train)\n",
      "\u001b[0;31mNameError\u001b[0m: name 'x_val' is not defined"
     ]
    }
   ],
   "source": [
    "cv=CountVectorizer(max_features=5000)\n",
    "temp_train=cv.fit_transform(x_train['Comment']).toarray()\n",
    "temp_val=cv.transform(x_val['Comment']).toarray()\n",
    "\n",
    "tf=TfidfTransformer()\n",
    "temp_train=tf.fit_transform(temp_train)\n",
    "temp_val=tf.transform(temp_val)\n",
    "\n",
    "temp_train=pd.DataFrame(temp_train.toarray(),index=x_train.index)\n",
    "temp_val=pd.DataFrame(temp_val.toarray(),index=x_val.index)\n",
    "x_train=pd.concat([x_train,temp_train],axis=1,sort=False)\n",
    "x_val=pd.concat([x_val,temp_val],axis=1,sort=False)\n",
    "\n",
    "x_train.drop(['Comment'],axis=1,inplace=True)\n",
    "x_val.drop(['Comment'],axis=1,inplace=True)\n",
    "\n"
   ]
  },
  {
   "cell_type": "code",
   "execution_count": 36,
   "metadata": {},
   "outputs": [],
   "source": [
    "x_train.columns = x_train.columns.astype(str)\n",
    "x_val.columns = x_val.columns.astype(str)        "
   ]
  },
  {
   "cell_type": "code",
   "execution_count": 37,
   "metadata": {},
   "outputs": [],
   "source": [
    "y_train=y_train.astype(int)\n",
    "y_val=y_val.astype(int)"
   ]
  },
  {
   "cell_type": "code",
   "execution_count": 39,
   "metadata": {},
   "outputs": [
    {
     "name": "stderr",
     "output_type": "stream",
     "text": [
      "/home/brijesh/.local/lib/python3.11/site-packages/sklearn/utils/validation.py:1143: DataConversionWarning: A column-vector y was passed when a 1d array was expected. Please change the shape of y to (n_samples, ), for example using ravel().\n",
      "  y = column_or_1d(y, warn=True)\n",
      "/home/brijesh/.local/lib/python3.11/site-packages/sklearn/base.py:439: UserWarning: X does not have valid feature names, but MultinomialNB was fitted with feature names\n",
      "  warnings.warn(\n"
     ]
    },
    {
     "ename": "ValueError",
     "evalue": "Expected 2D array, got 1D array instead:\narray=['dad'].\nReshape your data either using array.reshape(-1, 1) if your data has a single feature or array.reshape(1, -1) if it contains a single sample.",
     "output_type": "error",
     "traceback": [
      "\u001b[0;31m---------------------------------------------------------------------------\u001b[0m",
      "\u001b[0;31mValueError\u001b[0m                                Traceback (most recent call last)",
      "Cell \u001b[0;32mIn[39], line 3\u001b[0m\n\u001b[1;32m      1\u001b[0m model\u001b[39m=\u001b[39mMultinomialNB()\n\u001b[1;32m      2\u001b[0m model\u001b[39m.\u001b[39mfit(x_train,y_train)\n\u001b[0;32m----> 3\u001b[0m y_preds\u001b[39m=\u001b[39mmodel\u001b[39m.\u001b[39;49mpredict([\u001b[39m\"\u001b[39;49m\u001b[39mdad\u001b[39;49m\u001b[39m\"\u001b[39;49m])\n\u001b[1;32m      4\u001b[0m \u001b[39mprint\u001b[39m(\u001b[39m\"\u001b[39m\u001b[39mMultinomial Naive Bayes:\u001b[39m\u001b[39m\"\u001b[39m,accuracy_score([\u001b[39m1\u001b[39m],y_preds))\n",
      "File \u001b[0;32m~/.local/lib/python3.11/site-packages/sklearn/naive_bayes.py:105\u001b[0m, in \u001b[0;36m_BaseNB.predict\u001b[0;34m(self, X)\u001b[0m\n\u001b[1;32m     91\u001b[0m \u001b[39m\u001b[39m\u001b[39m\"\"\"\u001b[39;00m\n\u001b[1;32m     92\u001b[0m \u001b[39mPerform classification on an array of test vectors X.\u001b[39;00m\n\u001b[1;32m     93\u001b[0m \n\u001b[0;32m   (...)\u001b[0m\n\u001b[1;32m    102\u001b[0m \u001b[39m    Predicted target values for X.\u001b[39;00m\n\u001b[1;32m    103\u001b[0m \u001b[39m\"\"\"\u001b[39;00m\n\u001b[1;32m    104\u001b[0m check_is_fitted(\u001b[39mself\u001b[39m)\n\u001b[0;32m--> 105\u001b[0m X \u001b[39m=\u001b[39m \u001b[39mself\u001b[39;49m\u001b[39m.\u001b[39;49m_check_X(X)\n\u001b[1;32m    106\u001b[0m jll \u001b[39m=\u001b[39m \u001b[39mself\u001b[39m\u001b[39m.\u001b[39m_joint_log_likelihood(X)\n\u001b[1;32m    107\u001b[0m \u001b[39mreturn\u001b[39;00m \u001b[39mself\u001b[39m\u001b[39m.\u001b[39mclasses_[np\u001b[39m.\u001b[39margmax(jll, axis\u001b[39m=\u001b[39m\u001b[39m1\u001b[39m)]\n",
      "File \u001b[0;32m~/.local/lib/python3.11/site-packages/sklearn/naive_bayes.py:579\u001b[0m, in \u001b[0;36m_BaseDiscreteNB._check_X\u001b[0;34m(self, X)\u001b[0m\n\u001b[1;32m    577\u001b[0m \u001b[39mdef\u001b[39;00m \u001b[39m_check_X\u001b[39m(\u001b[39mself\u001b[39m, X):\n\u001b[1;32m    578\u001b[0m \u001b[39m    \u001b[39m\u001b[39m\"\"\"Validate X, used only in predict* methods.\"\"\"\u001b[39;00m\n\u001b[0;32m--> 579\u001b[0m     \u001b[39mreturn\u001b[39;00m \u001b[39mself\u001b[39;49m\u001b[39m.\u001b[39;49m_validate_data(X, accept_sparse\u001b[39m=\u001b[39;49m\u001b[39m\"\u001b[39;49m\u001b[39mcsr\u001b[39;49m\u001b[39m\"\u001b[39;49m, reset\u001b[39m=\u001b[39;49m\u001b[39mFalse\u001b[39;49;00m)\n",
      "File \u001b[0;32m~/.local/lib/python3.11/site-packages/sklearn/base.py:565\u001b[0m, in \u001b[0;36mBaseEstimator._validate_data\u001b[0;34m(self, X, y, reset, validate_separately, **check_params)\u001b[0m\n\u001b[1;32m    563\u001b[0m     \u001b[39mraise\u001b[39;00m \u001b[39mValueError\u001b[39;00m(\u001b[39m\"\u001b[39m\u001b[39mValidation should be done on X, y or both.\u001b[39m\u001b[39m\"\u001b[39m)\n\u001b[1;32m    564\u001b[0m \u001b[39melif\u001b[39;00m \u001b[39mnot\u001b[39;00m no_val_X \u001b[39mand\u001b[39;00m no_val_y:\n\u001b[0;32m--> 565\u001b[0m     X \u001b[39m=\u001b[39m check_array(X, input_name\u001b[39m=\u001b[39;49m\u001b[39m\"\u001b[39;49m\u001b[39mX\u001b[39;49m\u001b[39m\"\u001b[39;49m, \u001b[39m*\u001b[39;49m\u001b[39m*\u001b[39;49mcheck_params)\n\u001b[1;32m    566\u001b[0m     out \u001b[39m=\u001b[39m X\n\u001b[1;32m    567\u001b[0m \u001b[39melif\u001b[39;00m no_val_X \u001b[39mand\u001b[39;00m \u001b[39mnot\u001b[39;00m no_val_y:\n",
      "File \u001b[0;32m~/.local/lib/python3.11/site-packages/sklearn/utils/validation.py:902\u001b[0m, in \u001b[0;36mcheck_array\u001b[0;34m(array, accept_sparse, accept_large_sparse, dtype, order, copy, force_all_finite, ensure_2d, allow_nd, ensure_min_samples, ensure_min_features, estimator, input_name)\u001b[0m\n\u001b[1;32m    900\u001b[0m     \u001b[39m# If input is 1D raise error\u001b[39;00m\n\u001b[1;32m    901\u001b[0m     \u001b[39mif\u001b[39;00m array\u001b[39m.\u001b[39mndim \u001b[39m==\u001b[39m \u001b[39m1\u001b[39m:\n\u001b[0;32m--> 902\u001b[0m         \u001b[39mraise\u001b[39;00m \u001b[39mValueError\u001b[39;00m(\n\u001b[1;32m    903\u001b[0m             \u001b[39m\"\u001b[39m\u001b[39mExpected 2D array, got 1D array instead:\u001b[39m\u001b[39m\\n\u001b[39;00m\u001b[39marray=\u001b[39m\u001b[39m{}\u001b[39;00m\u001b[39m.\u001b[39m\u001b[39m\\n\u001b[39;00m\u001b[39m\"\u001b[39m\n\u001b[1;32m    904\u001b[0m             \u001b[39m\"\u001b[39m\u001b[39mReshape your data either using array.reshape(-1, 1) if \u001b[39m\u001b[39m\"\u001b[39m\n\u001b[1;32m    905\u001b[0m             \u001b[39m\"\u001b[39m\u001b[39myour data has a single feature or array.reshape(1, -1) \u001b[39m\u001b[39m\"\u001b[39m\n\u001b[1;32m    906\u001b[0m             \u001b[39m\"\u001b[39m\u001b[39mif it contains a single sample.\u001b[39m\u001b[39m\"\u001b[39m\u001b[39m.\u001b[39mformat(array)\n\u001b[1;32m    907\u001b[0m         )\n\u001b[1;32m    909\u001b[0m \u001b[39mif\u001b[39;00m dtype_numeric \u001b[39mand\u001b[39;00m array\u001b[39m.\u001b[39mdtype\u001b[39m.\u001b[39mkind \u001b[39min\u001b[39;00m \u001b[39m\"\u001b[39m\u001b[39mUSV\u001b[39m\u001b[39m\"\u001b[39m:\n\u001b[1;32m    910\u001b[0m     \u001b[39mraise\u001b[39;00m \u001b[39mValueError\u001b[39;00m(\n\u001b[1;32m    911\u001b[0m         \u001b[39m\"\u001b[39m\u001b[39mdtype=\u001b[39m\u001b[39m'\u001b[39m\u001b[39mnumeric\u001b[39m\u001b[39m'\u001b[39m\u001b[39m is not compatible with arrays of bytes/strings.\u001b[39m\u001b[39m\"\u001b[39m\n\u001b[1;32m    912\u001b[0m         \u001b[39m\"\u001b[39m\u001b[39mConvert your data to numeric values explicitly instead.\u001b[39m\u001b[39m\"\u001b[39m\n\u001b[1;32m    913\u001b[0m     )\n",
      "\u001b[0;31mValueError\u001b[0m: Expected 2D array, got 1D array instead:\narray=['dad'].\nReshape your data either using array.reshape(-1, 1) if your data has a single feature or array.reshape(1, -1) if it contains a single sample."
     ]
    }
   ],
   "source": [
    "model=MultinomialNB()\n",
    "model.fit(x_train,y_train)\n",
    "y_preds=model.predict([\"dad\"])\n",
    "print(\"Multinomial Naive Bayes:\",accuracy_score([1],y_preds))"
   ]
  },
  {
   "cell_type": "code",
   "execution_count": 114,
   "metadata": {},
   "outputs": [
    {
     "name": "stdout",
     "output_type": "stream",
     "text": [
      "Decision Tree: 0.953782534663099\n"
     ]
    }
   ],
   "source": [
    "model=DecisionTreeClassifier(random_state=0)\n",
    "model.fit(x_train,y_train)\n",
    "y_preds=model.predict(x_val)\n",
    "print(\"Decision Tree:\",accuracy_score(y_val,y_preds))"
   ]
  },
  {
   "cell_type": "code",
   "execution_count": 115,
   "metadata": {},
   "outputs": [
    {
     "name": "stderr",
     "output_type": "stream",
     "text": [
      "/tmp/ipykernel_1921/2502017040.py:2: DataConversionWarning: A column-vector y was passed when a 1d array was expected. Please change the shape of y to (n_samples,), for example using ravel().\n",
      "  model.fit(x_train,y_train)\n"
     ]
    },
    {
     "name": "stdout",
     "output_type": "stream",
     "text": [
      "Random Forest: 0.9778642666018\n"
     ]
    }
   ],
   "source": [
    "model=RandomForestClassifier(n_estimators=100,random_state=0)\n",
    "model.fit(x_train,y_train)\n",
    "y_preds=model.predict(x_val)\n",
    "print(\"Random Forest:\",accuracy_score(y_val,y_preds))"
   ]
  },
  {
   "cell_type": "code",
   "execution_count": null,
   "metadata": {},
   "outputs": [],
   "source": []
  },
  {
   "cell_type": "code",
   "execution_count": null,
   "metadata": {},
   "outputs": [],
   "source": [
    "training_size = int(len(df) * 0.8)\n",
    "vocab_size=50000\n",
    "embedding_dim=32\n",
    "max_length=1000\n",
    "\n",
    "\n",
    "training_sentences = df[\"Comment\"][0:training_size]\n",
    "testing_sentences = df[\"Comment\"][training_size:]\n",
    "training_labels = df[\"Spam\"][0:training_size]\n",
    "testing_labels = df[\"Spam\"][training_size:]"
   ]
  },
  {
   "cell_type": "code",
   "execution_count": null,
   "metadata": {},
   "outputs": [],
   "source": [
    "tokenizer = Tokenizer(num_words=vocab_size, oov_token=\"<00V>\")\n",
    "tokenizer.fit_on_texts(training_sentences)\n",
    "\n",
    "word_index = tokenizer.word_index\n",
    "\n",
    "training_sequences = tokenizer.texts_to_sequences(training_sentences)\n",
    "training_padded = pad_sequences(training_sequences, maxlen=1000, padding=\"post\", truncating=\"post\")\n",
    "\n",
    "testing_sequences = tokenizer.texts_to_sequences(testing_sentences)\n",
    "testing_padded = pad_sequences(testing_sequences, maxlen=1000, padding=\"post\", truncating=\"post\")"
   ]
  },
  {
   "cell_type": "code",
   "execution_count": null,
   "metadata": {},
   "outputs": [
    {
     "name": "stderr",
     "output_type": "stream",
     "text": [
      "2023-06-18 23:24:57.945584: I tensorflow/compiler/xla/stream_executor/cuda/cuda_gpu_executor.cc:996] successful NUMA node read from SysFS had negative value (-1), but there must be at least one NUMA node, so returning NUMA node zero. See more at https://github.com/torvalds/linux/blob/v6.0/Documentation/ABI/testing/sysfs-bus-pci#L344-L355\n",
      "2023-06-18 23:24:58.044037: W tensorflow/core/common_runtime/gpu/gpu_device.cc:1956] Cannot dlopen some GPU libraries. Please make sure the missing libraries mentioned above are installed properly if you would like to use GPU. Follow the guide at https://www.tensorflow.org/install/gpu for how to download and setup the required libraries for your platform.\n",
      "Skipping registering GPU devices...\n"
     ]
    }
   ],
   "source": [
    "model = tf.keras.Sequential([\n",
    "    tf.keras.layers.Embedding(vocab_size, embedding_dim, input_length=max_length),\n",
    "    tf.keras.layers.GlobalAveragePooling1D(),\n",
    "\n",
    "    tf.keras.layers.Dense(16, activation='relu'),\n",
    "    tf.keras.layers.Dense(8, activation='relu'),\n",
    "    tf.keras.layers.Dense(4, activation='relu'),\n",
    "    tf.keras.layers.Dense(2, activation='relu'),\n",
    "    tf.keras.layers.Dense(1, activation='sigmoid')\n",
    "])\n",
    "model.compile(loss='binary_crossentropy',optimizer='adam',metrics=['accuracy'])"
   ]
  },
  {
   "cell_type": "code",
   "execution_count": null,
   "metadata": {},
   "outputs": [
    {
     "name": "stdout",
     "output_type": "stream",
     "text": [
      "Model: \"sequential\"\n",
      "_________________________________________________________________\n",
      " Layer (type)                Output Shape              Param #   \n",
      "=================================================================\n",
      " embedding (Embedding)       (None, 1000, 32)          1600000   \n",
      "                                                                 \n",
      " global_average_pooling1d (G  (None, 32)               0         \n",
      " lobalAveragePooling1D)                                          \n",
      "                                                                 \n",
      " dense (Dense)               (None, 16)                528       \n",
      "                                                                 \n",
      " dense_1 (Dense)             (None, 8)                 136       \n",
      "                                                                 \n",
      " dense_2 (Dense)             (None, 4)                 36        \n",
      "                                                                 \n",
      " dense_3 (Dense)             (None, 2)                 10        \n",
      "                                                                 \n",
      " dense_4 (Dense)             (None, 1)                 3         \n",
      "                                                                 \n",
      "=================================================================\n",
      "Total params: 1,600,713\n",
      "Trainable params: 1,600,713\n",
      "Non-trainable params: 0\n",
      "_________________________________________________________________\n"
     ]
    }
   ],
   "source": [
    "model.summary()"
   ]
  },
  {
   "cell_type": "code",
   "execution_count": null,
   "metadata": {},
   "outputs": [
    {
     "name": "stdout",
     "output_type": "stream",
     "text": [
      "Epoch 1/10\n",
      "514/514 - 13s - loss: 0.2194 - accuracy: 0.9555 - val_loss: 0.5757 - val_accuracy: 0.7796 - 13s/epoch - 25ms/step\n",
      "Epoch 2/10\n",
      "514/514 - 12s - loss: 0.2039 - accuracy: 0.9555 - val_loss: 0.6010 - val_accuracy: 0.7796 - 12s/epoch - 24ms/step\n",
      "Epoch 3/10\n",
      "514/514 - 13s - loss: 0.1943 - accuracy: 0.9555 - val_loss: 0.6258 - val_accuracy: 0.7796 - 13s/epoch - 24ms/step\n",
      "Epoch 4/10\n",
      "514/514 - 12s - loss: 0.1886 - accuracy: 0.9555 - val_loss: 0.6488 - val_accuracy: 0.7796 - 12s/epoch - 24ms/step\n",
      "Epoch 5/10\n",
      "514/514 - 12s - loss: 0.1853 - accuracy: 0.9555 - val_loss: 0.6687 - val_accuracy: 0.7796 - 12s/epoch - 24ms/step\n",
      "Epoch 6/10\n",
      "514/514 - 12s - loss: 0.1835 - accuracy: 0.9555 - val_loss: 0.6853 - val_accuracy: 0.7796 - 12s/epoch - 24ms/step\n",
      "Epoch 7/10\n",
      "514/514 - 13s - loss: 0.1825 - accuracy: 0.9555 - val_loss: 0.6987 - val_accuracy: 0.7796 - 13s/epoch - 24ms/step\n",
      "Epoch 8/10\n",
      "514/514 - 12s - loss: 0.1821 - accuracy: 0.9555 - val_loss: 0.7078 - val_accuracy: 0.7796 - 12s/epoch - 24ms/step\n",
      "Epoch 9/10\n",
      "514/514 - 12s - loss: 0.1820 - accuracy: 0.9555 - val_loss: 0.7132 - val_accuracy: 0.7796 - 12s/epoch - 24ms/step\n",
      "Epoch 10/10\n",
      "514/514 - 12s - loss: 0.1819 - accuracy: 0.9555 - val_loss: 0.7165 - val_accuracy: 0.7796 - 12s/epoch - 24ms/step\n"
     ]
    }
   ],
   "source": [
    "num_epochs = 10\n",
    "\n",
    "history = model.fit(training_padded, training_labels, epochs=num_epochs, validation_data=(testing_padded, testing_labels), verbose=2)"
   ]
  },
  {
   "cell_type": "code",
   "execution_count": 25,
   "metadata": {},
   "outputs": [
    {
     "data": {
      "text/plain": [
       "{'loss': [0.8607029914855957,\n",
       "  0.4701571762561798,\n",
       "  0.27128514647483826,\n",
       "  0.16288502514362335,\n",
       "  0.09799474477767944,\n",
       "  0.06345146894454956,\n",
       "  0.04623741656541824,\n",
       "  0.03244490921497345,\n",
       "  0.024101849645376205,\n",
       "  0.01855441927909851,\n",
       "  0.01630767621099949,\n",
       "  0.01520865224301815,\n",
       "  0.014562946744263172,\n",
       "  0.013237937353551388,\n",
       "  0.013612170703709126,\n",
       "  0.011285170912742615],\n",
       " 'accuracy': [0.8792465925216675,\n",
       "  0.9487520456314087,\n",
       "  0.9679917097091675,\n",
       "  0.9778714776039124,\n",
       "  0.9854402542114258,\n",
       "  0.9893690943717957,\n",
       "  0.9912179112434387,\n",
       "  0.9926045536994934,\n",
       "  0.9940490126609802,\n",
       "  0.9950311779975891,\n",
       "  0.9955511689186096,\n",
       "  0.9955511689186096,\n",
       "  0.9957823157310486,\n",
       "  0.9958400726318359,\n",
       "  0.995204508304596,\n",
       "  0.9957244992256165],\n",
       " 'val_loss': [0.5982664823532104,\n",
       "  0.35890626907348633,\n",
       "  0.2497958093881607,\n",
       "  0.20130838453769684,\n",
       "  0.2019805908203125,\n",
       "  0.16817732155323029,\n",
       "  0.1755964308977127,\n",
       "  0.18443766236305237,\n",
       "  0.21539287269115448,\n",
       "  0.23410238325595856,\n",
       "  0.23840054869651794,\n",
       "  0.1981998085975647,\n",
       "  0.2763461768627167,\n",
       "  0.2281794399023056,\n",
       "  0.22904933989048004,\n",
       "  0.2572689354419708],\n",
       " 'val_accuracy': [0.9369077682495117,\n",
       "  0.955858588218689,\n",
       "  0.9604806900024414,\n",
       "  0.9595562815666199,\n",
       "  0.9602496027946472,\n",
       "  0.9572452306747437,\n",
       "  0.9607118368148804,\n",
       "  0.9588629603385925,\n",
       "  0.960018515586853,\n",
       "  0.9595562815666199,\n",
       "  0.9588629603385925,\n",
       "  0.9614051580429077,\n",
       "  0.9602496027946472,\n",
       "  0.9593251943588257,\n",
       "  0.9572452306747437,\n",
       "  0.9611740112304688]}"
      ]
     },
     "execution_count": 25,
     "metadata": {},
     "output_type": "execute_result"
    }
   ],
   "source": [
    "k.history"
   ]
  },
  {
   "cell_type": "code",
   "execution_count": 5,
   "metadata": {},
   "outputs": [
    {
     "data": {
      "text/plain": [
       "<WordNetLemmatizer>"
      ]
     },
     "execution_count": 5,
     "metadata": {},
     "output_type": "execute_result"
    }
   ],
   "source": [
    "nltk.WordNetLemmatizer()"
   ]
  },
  {
   "cell_type": "code",
   "execution_count": 26,
   "metadata": {},
   "outputs": [
    {
     "data": {
      "image/png": "[encoded data removed]",
      "text/plain": [
       "<Figure size 640x480 with 1 Axes>"
      ]
     },
     "metadata": {},
     "output_type": "display_data"
    },
    {
     "data": {
      "image/png": "[encoded data removed]",
      "text/plain": [
       "<Figure size 640x480 with 1 Axes>"
      ]
     },
     "metadata": {},
     "output_type": "display_data"
    }
   ],
   "source": [
    "import matplotlib.pyplot as plt\n",
    "\n",
    "\n",
    "def plot_graphs(history, string):\n",
    "  plt.plot(history.history[string])\n",
    "  plt.plot(history.history['val_'+string])\n",
    "  plt.xlabel(\"Epochs\")\n",
    "  plt.ylabel(string)\n",
    "  plt.legend([string, 'val_'+string])\n",
    "  plt.show()\n",
    "  \n",
    "plot_graphs(k, \"accuracy\")\n",
    "plot_graphs(k, \"loss\")"
   ]
  },
  {
   "cell_type": "code",
   "execution_count": null,
   "metadata": {},
   "outputs": [
    {
     "name": "stdout",
     "output_type": "stream",
     "text": [
      "129/129 [==============================] - 0s 2ms/step - loss: 0.7165 - accuracy: 0.7796\n",
      "[0.7164579033851624, 0.7796156406402588]\n"
     ]
    }
   ],
   "source": [
    "# sentence = [\"granny starting to fear spiders in the garden might be real\", \"game of thrones season finale showing this sunday night\"]\n",
    "# sequences = tokenizer.texts_to_sequences(sentence)\n",
    "# padded = pad_sequences(sequences, maxlen=max_length, padding=\"post\", truncating=\"post\")\n",
    "print(model.evaluate(testing_padded,testing_labels))"
   ]
  },
  {
   "cell_type": "code",
   "execution_count": 14,
   "metadata": {},
   "outputs": [],
   "source": [
    "from sklearn.pipeline import Pipeline\n",
    "\n",
    "\n",
    "\n",
    "class ConvertData:\n",
    "    \n",
    "    def fit(self,x,y=None):\n",
    "        return self\n",
    "    \n",
    "    def transform(self, df):\n",
    "        df = df.drop_duplicates()\n",
    "        df = df.dropna()\n",
    "        df[\"Spam\"]  = df[\"Spam\"].astype(int)\n",
    "        df[\"Comment\"]  = df[\"Comment\"].astype(str)\n",
    "        return df\n",
    "\n",
    "\n",
    "class RemoveStopWordsPunctuation:\n",
    "    \n",
    "    def fit(self,x,y=None):\n",
    "        return self\n",
    "    \n",
    "    def __remove_punctuation_stopwords(self,text):\n",
    "        pattern = re.compile('[{}]'.format(re.escape('!\"#&\\'()*,-/:;<=>?[\\\\]^_`{|}~')))\n",
    "        text = \" \".join([word.strip() for word in pattern.sub(' ', text.lower()).split() if word not in set(stopwords.words('english'))])\n",
    "        return text\n",
    "\n",
    "\n",
    "    def transform(self, df):\n",
    "        df['Comment'] = df['Comment'].apply(self.__remove_punctuation_stopwords)\n",
    "        return df\n",
    "\n",
    "\n",
    "\n",
    "class AddLengthFlag:\n",
    "    \n",
    "    def fit(self,x,y=None):\n",
    "        return self\n",
    "\n",
    "    \n",
    "    def transform(self, X):\n",
    "        X['length'] = X['Comment'].str.len().astype(int)\n",
    "        return X\n",
    "\n",
    "\n",
    "class AddCurrencyFlag:\n",
    "\n",
    "    def __init__(self) -> None:\n",
    "        self.currency_symbols = ['₤', '₨', '€', '₹', '₿', '$']\n",
    "        self.pattern = '[\\$₤₨€₹₿]? *[0-9]* *([\\.,][0-9]*)*[\\$₤₨€₹₿]?'\n",
    "\n",
    "    def fit(self,x,y=None):\n",
    "        return self\n",
    "\n",
    "    def __add_currency_count(self,text):\n",
    "        return len(re.findall(self.pattern, text))\n",
    "\n",
    "    # def __add_currency_count(self,text):\n",
    "    #     return sum(text.count(symbol) for symbol in self.currency_symbols )\n",
    "\n",
    "    def transform(self, df):\n",
    "        df['currency']=df['Comment'].apply(self.__add_currency_count)\n",
    "        return df\n",
    "    \n",
    "\n",
    "class AddSpamWordsFlag:\n",
    "\n",
    "    def __init__(self) -> None:\n",
    "        self.spam_words = [\"urgent\", \"exclusive\", \"limited time\", \"free\", \"guaranteed\", \"act now\", \"discount\", \"special offer\", \"prize\", \"instant\", \"cash\", \"save\", \"win\", \"best\", \"secret\", \"incredible\", \"congratulations\", \"approved\", \"risk free\", \"hidden\", \"bonus\", \"sale\", \"amazing\", \"extra cash\", \"opportunity\", \"easy\", \"double your\", \"best price\", \"cash back\", \"deal\", \"earn\", \"money\", \"no obligation\", \"profit\", \"results\", \"exciting\", \"unbelievable\", \"jackpot\", \"fantastic\", \"instant access\", \"million dollars\", \"discounted\", \"last chance\", \"exclusive offer\", \"big savings\", \"limited offer\", \"free trial\", \"special promotion\", \"secret revealed\", \"valuable\", \"money-back guarantee\", \"lowest price\", \"save money\", \"make money\", \"no risk\", \"exclusive deal\", \"limited supply\", \"huge\", \"incredible offer\", \"prize winner\", \"earn extra income\", \"limited spots\", \"new offer\", \"best deal\", \"don't miss out\", \"great savings\", \"top offer\", \"double your income\", \"discount code\", \"fast cash\", \"top-rated\", \"best value\", \"no cost\", \"elite\", \"act fast\", \"unbeatable\", \"cash prize\", \"limited availability\", \"special discount\", \"quick cash\", \"no catch\", \"instant approval\", \"big discount\", \"easy money\", \"insider\", \"invitation\", \"free shipping\", \"huge discount\", \"extra income\", \"secret formula\", \"no strings attached\", \"money-making\", \"dream come true\", \"massive\", \"free gift\", \"incredible opportunity\", \"risk-free trial\", \"instant money\", \"special price\", \"no purchase necessary\", \"now\"]\n",
    "\n",
    "    def fit(self,x,y=None):\n",
    "        return self\n",
    "    \n",
    "    def __add_currency_count(self,text):\n",
    "        return sum(text.count(symbol) for symbol in self.spam_words )\n",
    "\n",
    "    def transform(self, df):\n",
    "        df['spam_word']=df['Comment'].apply(self.__add_currency_count)\n",
    "        return df\n",
    "\n",
    "\n",
    "\n",
    "class AddEmojiFlag:\n",
    "\n",
    "    def __init__(self) -> None:\n",
    "        self.emoji_symbols = '💭|🔝|🆗|🎉|🎊|📯|🙌|😂|💸|👉|📢|🚀|💲|💣|🔱|💼|🆙|⏳|✨|💌|💎|🆕|🔞|💡|💰|👑|⭐|🌟|🎤|⚡|📈|💵|🏆|💪|🔓|🆓|🎰|⌚|🚨|💢|📮|🔥|🎈|🎥|🔔|💯|🎶|🔗|🎁|📚|🔊|👍|👏|📱|📝|🤑|🏅|🔒|📣|💥'\n",
    "    \n",
    "    def fit(self,x,y=None):\n",
    "        return self\n",
    "    \n",
    "    def __add_currency_count(self,text):\n",
    "        pattern = '[' + re.escape(self.emoji_symbols) + ']'\n",
    "        return len(re.findall(pattern, text))\n",
    "\n",
    "    def transform(self, df):\n",
    "        df['emoji']=df['Comment'].apply(self.__add_currency_count)\n",
    "        return df\n",
    "\n",
    "class AddContainFlag:\n",
    "\n",
    "    def fit(self,x,y=None):\n",
    "        return self\n",
    "    \n",
    "    def __add_first_count(self,text):\n",
    "        pattern = '[0-9]*%|T&C'\n",
    "        return len(re.findall(pattern, text))\n",
    "    \n",
    "    def __add_second_count(self,text):\n",
    "        pattern = '(https:\\/\\/www\\.|http:\\/\\/www\\.|https:\\/\\/|http:\\/\\/)?[a-zA-Z0-9]{2,}(\\.[a-zA-Z0-9]{2,})(\\.[a-zA-Z0-9]{2,})?'\n",
    "        return len(re.findall(pattern, text))\n",
    "\n",
    "\n",
    "\n",
    "    def transform(self, df):\n",
    "        df['contain']=df['Comment'].apply(self.__add_first_count)\n",
    "        df['contain']=df['Comment'].apply(self.__add_second_count)\n",
    "        return df\n",
    "\n",
    "class AddEmailFlag:\n",
    "\n",
    "    def fit(self,x,y=None):\n",
    "        return self\n",
    "    \n",
    "    def __add_email_count(self,text):\n",
    "        pattern = '[\\w]+@[\\w]+\\.\\w+'\n",
    "        return len(re.findall(pattern, text))\n",
    "\n",
    "    def transform(self, df):\n",
    "        df['email']=df['Comment'].apply(self.__add_email_count)\n",
    "        return df\n",
    "\n",
    "class AddPhoneFlag:\n",
    "\n",
    "    def fit(self,x,y=None):\n",
    "        return self\n",
    "    \n",
    "    def __add_phone_no_count(self,text):\n",
    "        pattern = '\\+?[0-9]?[0-9]? ?0?[0-9]{10}'\n",
    "        return len(re.findall(pattern, text))\n",
    "\n",
    "    def __add_phone_no_count_1(self,text):\n",
    "        pattern = '\\+?[0-9]?\\d{3}[ -]?\\d{3}[ -]?\\d{4}'\n",
    "        return len(re.findall(pattern, text))\n",
    "\n",
    "    def transform(self, df):\n",
    "        df['phone']=df['Comment'].apply(self.__add_phone_no_count)\n",
    "        df['phone']=df['Comment'].apply(self.__add_phone_no_count_1)\n",
    "\n",
    "        return df\n",
    "\n",
    "\n",
    "class RemovePhoneLinkEmail:\n",
    "\n",
    "    def fit(self,x,y=None):\n",
    "        return self\n",
    "    \n",
    "    def __remove(self,text):\n",
    "        text = re.sub(\"\\$[0-9]*([\\.,][0-9]{2})*\\$?\", \"\", text)\n",
    "        text = re.sub(\"\\+?[0-9]?[0-9]? ?0?[0-9]{10}\", \"\", text)\n",
    "        text = re.sub(\"\\+?[0-9]?\\d{3}[ -]?\\d{3}[ -]?\\d{4}\", \"\", text)\n",
    "        text = re.sub(r\"(https:\\/\\/www\\.|http:\\/\\/www\\.|https:\\/\\/|http:\\/\\/)?[a-zA-Z0-9]{2,}(\\.[a-zA-Z0-9]{2,})(\\.[a-zA-Z0-9]{2,})?\", \"\", text)\n",
    "        text = re.sub(r\"[\\w]+@[\\w]+\\.\\w+\", \"\", text)\n",
    "        text = emoji.replace_emoji(text)\n",
    "        return text \n",
    "\n",
    "    def transform(self, df):\n",
    "        df['Comment']=df['Comment'].apply(self.__remove)\n",
    "        return df\n",
    "\n",
    "class LemmatizeText:\n",
    "    def __init__(self):\n",
    "        self.lemmatizer = nltk.WordNetLemmatizer()\n",
    "    \n",
    "    def fit(self, X, y=None):\n",
    "        return self\n",
    "    \n",
    "    def __lemmatize_text(self, text):\n",
    "        return \" \".join([self.lemmatizer.lemmatize(word) for word in re.split(\"\\W+\", text)]).strip()\n",
    "\n",
    "    def transform(self, df):\n",
    "        df['Comment'] = df['Comment'].map(lambda text: self.__lemmatize_text(text))\n",
    "        return df\n",
    "\n",
    "\n"
   ]
  },
  {
   "cell_type": "code",
   "execution_count": 15,
   "metadata": {},
   "outputs": [],
   "source": [
    "\n",
    "\n",
    "pipe =  Pipeline([\n",
    "    (\"ConvertData\",ConvertData()),\n",
    "\n",
    "    (\"AddCurrencyFlag\",AddCurrencyFlag()),\n",
    "    (\"AddSpamWordsFlag\",AddSpamWordsFlag()),\n",
    "    (\"AddEmojiFlag\",AddEmojiFlag()),\n",
    "    (\"AddContainFlag\",AddContainFlag()),\n",
    "    (\"AddEmailFlag\",AddEmailFlag()),\n",
    "    (\"AddPhoneFlag\",AddPhoneFlag()),\n",
    "\n",
    "    (\"RemovePhoneLinkEmail\",RemovePhoneLinkEmail()),\n",
    "    (\"RemoveStopWordsPunctuation\",RemoveStopWordsPunctuation()),\n",
    "    \n",
    "    (\"LemmatizeText\",LemmatizeText()),\n",
    "\n",
    "    (\"AddLengthFlag\",AddLengthFlag()),\n",
    "\n",
    "\n",
    "\n",
    "])\n"
   ]
  },
  {
   "cell_type": "code",
   "execution_count": 16,
   "metadata": {},
   "outputs": [],
   "source": [
    "\n",
    "d = pipe.transform(df_test)\n",
    "# Function to remove punctuation and stopwords from a text\n"
   ]
  },
  {
   "cell_type": "code",
   "execution_count": 21,
   "metadata": {},
   "outputs": [],
   "source": [
    "df.to_csv(\"df.csv\")"
   ]
  },
  {
   "cell_type": "code",
   "execution_count": 22,
   "metadata": {},
   "outputs": [],
   "source": [
    "d = d.reindex(columns=['Comment',\t'Spam'\t,'length',\t'currency',\t'spam_word',\t'emoji'\t,'contain',\t'email',\t'phone'])\n"
   ]
  },
  {
   "cell_type": "code",
   "execution_count": 23,
   "metadata": {},
   "outputs": [],
   "source": [
    "d.to_csv(\"d.csv\")"
   ]
  },
  {
   "cell_type": "code",
   "execution_count": 144,
   "metadata": {},
   "outputs": [
    {
     "data": {
      "text/plain": [
       "'dadad@d.ca'"
      ]
     },
     "execution_count": 144,
     "metadata": {},
     "output_type": "execute_result"
    }
   ],
   "source": [
    "pattern = re.compile('[{}]'.format(re.escape('!\"#&\\'()*,-/:;<=>?[\\\\]^_`{|}~')))\n",
    "\" \".join([word.lower() for word in pattern.sub('', \"dadad@d.ca\".lower().strip()).split() if word.lower() not in set(stopwords.words('english'))])"
   ]
  },
  {
   "cell_type": "code",
   "execution_count": 2,
   "metadata": {},
   "outputs": [
    {
     "name": "stderr",
     "output_type": "stream",
     "text": [
      "\n",
      "** (process:1755): WARNING **: 10:56:52.707: Error loading plugin: libhspell.so.0: cannot open shared object file: No such file or directory\n",
      "\n",
      "\n",
      "** (process:1755): WARNING **: 10:56:52.718: Error loading plugin: libvoikko.so.1: cannot open shared object file: No such file or directory\n",
      "\n",
      "\n",
      "** (process:1755): WARNING **: 10:56:52.769: Error loading plugin: libnuspell.so.5: cannot open shared object file: No such file or directory\n",
      "\n",
      "\n",
      "** (process:1755): WARNING **: 10:56:52.821: Error loading plugin: libaspell.so.15: cannot open shared object file: No such file or directory\n",
      "\n"
     ]
    },
    {
     "ename": "DefaultLanguageNotFoundError",
     "evalue": "en_US",
     "output_type": "error",
     "traceback": [
      "\u001b[0;31m---------------------------------------------------------------------------\u001b[0m",
      "\u001b[0;31mDefaultLanguageNotFoundError\u001b[0m              Traceback (most recent call last)",
      "Cell \u001b[0;32mIn[2], line 10\u001b[0m\n\u001b[1;32m      7\u001b[0m     \u001b[39mfor\u001b[39;00m error \u001b[39min\u001b[39;00m spell_checker:\n\u001b[1;32m      8\u001b[0m         \u001b[39mprint\u001b[39m(\u001b[39m\"\u001b[39m\u001b[39mSpelling mistake:\u001b[39m\u001b[39m\"\u001b[39m, error\u001b[39m.\u001b[39mword)\n\u001b[0;32m---> 10\u001b[0m detect_spelling_mistakes(\u001b[39m\"\u001b[39;49m\u001b[39mdadad\u001b[39;49m\u001b[39m\"\u001b[39;49m)\n",
      "Cell \u001b[0;32mIn[2], line 4\u001b[0m, in \u001b[0;36mdetect_spelling_mistakes\u001b[0;34m(text)\u001b[0m\n\u001b[1;32m      3\u001b[0m \u001b[39mdef\u001b[39;00m \u001b[39mdetect_spelling_mistakes\u001b[39m(text):\n\u001b[0;32m----> 4\u001b[0m     spell_checker \u001b[39m=\u001b[39m SpellChecker(\u001b[39m\"\u001b[39;49m\u001b[39men_US\u001b[39;49m\u001b[39m\"\u001b[39;49m)\n\u001b[1;32m      5\u001b[0m     spell_checker\u001b[39m.\u001b[39mset_text(text)\n\u001b[1;32m      7\u001b[0m     \u001b[39mfor\u001b[39;00m error \u001b[39min\u001b[39;00m spell_checker:\n",
      "File \u001b[0;32m~/.local/lib/python3.11/site-packages/enchant/checker/__init__.py:140\u001b[0m, in \u001b[0;36mSpellChecker.__init__\u001b[0;34m(self, lang, text, tokenize, chunkers, filters)\u001b[0m\n\u001b[1;32m    138\u001b[0m         \u001b[39mdict\u001b[39m \u001b[39m=\u001b[39m enchant\u001b[39m.\u001b[39mDict(lang)\n\u001b[1;32m    139\u001b[0m     \u001b[39mexcept\u001b[39;00m DictNotFoundError:\n\u001b[0;32m--> 140\u001b[0m         \u001b[39mraise\u001b[39;00m DefaultLanguageNotFoundError(lang) \u001b[39mfrom\u001b[39;00m \u001b[39mNone\u001b[39;00m\n\u001b[1;32m    141\u001b[0m \u001b[39melse\u001b[39;00m:\n\u001b[1;32m    142\u001b[0m     \u001b[39mdict\u001b[39m \u001b[39m=\u001b[39m lang\n",
      "\u001b[0;31mDefaultLanguageNotFoundError\u001b[0m: en_US"
     ]
    }
   ],
   "source": [
    "from enchant.checker import SpellChecker\n",
    "\n",
    "def detect_spelling_mistakes(text):\n",
    "    spell_checker = SpellChecker(\"en_US\")\n",
    "    spell_checker.set_text(text)\n",
    "    \n",
    "    for error in spell_checker:\n",
    "        print(\"Spelling mistake:\", error.word)\n",
    "\n",
    "detect_spelling_mistakes(\"dadad\")"
   ]
  },
  {
   "cell_type": "code",
   "execution_count": 235,
   "metadata": {},
   "outputs": [
    {
     "ename": "BrokenProcessPool",
     "evalue": "A task has failed to un-serialize. Please ensure that the arguments of the function are all picklable.",
     "output_type": "error",
     "traceback": [
      "\u001b[0;31m---------------------------------------------------------------------------\u001b[0m",
      "\u001b[0;31m_RemoteTraceback\u001b[0m                          Traceback (most recent call last)",
      "\u001b[0;31m_RemoteTraceback\u001b[0m: \n\"\"\"\nTraceback (most recent call last):\n  File \"/home/brijesh/.local/lib/python3.11/site-packages/joblib/externals/loky/process_executor.py\", line 391, in _process_worker\n    call_item = call_queue.get(block=True, timeout=timeout)\n                ^^^^^^^^^^^^^^^^^^^^^^^^^^^^^^^^^^^^^^^^^^^\n  File \"/usr/lib/python3.11/multiprocessing/queues.py\", line 122, in get\n    return _ForkingPickler.loads(res)\n           ^^^^^^^^^^^^^^^^^^^^^^^^^^\nAttributeError: 'WordListCorpusReader' object has no attribute '_unload'\n\"\"\"",
      "\nThe above exception was the direct cause of the following exception:\n",
      "\u001b[0;31mBrokenProcessPool\u001b[0m                         Traceback (most recent call last)",
      "Cell \u001b[0;32mIn[235], line 31\u001b[0m\n\u001b[1;32m     28\u001b[0m     \u001b[39mreturn\u001b[39;00m parallel_transform(pipe, X)\n\u001b[1;32m     30\u001b[0m \u001b[39m# Call the parallel_pipeline_transform function to transform your data in parallel\u001b[39;00m\n\u001b[0;32m---> 31\u001b[0m transformed_data \u001b[39m=\u001b[39m parallel_pipeline_transform(df_test)\n",
      "Cell \u001b[0;32mIn[235], line 28\u001b[0m, in \u001b[0;36mparallel_pipeline_transform\u001b[0;34m(X)\u001b[0m\n\u001b[1;32m     27\u001b[0m \u001b[39mdef\u001b[39;00m \u001b[39mparallel_pipeline_transform\u001b[39m(X):\n\u001b[0;32m---> 28\u001b[0m     \u001b[39mreturn\u001b[39;00m parallel_transform(pipe, X)\n",
      "Cell \u001b[0;32mIn[235], line 6\u001b[0m, in \u001b[0;36mparallel_transform\u001b[0;34m(transformer, X)\u001b[0m\n\u001b[1;32m      5\u001b[0m \u001b[39mdef\u001b[39;00m \u001b[39mparallel_transform\u001b[39m(transformer, X):\n\u001b[0;32m----> 6\u001b[0m     \u001b[39mreturn\u001b[39;00m Parallel(n_jobs\u001b[39m=\u001b[39;49m\u001b[39m-\u001b[39;49m\u001b[39m1\u001b[39;49m)(delayed(transformer\u001b[39m.\u001b[39;49mtransform)(chunk) \u001b[39mfor\u001b[39;49;00m chunk \u001b[39min\u001b[39;49;00m np\u001b[39m.\u001b[39;49marray_split(X, n_jobs))\n",
      "File \u001b[0;32m~/.local/lib/python3.11/site-packages/joblib/parallel.py:1098\u001b[0m, in \u001b[0;36mParallel.__call__\u001b[0;34m(self, iterable)\u001b[0m\n\u001b[1;32m   1095\u001b[0m     \u001b[39mself\u001b[39m\u001b[39m.\u001b[39m_iterating \u001b[39m=\u001b[39m \u001b[39mFalse\u001b[39;00m\n\u001b[1;32m   1097\u001b[0m \u001b[39mwith\u001b[39;00m \u001b[39mself\u001b[39m\u001b[39m.\u001b[39m_backend\u001b[39m.\u001b[39mretrieval_context():\n\u001b[0;32m-> 1098\u001b[0m     \u001b[39mself\u001b[39;49m\u001b[39m.\u001b[39;49mretrieve()\n\u001b[1;32m   1099\u001b[0m \u001b[39m# Make sure that we get a last message telling us we are done\u001b[39;00m\n\u001b[1;32m   1100\u001b[0m elapsed_time \u001b[39m=\u001b[39m time\u001b[39m.\u001b[39mtime() \u001b[39m-\u001b[39m \u001b[39mself\u001b[39m\u001b[39m.\u001b[39m_start_time\n",
      "File \u001b[0;32m~/.local/lib/python3.11/site-packages/joblib/parallel.py:975\u001b[0m, in \u001b[0;36mParallel.retrieve\u001b[0;34m(self)\u001b[0m\n\u001b[1;32m    973\u001b[0m \u001b[39mtry\u001b[39;00m:\n\u001b[1;32m    974\u001b[0m     \u001b[39mif\u001b[39;00m \u001b[39mgetattr\u001b[39m(\u001b[39mself\u001b[39m\u001b[39m.\u001b[39m_backend, \u001b[39m'\u001b[39m\u001b[39msupports_timeout\u001b[39m\u001b[39m'\u001b[39m, \u001b[39mFalse\u001b[39;00m):\n\u001b[0;32m--> 975\u001b[0m         \u001b[39mself\u001b[39m\u001b[39m.\u001b[39m_output\u001b[39m.\u001b[39mextend(job\u001b[39m.\u001b[39;49mget(timeout\u001b[39m=\u001b[39;49m\u001b[39mself\u001b[39;49m\u001b[39m.\u001b[39;49mtimeout))\n\u001b[1;32m    976\u001b[0m     \u001b[39melse\u001b[39;00m:\n\u001b[1;32m    977\u001b[0m         \u001b[39mself\u001b[39m\u001b[39m.\u001b[39m_output\u001b[39m.\u001b[39mextend(job\u001b[39m.\u001b[39mget())\n",
      "File \u001b[0;32m~/.local/lib/python3.11/site-packages/joblib/_parallel_backends.py:567\u001b[0m, in \u001b[0;36mLokyBackend.wrap_future_result\u001b[0;34m(future, timeout)\u001b[0m\n\u001b[1;32m    564\u001b[0m \u001b[39m\u001b[39m\u001b[39m\"\"\"Wrapper for Future.result to implement the same behaviour as\u001b[39;00m\n\u001b[1;32m    565\u001b[0m \u001b[39mAsyncResults.get from multiprocessing.\"\"\"\u001b[39;00m\n\u001b[1;32m    566\u001b[0m \u001b[39mtry\u001b[39;00m:\n\u001b[0;32m--> 567\u001b[0m     \u001b[39mreturn\u001b[39;00m future\u001b[39m.\u001b[39;49mresult(timeout\u001b[39m=\u001b[39;49mtimeout)\n\u001b[1;32m    568\u001b[0m \u001b[39mexcept\u001b[39;00m CfTimeoutError \u001b[39mas\u001b[39;00m e:\n\u001b[1;32m    569\u001b[0m     \u001b[39mraise\u001b[39;00m \u001b[39mTimeoutError\u001b[39;00m \u001b[39mfrom\u001b[39;00m \u001b[39me\u001b[39;00m\n",
      "File \u001b[0;32m/usr/lib/python3.11/concurrent/futures/_base.py:456\u001b[0m, in \u001b[0;36mFuture.result\u001b[0;34m(self, timeout)\u001b[0m\n\u001b[1;32m    454\u001b[0m     \u001b[39mraise\u001b[39;00m CancelledError()\n\u001b[1;32m    455\u001b[0m \u001b[39melif\u001b[39;00m \u001b[39mself\u001b[39m\u001b[39m.\u001b[39m_state \u001b[39m==\u001b[39m FINISHED:\n\u001b[0;32m--> 456\u001b[0m     \u001b[39mreturn\u001b[39;00m \u001b[39mself\u001b[39;49m\u001b[39m.\u001b[39;49m__get_result()\n\u001b[1;32m    457\u001b[0m \u001b[39melse\u001b[39;00m:\n\u001b[1;32m    458\u001b[0m     \u001b[39mraise\u001b[39;00m \u001b[39mTimeoutError\u001b[39;00m()\n",
      "File \u001b[0;32m/usr/lib/python3.11/concurrent/futures/_base.py:401\u001b[0m, in \u001b[0;36mFuture.__get_result\u001b[0;34m(self)\u001b[0m\n\u001b[1;32m    399\u001b[0m \u001b[39mif\u001b[39;00m \u001b[39mself\u001b[39m\u001b[39m.\u001b[39m_exception:\n\u001b[1;32m    400\u001b[0m     \u001b[39mtry\u001b[39;00m:\n\u001b[0;32m--> 401\u001b[0m         \u001b[39mraise\u001b[39;00m \u001b[39mself\u001b[39m\u001b[39m.\u001b[39m_exception\n\u001b[1;32m    402\u001b[0m     \u001b[39mfinally\u001b[39;00m:\n\u001b[1;32m    403\u001b[0m         \u001b[39m# Break a reference cycle with the exception in self._exception\u001b[39;00m\n\u001b[1;32m    404\u001b[0m         \u001b[39mself\u001b[39m \u001b[39m=\u001b[39m \u001b[39mNone\u001b[39;00m\n",
      "\u001b[0;31mBrokenProcessPool\u001b[0m: A task has failed to un-serialize. Please ensure that the arguments of the function are all picklable."
     ]
    }
   ],
   "source": [
    "from sklearn.pipeline import make_pipeline\n",
    "from joblib import Parallel, delayed\n",
    "\n",
    "# Define a function to execute a transformer in parallel\n",
    "def parallel_transform(transformer, X):\n",
    "    return Parallel(n_jobs=-1)(delayed(transformer.transform)(chunk) for chunk in np.array_split(X, n_jobs))\n",
    "\n",
    "# Set the number of parallel jobs\n",
    "n_jobs = 4  # Adjust the number of parallel jobs as per your system's capabilities\n",
    "\n",
    "# Define your pipeline\n",
    "pipe = make_pipeline(\n",
    "    ConvertData(),\n",
    "    RemoveStopWordsPunctuation(),\n",
    "    AddLengthFlag(),\n",
    "    AddCurrencyFlag(),\n",
    "    AddEmojiFlag(),\n",
    "    AddContainFlag(),\n",
    "    AddSpamWordsFlag(),\n",
    "    AddEmailFlag(),\n",
    "    AddPhoneFlag(),\n",
    "    RemovePhoneLinkEmail(),\n",
    "    LemmatizeText()\n",
    ")\n",
    "\n",
    "# Parallelize the pipeline transformations\n",
    "def parallel_pipeline_transform(X):\n",
    "    return parallel_transform(pipe, X)\n",
    "\n",
    "# Call the parallel_pipeline_transform function to transform your data in parallel\n",
    "transformed_data = parallel_pipeline_transform(df_test)\n"
   ]
  },
  {
   "cell_type": "code",
   "execution_count": null,
   "metadata": {},
   "outputs": [],
   "source": []
  }
 ],
 "metadata": {
  "kernelspec": {
   "display_name": "Python 3 (ipykernel)",
   "language": "python",
   "name": "python3"
  },
  "language_info": {
   "codemirror_mode": {
    "name": "ipython",
    "version": 3
   },
   "file_extension": ".py",
   "mimetype": "text/x-python",
   "name": "python",
   "nbconvert_exporter": "python",
   "pygments_lexer": "ipython3",
   "version": "3.11.3"
  }
 },
 "nbformat": 4,
 "nbformat_minor": 2
}
