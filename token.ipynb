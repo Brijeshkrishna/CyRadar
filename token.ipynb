{
 "cells": [
  {
   "cell_type": "code",
   "execution_count": 1,
   "metadata": {},
   "outputs": [
    {
     "name": "stderr",
     "output_type": "stream",
     "text": [
      "2023-06-22 09:16:49.293416: I tensorflow/tsl/cuda/cudart_stub.cc:28] Could not find cuda drivers on your machine, GPU will not be used.\n",
      "2023-06-22 09:16:49.356752: I tensorflow/tsl/cuda/cudart_stub.cc:28] Could not find cuda drivers on your machine, GPU will not be used.\n",
      "2023-06-22 09:16:49.357708: I tensorflow/core/platform/cpu_feature_guard.cc:182] This TensorFlow binary is optimized to use available CPU instructions in performance-critical operations.\n",
      "To enable the following instructions: AVX2 FMA, in other operations, rebuild TensorFlow with the appropriate compiler flags.\n",
      "2023-06-22 09:16:53.716373: W tensorflow/compiler/tf2tensorrt/utils/py_utils.cc:38] TF-TRT Warning: Could not find TensorRT\n",
      "[nltk_data] Downloading package stopwords to\n",
      "[nltk_data]     /home/brijesh/nltk_data...\n",
      "[nltk_data]   Package stopwords is already up-to-date!\n",
      "[nltk_data] Downloading package wordnet to /home/brijesh/nltk_data...\n",
      "[nltk_data]   Package wordnet is already up-to-date!\n"
     ]
    }
   ],
   "source": [
    "import numpy as np\n",
    "import pandas as pd\n",
    "\n",
    "import matplotlib.pyplot as plt\n",
    "import seaborn as sns\n",
    "\n",
    "import tensorflow as tf\n",
    "import tensorflow_hub as hub\n",
    "from tensorflow import  keras\n",
    "\n",
    "import wordcloud\n",
    "\n",
    "from sklearn.model_selection import train_test_split\n",
    "from sklearn.preprocessing import StandardScaler\n",
    "from imblearn.over_sampling import RandomOverSampler\n",
    "\n",
    "import re\n",
    "import string\n",
    "import nltk\n",
    "from nltk.corpus import stopwords\n",
    "\n",
    "nltk.download('stopwords')\n",
    "nltk.download('wordnet')\n",
    "\n",
    "import emoji\n",
    "\n",
    "from tensorflow.keras.preprocessing.text import Tokenizer\n",
    "from tensorflow.keras.preprocessing.sequence import pad_sequences\n",
    "\n",
    "\n",
    "\n",
    "import pandas as pd\n",
    "import seaborn as sns\n",
    "import string \n",
    "import re\n",
    "import nltk\n",
    "from sklearn.model_selection import train_test_split\n",
    "from sklearn.feature_extraction.text import CountVectorizer, TfidfTransformer\n",
    "from sklearn.naive_bayes import MultinomialNB\n",
    "from sklearn.tree import DecisionTreeClassifier\n",
    "from sklearn.ensemble import RandomForestClassifier\n",
    "from sklearn.metrics import accuracy_score"
   ]
  },
  {
   "cell_type": "code",
   "execution_count": 193,
   "metadata": {},
   "outputs": [
    {
     "data": {
      "text/html": [
       "<div>\n",
       "<style scoped>\n",
       "    .dataframe tbody tr th:only-of-type {\n",
       "        vertical-align: middle;\n",
       "    }\n",
       "\n",
       "    .dataframe tbody tr th {\n",
       "        vertical-align: top;\n",
       "    }\n",
       "\n",
       "    .dataframe thead th {\n",
       "        text-align: right;\n",
       "    }\n",
       "</style>\n",
       "<table border=\"1\" class=\"dataframe\">\n",
       "  <thead>\n",
       "    <tr style=\"text-align: right;\">\n",
       "      <th></th>\n",
       "      <th>Comment</th>\n",
       "      <th>Spam</th>\n",
       "    </tr>\n",
       "  </thead>\n",
       "  <tbody>\n",
       "    <tr>\n",
       "      <th>0</th>\n",
       "      <td>Go until jurong point, crazy.. Available only ...</td>\n",
       "      <td>0</td>\n",
       "    </tr>\n",
       "    <tr>\n",
       "      <th>1</th>\n",
       "      <td>Ok lar... Joking wif u oni...</td>\n",
       "      <td>1</td>\n",
       "    </tr>\n",
       "    <tr>\n",
       "      <th>2</th>\n",
       "      <td>Free entry in 2 a wkly comp to win FA Cup fina...</td>\n",
       "      <td>1</td>\n",
       "    </tr>\n",
       "    <tr>\n",
       "      <th>3</th>\n",
       "      <td>U dun say so early hor... U c already then say...</td>\n",
       "      <td>0</td>\n",
       "    </tr>\n",
       "    <tr>\n",
       "      <th>4</th>\n",
       "      <td>Nah I don't think he goes to usf, he lives aro...</td>\n",
       "      <td>0</td>\n",
       "    </tr>\n",
       "  </tbody>\n",
       "</table>\n",
       "</div>"
      ],
      "text/plain": [
       "                                             Comment  Spam\n",
       "0  Go until jurong point, crazy.. Available only ...     0\n",
       "1                      Ok lar... Joking wif u oni...     1\n",
       "2  Free entry in 2 a wkly comp to win FA Cup fina...     1\n",
       "3  U dun say so early hor... U c already then say...     0\n",
       "4  Nah I don't think he goes to usf, he lives aro...     0"
      ]
     },
     "execution_count": 193,
     "metadata": {},
     "output_type": "execute_result"
    }
   ],
   "source": [
    "df1 = pd.read_csv(\"./datasets/sms.csv\",delimiter=',')\n",
    "df2 = pd.read_csv(\"datasets/yt.csv\",delimiter=',')\n",
    "df3 = pd.read_csv(\"datasets/my-collection.csv\",delimiter=',')\n",
    "df4 = pd.read_csv(\"datasets/spam-word.csv\",delimiter=',')\n",
    "\n",
    "df = pd.concat([df1,df2,df3,df4], ignore_index=True)\n",
    "\n",
    "\n",
    "\n",
    "# df = df[[\"comment\", \"Spam\"]]\n",
    "\n",
    "df = df.drop_duplicates()\n",
    "df = df.dropna()\n",
    "df[\"Spam\"]  = df[\"Spam\"].astype(int)\n",
    "df[\"Comment\"]  = df[\"Comment\"].astype(str)\n",
    "\n",
    "\n",
    "df.head()"
   ]
  },
  {
   "attachments": {},
   "cell_type": "markdown",
   "metadata": {},
   "source": [
    "Preprocessing"
   ]
  },
  {
   "cell_type": "code",
   "execution_count": 217,
   "metadata": {},
   "outputs": [],
   "source": [
    "df_test = pd.concat([df1,df2,df3,df4], ignore_index=True)\n"
   ]
  },
  {
   "cell_type": "code",
   "execution_count": 195,
   "metadata": {},
   "outputs": [],
   "source": [
    "spam_words = [ \"Urgent\", \"Exclusive\", \"Limited time\", \"Free\", \"Guaranteed\", \"Act now\", \"Discount\", \"Special offer\", \"Prize\", \"Instant\",    \"Cash\", \"Save\", \"Win\", \"Best\", \"Secret\", \"Incredible\", \"Congratulations\", \"Approved\", \"Risk free\", \"Hidden\", \"Bonus\",    \"Sale\", \"Amazing\", \"Extra cash\", \"Opportunity\", \"Easy\", \"Double your\", \"Best price\", \"Cash back\", \"Deal\", \"Earn\",    \"Money\", \"No obligation\", \"Profit\", \"Results\", \"Exciting\", \"Unbelievable\", \"Jackpot\", \"Fantastic\", \"Instant access\",    \"Million dollars\", \"Discounted\", \"Last chance\", \"Exclusive offer\", \"Big savings\", \"Limited offer\", \"Free trial\",    \"Special promotion\", \"Secret revealed\", \"Valuable\", \"Money-back guarantee\", \"Lowest price\", \"Save money\", \"Make money\",    \"No risk\", \"Exclusive deal\", \"Limited supply\", \"Huge\", \"Incredible offer\", \"Prize winner\", \"Earn extra income\",    \"Limited spots\", \"New offer\", \"Best deal\", \"Don't miss out\", \"Great savings\", \"Top offer\", \"Double your income\",    \"Discount code\", \"Fast cash\", \"Top-rated\", \"Best value\", \"No cost\", \"Elite\", \"Act fast\", \"Unbeatable\", \"Cash prize\",    \"Limited availability\", \"Special discount\", \"Quick cash\", \"No catch\", \"Instant approval\", \"Big discount\", \"Easy money\",    \"Insider\", \"Invitation\", \"Free shipping\", \"Huge discount\", \"Extra income\", \"Secret formula\", \"No strings attached\",    \"Money-making\", \"Dream come true\", \"Massive\", \"Free gift\", \"Incredible opportunity\", \"Risk-free trial\", \"Instant money\",    \"Special price\", \"No purchase necessary\"]\n"
   ]
  },
  {
   "cell_type": "code",
   "execution_count": 196,
   "metadata": {},
   "outputs": [],
   "source": [
    "pattern = re.compile('[{}]'.format(re.escape(string.punctuation)))\n",
    "df['Comment'] = df['Comment'].apply(lambda text: \" \".join([word.lower() for word in pattern.sub('', text.lower().strip()).split() if word.lower() not in set(stopwords.words('english'))]))"
   ]
  },
  {
   "cell_type": "code",
   "execution_count": 197,
   "metadata": {},
   "outputs": [],
   "source": [
    "df['length'] = df['Comment'].str.len().astype(int)\n",
    "df['currency']=df['Comment'].str.contains('₤|₨|€|₹|₿|$',regex=False).astype(int)\n",
    "df['spam_word']=df['Comment'].str.contains('|'.join(i.lower().strip() for i in spam_words ),regex=True).astype(int)\n",
    "df[\"emoji\"] = df['Comment'].str.contains('💭|🔝|🆗|🎉|🎊|📯|🙌|😂|💸|👉|📢|🚀|💲|💣|🔱|💼|🆙|⏳|✨|💌|💎|🆕|🔞|💡|💰|👑|⭐|🌟|🎤|⚡|📈|💵|🏆|💪|🔓|🆓|🎰|⌚|🚨|💢|📮|🔥|🎈|🎥|🔔|💯|🎶|🔗|🎁|📚|🔊|👍|👏|📱|📝|🤑|🏅|🔒|📣|💥').astype(int)\n",
    "\n",
    "df['contain']=df['Comment'].str.contains('[0-9]*%|T&C',regex=True).astype(int)\n",
    "df['contain']=df['contain'] | df['Comment'].str.contains(r\"https?://\\S+|www\\.\\S+\",regex=True).astype(int)\n",
    "df['contain']=df['contain'] | df['Comment'].str.contains(\"free|Free\").astype(int)\n",
    "\n",
    "df['email']=df['Comment'].str.contains(r\"[\\w]+@[\\w]+\\.\\w+\",regex=True).astype(int)\n",
    "df['phone']=df['Comment'].str.contains(r\"\\+?[0-9]?[0-9]? ?0?[0-9]{10}\",regex=True).astype(int)\n"
   ]
  },
  {
   "cell_type": "code",
   "execution_count": 198,
   "metadata": {},
   "outputs": [
    {
     "data": {
      "text/html": [
       "<div>\n",
       "<style scoped>\n",
       "    .dataframe tbody tr th:only-of-type {\n",
       "        vertical-align: middle;\n",
       "    }\n",
       "\n",
       "    .dataframe tbody tr th {\n",
       "        vertical-align: top;\n",
       "    }\n",
       "\n",
       "    .dataframe thead th {\n",
       "        text-align: right;\n",
       "    }\n",
       "</style>\n",
       "<table border=\"1\" class=\"dataframe\">\n",
       "  <thead>\n",
       "    <tr style=\"text-align: right;\">\n",
       "      <th></th>\n",
       "      <th>Comment</th>\n",
       "      <th>Spam</th>\n",
       "      <th>length</th>\n",
       "      <th>currency</th>\n",
       "      <th>spam_word</th>\n",
       "      <th>emoji</th>\n",
       "      <th>contain</th>\n",
       "      <th>email</th>\n",
       "      <th>phone</th>\n",
       "    </tr>\n",
       "  </thead>\n",
       "  <tbody>\n",
       "    <tr>\n",
       "      <th>0</th>\n",
       "      <td>go jurong point crazy available bugis n great ...</td>\n",
       "      <td>0</td>\n",
       "      <td>82</td>\n",
       "      <td>0</td>\n",
       "      <td>0</td>\n",
       "      <td>0</td>\n",
       "      <td>0</td>\n",
       "      <td>0</td>\n",
       "      <td>0</td>\n",
       "    </tr>\n",
       "    <tr>\n",
       "      <th>1</th>\n",
       "      <td>ok lar joking wif u oni</td>\n",
       "      <td>1</td>\n",
       "      <td>23</td>\n",
       "      <td>0</td>\n",
       "      <td>0</td>\n",
       "      <td>0</td>\n",
       "      <td>0</td>\n",
       "      <td>0</td>\n",
       "      <td>0</td>\n",
       "    </tr>\n",
       "    <tr>\n",
       "      <th>2</th>\n",
       "      <td>free entry 2 wkly comp win fa cup final tkts 2...</td>\n",
       "      <td>1</td>\n",
       "      <td>135</td>\n",
       "      <td>0</td>\n",
       "      <td>1</td>\n",
       "      <td>0</td>\n",
       "      <td>1</td>\n",
       "      <td>0</td>\n",
       "      <td>1</td>\n",
       "    </tr>\n",
       "    <tr>\n",
       "      <th>3</th>\n",
       "      <td>u dun say early hor u c already say</td>\n",
       "      <td>0</td>\n",
       "      <td>35</td>\n",
       "      <td>0</td>\n",
       "      <td>0</td>\n",
       "      <td>0</td>\n",
       "      <td>0</td>\n",
       "      <td>0</td>\n",
       "      <td>0</td>\n",
       "    </tr>\n",
       "    <tr>\n",
       "      <th>4</th>\n",
       "      <td>nah dont think goes usf lives around though</td>\n",
       "      <td>0</td>\n",
       "      <td>43</td>\n",
       "      <td>0</td>\n",
       "      <td>0</td>\n",
       "      <td>0</td>\n",
       "      <td>0</td>\n",
       "      <td>0</td>\n",
       "      <td>0</td>\n",
       "    </tr>\n",
       "  </tbody>\n",
       "</table>\n",
       "</div>"
      ],
      "text/plain": [
       "                                             Comment  Spam  length  currency   \n",
       "0  go jurong point crazy available bugis n great ...     0      82         0  \\\n",
       "1                            ok lar joking wif u oni     1      23         0   \n",
       "2  free entry 2 wkly comp win fa cup final tkts 2...     1     135         0   \n",
       "3                u dun say early hor u c already say     0      35         0   \n",
       "4        nah dont think goes usf lives around though     0      43         0   \n",
       "\n",
       "   spam_word  emoji  contain  email  phone  \n",
       "0          0      0        0      0      0  \n",
       "1          0      0        0      0      0  \n",
       "2          1      0        1      0      1  \n",
       "3          0      0        0      0      0  \n",
       "4          0      0        0      0      0  "
      ]
     },
     "execution_count": 198,
     "metadata": {},
     "output_type": "execute_result"
    }
   ],
   "source": [
    "\n",
    "\n",
    "# df[\"emoji\"] = df['Comment'].str.contains('💭|🔝|🆗|🎉|🎊|📯|🙌|😂|💸|👉|📢|🚀|💲|💣|🔱|💼|🆙|⏳|✨|💌|💎|🆕|🔞|💡|💰|👑|⭐|🌟|🎤|⚡|📈|💵|🏆|💪|🔓|🆓|🎰|⌚|🚨|💢|📮|🔥|🎈|🎥|🔔|💯|🎶|🔗|🎁|📚|🔊|👍|👏|📱|📝|🤑|🏅|🔒|📣|💥').astype(int)\n",
    "\n",
    "# df[\"flag\"] = df['Comment'].str.contains('🇦🇫|🇦🇱|🇩🇿|🇦🇩|🇦🇴|🇦🇷|🇦🇲|🇦🇼|🇦🇺|🇦🇹|🇦🇿|🇧🇸|🇧🇭|🇧🇩|🇧🇧|🇧🇾|🇧🇪|🇧🇿|🇧🇯|🇧🇲|🇧🇹|🇧🇴|🇧🇦|🇧🇼|🇧🇷|🇧🇳|🇧🇬|🇧🇫|🇧🇮|🇨🇻|🇰🇭|🇨🇲|🇨🇦|🇮🇨|🇰🇾|🇨🇫|🇹🇩|🇨🇱|🇨🇳|🇨🇽|🇨🇨|🇨🇴|🇰🇲|🇨🇬|🇨🇩|🇨🇰|🇨🇷|🇨🇮|🇭🇷|🇨🇺|🇨🇼|🇨🇾|🇨🇿|🇩🇰|🇩🇯|🇩🇲|🇩🇴|🇪🇨|🇪🇬|🇸🇻|🇬🇶|🇪🇷|🇪🇪|🇪🇹|🇫🇰|🇫🇴|🇫🇯|🇫🇮|🇫🇷|🇬🇫|🇵🇫|🇹🇫|🇬🇦|🇬🇲|🇬🇪|🇩🇪|🇬🇭|🇬🇮|🇬🇷|🇬🇱|🇬🇩|🇬🇵|🇬🇺|🇬🇹|🇬🇬|🇬🇳|🇬🇼|🇬🇾|🇭🇹|🇭🇳|🇭🇰|🇭🇺|🇮🇸|🇮🇳|🇮🇩|🇮🇷|🇮🇶|🇮🇪|🇮🇲|🇮🇱|🇮🇹|🇯🇲|🇯🇵|🇯🇪|🇯🇴|🇰🇿|🇰🇪|🇰🇮|🇽🇰|🇰🇼|🇰🇬|🇱🇦|🇱🇻|🇱🇧|🇱🇸|🇱🇷|🇱🇾|🇱🇮|🇱🇹|🇱🇺|🇲🇴|🇲🇰|🇲🇬|🇲🇼|🇲🇾|🇲🇻|🇲🇱|🇲🇹|🇲🇭|🇲🇶|🇲🇷|🇲🇺|🇾🇹|🇲🇽|🇫🇲|🇲🇩|🇲🇨|🇲🇳|🇲🇪|🇲🇸|🇲🇦|🇲🇿|🇲🇲|🇳🇦|🇳🇷|🇳🇵|🇳🇱|🇳🇨|🇳🇿|🇳🇮|🇳🇪|🇳🇬|🇳🇺|🇳🇫|🇲🇵|🇰🇵|🇳🇴|🇴🇲|🇵🇰|🇵🇼|🇵🇸|🇵🇦|🇵🇬|🇵🇾|🇵🇪|🇵🇭|🇵🇳|🇵🇱|🇵🇹|🇵🇷|🇶🇦|🇷🇴|🇷🇺|🇷🇼|🇧🇱|🇸🇭|🇰🇳|🇱🇨|🇲🇫|🇵🇲|🇻🇨|🇼🇸|🇸🇲|🇸🇹|🇸🇦|🇸🇳|🇷🇸|🇸🇨|🇸🇱|🇸🇬|🇸🇽|🇸🇰|🇸🇮|🇸🇧|🇸🇴|🇿🇦|🇬🇸|🇰🇷|🇸🇸|🇪🇸|🇱🇰|🇸🇩|🇸🇷|🇸🇯|🇸🇿|🇸🇪|🇨🇭|🇸🇾|🇹🇼|🇹🇯|🇹🇿|🇹🇭|🇹🇱|🇹🇬|🇹🇰|🇹🇴|🇹🇹|🇹🇳|🇹🇷|🇹🇲|🇹🇨|🇹🇻|🇺🇬|🇺🇦|🇦🇪|🇬🇧|🇺🇸|🇺🇾|🇺🇿|🇻🇺|🇻🇦|🇻🇪|🇻🇳|🇻🇮|🇻🇬|🇼🇫|🇪🇭|🇾🇪|🇿🇲|🇿🇼').map({False:0,True:1})\n",
    "\n",
    "df['contain']=df['Comment'].str.contains('[0-9]*%|T&C',regex=True).astype(int)\n",
    "df['contain']=df['contain'] | df['Comment'].str.contains(r\"https?://\\S+|www\\.\\S+\",regex=True).astype(int)\n",
    "df['contain']=df['contain'] | df['Comment'].str.contains(\"free|Free\").astype(int)\n",
    "\n",
    "df['email']=df['Comment'].str.contains(r\"[\\w]+@[\\w]+\\.\\w+\",regex=True).astype(int)\n",
    "df['phone']=df['Comment'].str.contains(r\"\\+?[0-9]?[0-9]? ?0?[0-9]{10}\",regex=True).astype(int)\n",
    "\n",
    "\n",
    "df.head()"
   ]
  },
  {
   "attachments": {},
   "cell_type": "markdown",
   "metadata": {},
   "source": [
    "Remove"
   ]
  },
  {
   "cell_type": "code",
   "execution_count": 199,
   "metadata": {},
   "outputs": [],
   "source": [
    "df[\"Comment\"] = df[\"Comment\"].map(lambda  text :  re.compile(r\"(\\+[0-9]{2})? ?\\d{10}\").sub(r\"\", text) )\n",
    "df[\"Comment\"] = df[\"Comment\"].map(lambda  text :  re.compile(r\"[\\w]+@[\\w]+\\.\\w+\").sub(r\"\", text) )\n",
    "df[\"Comment\"] = df[\"Comment\"].map(lambda  text :  re.compile(r\"https?://\\S+|www\\.\\S+\").sub(r\"\", text))\n",
    "df[\"Comment\"] = df[\"Comment\"].map(lambda  text :  emoji.replace_emoji(text))\n",
    "\n",
    "wordlem=nltk.WordNetLemmatizer()\n",
    "\n",
    "df[\"Comment\"] = df[\"Comment\"].map(lambda text : \" \".join([wordlem.lemmatize(i.strip()) for i in re.split(\"\\W+\",text) ]))\n",
    "df[\"Comment\"] = df[\"Comment\"].map(lambda  text :  text.strip() )\n"
   ]
  },
  {
   "cell_type": "code",
   "execution_count": 8,
   "metadata": {},
   "outputs": [],
   "source": [
    "y=pd.DataFrame(df.Spam)\n",
    "x=df.drop([\"Spam\"],axis=1)"
   ]
  },
  {
   "cell_type": "code",
   "execution_count": 9,
   "metadata": {},
   "outputs": [
    {
     "name": "stdout",
     "output_type": "stream",
     "text": [
      "go jurong point crazy available bugis n great world la e buffet cine got amore wat\n"
     ]
    }
   ],
   "source": [
    "print(df['Comment'][0])\n"
   ]
  },
  {
   "cell_type": "code",
   "execution_count": 10,
   "metadata": {},
   "outputs": [],
   "source": [
    "x_train,x_test,y_train,y_test=train_test_split(x,y,train_size=0.8,test_size=0.2,random_state=0)\n"
   ]
  },
  {
   "cell_type": "code",
   "execution_count": 11,
   "metadata": {},
   "outputs": [],
   "source": [
    "# tokenizer = Tokenizer()\n",
    "\n",
    "# tokenizer.fit_on_texts(x_train['Comment'])\n",
    "\n",
    "# train_string_sequences = tokenizer.texts_to_sequences(x_train['Comment'])\n",
    "# test_string_sequences = tokenizer.texts_to_sequences(x_test['Comment'])\n",
    "\n",
    "# max_string_sequence_length = 5000\n",
    "# train_string_data = pad_sequences(train_string_sequences, maxlen=max_string_sequence_length)\n",
    "# test_string_data = pad_sequences(test_string_sequences, maxlen=max_string_sequence_length)\n",
    "\n"
   ]
  },
  {
   "cell_type": "code",
   "execution_count": 12,
   "metadata": {},
   "outputs": [
    {
     "name": "stderr",
     "output_type": "stream",
     "text": [
      "2023-06-22 09:17:28.800273: I tensorflow/compiler/xla/stream_executor/cuda/cuda_gpu_executor.cc:996] successful NUMA node read from SysFS had negative value (-1), but there must be at least one NUMA node, so returning NUMA node zero. See more at https://github.com/torvalds/linux/blob/v6.0/Documentation/ABI/testing/sysfs-bus-pci#L344-L355\n",
      "2023-06-22 09:17:28.851908: W tensorflow/core/common_runtime/gpu/gpu_device.cc:1956] Cannot dlopen some GPU libraries. Please make sure the missing libraries mentioned above are installed properly if you would like to use GPU. Follow the guide at https://www.tensorflow.org/install/gpu for how to download and setup the required libraries for your platform.\n",
      "Skipping registering GPU devices...\n"
     ]
    }
   ],
   "source": [
    "embed = hub.load(\"https://tfhub.dev/google/nnlm-en-dim50/2\")"
   ]
  },
  {
   "cell_type": "code",
   "execution_count": 13,
   "metadata": {},
   "outputs": [
    {
     "name": "stderr",
     "output_type": "stream",
     "text": [
      "2023-06-22 09:17:29.544951: I tensorflow/core/common_runtime/executor.cc:1197] [/device:CPU:0] (DEBUG INFO) Executor start aborting (this does not indicate an error and you can ignore this message): INVALID_ARGUMENT: You must feed a value for placeholder tensor 'sentences' with dtype string and shape [?]\n",
      "\t [[{{node sentences}}]]\n"
     ]
    }
   ],
   "source": [
    "train_string_data = embed(x_train['Comment'])\n",
    "test_string_data = embed(x_test[\"Comment\"])\n"
   ]
  },
  {
   "cell_type": "code",
   "execution_count": 71,
   "metadata": {},
   "outputs": [],
   "source": [
    "# # input_data = {column: x_train[column].values for column in x_train.columns}\n",
    "# # input_data_test = {column: x_val[column].values for column in x_val.columns}\n",
    "X_train=pd.DataFrame([x_train[\"Comment\"],x_train[\"length\"],x_train[\"currency\"] , x_train[\"spam_word\"] , x_train[\"emoji\"] , x_train[\"contain\"], x_train[\"email\"], x_train[\"phone\"]])\n",
    "X_test=pd.DataFrame ( [x_test[\"Comment\"], x_test[\"length\"],x_test[\"currency\"] , x_test[\"spam_word\"] , x_test[\"emoji\"] , x_test[\"contain\"], x_test[\"email\"], x_test[\"phone\"]])\n",
    "#,currency_input,spam_word_input,emoji_input,email_input,phone_input\n",
    "#"
   ]
  },
  {
   "cell_type": "code",
   "execution_count": 83,
   "metadata": {},
   "outputs": [
    {
     "name": "stdout",
     "output_type": "stream",
     "text": [
      "(17308, 8)\n",
      "(17308, 1)\n",
      "(4327, 8)\n",
      "(4327, 1)\n"
     ]
    }
   ],
   "source": []
  },
  {
   "cell_type": "code",
   "execution_count": 16,
   "metadata": {},
   "outputs": [],
   "source": [
    "hub_layer = hub.KerasLayer(\"https://tfhub.dev/google/nnlm-en-dim50/2\", dtype=tf.string, trainable=True,name=\"hub\")\n"
   ]
  },
  {
   "cell_type": "code",
   "execution_count": 17,
   "metadata": {},
   "outputs": [
    {
     "data": {
      "text/plain": [
       "[PhysicalDevice(name='/physical_device:CPU:0', device_type='CPU')]"
      ]
     },
     "execution_count": 17,
     "metadata": {},
     "output_type": "execute_result"
    }
   ],
   "source": [
    "tf.config.list_physical_devices()"
   ]
  },
  {
   "cell_type": "code",
   "execution_count": 73,
   "metadata": {},
   "outputs": [
    {
     "name": "stdout",
     "output_type": "stream",
     "text": [
      "Model: \"model_6\"\n",
      "__________________________________________________________________________________________________\n",
      " Layer (type)                   Output Shape         Param #     Connected to                     \n",
      "==================================================================================================\n",
      " input_50 (InputLayer)          [(None, 1)]          0           []                               \n",
      "                                                                                                  \n",
      " input_51 (InputLayer)          [(None, 1)]          0           []                               \n",
      "                                                                                                  \n",
      " input_52 (InputLayer)          [(None, 1)]          0           []                               \n",
      "                                                                                                  \n",
      " input_54 (InputLayer)          [(None, 1)]          0           []                               \n",
      "                                                                                                  \n",
      " input_53 (InputLayer)          [(None, 1)]          0           []                               \n",
      "                                                                                                  \n",
      " input_55 (InputLayer)          [(None, 1)]          0           []                               \n",
      "                                                                                                  \n",
      " input_56 (InputLayer)          [(None, 1)]          0           []                               \n",
      "                                                                                                  \n",
      " input string (InputLayer)      [(None,)]            0           []                               \n",
      "                                                                                                  \n",
      " length_layer (Dense)           (None, 256)          512         ['input_50[0][0]']               \n",
      "                                                                                                  \n",
      " currency_layer (Dense)         (None, 2)            4           ['input_51[0][0]']               \n",
      "                                                                                                  \n",
      " spam_word_layer (Dense)        (None, 2)            4           ['input_52[0][0]']               \n",
      "                                                                                                  \n",
      " conatian_layer (Dense)         (None, 2)            4           ['input_54[0][0]']               \n",
      "                                                                                                  \n",
      " emoji_layer (Dense)            (None, 2)            4           ['input_53[0][0]']               \n",
      "                                                                                                  \n",
      " email_layer (Dense)            (None, 2)            4           ['input_55[0][0]']               \n",
      "                                                                                                  \n",
      " phone_layer (Dense)            (None, 2)            4           ['input_56[0][0]']               \n",
      "                                                                                                  \n",
      " hub (KerasLayer)               (None, 50)           48190600    ['input string[0][0]']           \n",
      "                                                                                                  \n",
      " concatenate_27 (Concatenate)   (None, 260)          0           ['length_layer[0][0]',           \n",
      "                                                                  'currency_layer[0][0]',         \n",
      "                                                                  'spam_word_layer[0][0]']        \n",
      "                                                                                                  \n",
      " concatenate_28 (Concatenate)   (None, 8)            0           ['conatian_layer[0][0]',         \n",
      "                                                                  'emoji_layer[0][0]',            \n",
      "                                                                  'email_layer[0][0]',            \n",
      "                                                                  'phone_layer[0][0]']            \n",
      "                                                                                                  \n",
      " dense_39 (Dense)               (None, 2500)         127500      ['hub[7][0]']                    \n",
      "                                                                                                  \n",
      " concat_layer_level1_1_dense (D  (None, 6)           1566        ['concatenate_27[0][0]']         \n",
      " ense)                                                                                            \n",
      "                                                                                                  \n",
      " concat_layer_level1_2_dense (D  (None, 8)           72          ['concatenate_28[0][0]']         \n",
      " ense)                                                                                            \n",
      "                                                                                                  \n",
      " dense_40 (Dense)               (None, 100)          250100      ['dense_39[0][0]']               \n",
      "                                                                                                  \n",
      " concatenate_29 (Concatenate)   (None, 14)           0           ['concat_layer_level1_1_dense[0][\n",
      "                                                                 0]',                             \n",
      "                                                                  'concat_layer_level1_2_dense[0][\n",
      "                                                                 0]']                             \n",
      "                                                                                                  \n",
      " dense_41 (Dense)               (None, 50)           5050        ['dense_40[0][0]']               \n",
      "                                                                                                  \n",
      " sub_layer (Dense)              (None, 48)           720         ['concatenate_29[0][0]']         \n",
      "                                                                                                  \n",
      " flatten_layer (Flatten)        (None, 50)           0           ['dense_41[0][0]']               \n",
      "                                                                                                  \n",
      " dropout_4 (Dropout)            (None, 48)           0           ['sub_layer[0][0]']              \n",
      "                                                                                                  \n",
      " concatenate_30 (Concatenate)   (None, 98)           0           ['flatten_layer[0][0]',          \n",
      "                                                                  'dropout_4[0][0]']              \n",
      "                                                                                                  \n",
      " dense_42 (Dense)               (None, 300)          29700       ['concatenate_30[0][0]']         \n",
      "                                                                                                  \n",
      " dense_43 (Dense)               (None, 150)          45150       ['dense_42[0][0]']               \n",
      "                                                                                                  \n",
      " dense_44 (Dense)               (None, 100)          15100       ['dense_43[0][0]']               \n",
      "                                                                                                  \n",
      " dense (Dense)                  (None, 64)           6464        ['dense_44[0][0]']               \n",
      "                                                                                                  \n",
      " output (Dense)                 (None, 1)            65          ['dense[0][0]']                  \n",
      "                                                                                                  \n",
      "==================================================================================================\n",
      "Total params: 48,672,623\n",
      "Trainable params: 48,672,623\n",
      "Non-trainable params: 0\n",
      "__________________________________________________________________________________________________\n"
     ]
    },
    {
     "name": "stderr",
     "output_type": "stream",
     "text": [
      "2023-06-22 11:25:34.784718: I tensorflow/core/common_runtime/executor.cc:1197] [/device:CPU:0] (DEBUG INFO) Executor start aborting (this does not indicate an error and you can ignore this message): INVALID_ARGUMENT: You must feed a value for placeholder tensor 'Placeholder' with dtype string and shape [?]\n",
      "\t [[{{node Placeholder}}]]\n"
     ]
    }
   ],
   "source": [
    "\n",
    "string_input = tf.keras.layers.Input(shape=[], dtype=tf.string,name=\"input string\")\n",
    "embedding_layer = hub_layer(string_input)\n",
    "s1= tf.keras.layers.Dense(2500, activation='relu')(embedding_layer)\n",
    "s2 = tf.keras.layers.Dense(100, activation='relu')(s1)\n",
    "s3 = tf.keras.layers.Dense(50, activation='relu')(s2)\n",
    "flatten_layer = tf.keras.layers.Flatten(name=\"flatten_layer\")(s3)\n",
    "\n",
    "\n",
    "length_input = tf.keras.layers.Input(shape=(1,))\n",
    "length_layer = tf.keras.layers.Dense(256, activation='relu',name=\"length_layer\")(length_input)\n",
    "\n",
    "currency_input = tf.keras.layers.Input(shape=(1,))\n",
    "currency_layer = tf.keras.layers.Dense(2, activation='relu',name=\"currency_layer\")(currency_input)\n",
    "\n",
    "spam_word_input = tf.keras.layers.Input(shape=(1,))\n",
    "spam_word_layer = tf.keras.layers.Dense(2, activation='relu',name=\"spam_word_layer\")(spam_word_input)\n",
    "\n",
    "emoji_input = tf.keras.layers.Input(shape=(1,))\n",
    "emoji_layer = tf.keras.layers.Dense(2, activation='relu',name=\"emoji_layer\")(emoji_input)\n",
    "\n",
    "contain_input = tf.keras.layers.Input(shape=(1,))\n",
    "contain_layer = tf.keras.layers.Dense(2, activation='relu',name=\"conatian_layer\")(contain_input)\n",
    "\n",
    "\n",
    "email_input = tf.keras.layers.Input(shape=(1,))\n",
    "email_layer = tf.keras.layers.Dense(2, activation='relu',name=\"email_layer\")(email_input)\n",
    "\n",
    "\n",
    "phone_input = tf.keras.layers.Input(shape=(1,))\n",
    "phone_layer = tf.keras.layers.Dense(2, activation='relu',name=\"phone_layer\")(phone_input)\n",
    "\n",
    "concat_layer_level1_1 = tf.keras.layers.concatenate([length_layer,currency_layer,spam_word_layer])\n",
    "concat_layer_level1_2 = tf.keras.layers.concatenate([contain_layer,emoji_layer,email_layer,phone_layer])\n",
    "\n",
    "concat_layer_level1_1_dense = tf.keras.layers.Dense(6, activation='relu',name=\"concat_layer_level1_1_dense\")(concat_layer_level1_1)\n",
    "concat_layer_level1_2_dense = tf.keras.layers.Dense(8, activation='relu',name=\"concat_layer_level1_2_dense\")(concat_layer_level1_2)\n",
    "\n",
    "concat_layer_level = tf.keras.layers.concatenate([concat_layer_level1_1_dense,concat_layer_level1_2_dense])\n",
    "sub_layer = tf.keras.layers.Dense(48, activation='relu',name=\"sub_layer\")(concat_layer_level)\n",
    "con  = tf.keras.layers.Dropout(rate=0.2)(sub_layer)\n",
    "\n",
    "\n",
    "# Concatenate all input branches\n",
    "concat_layer = tf.keras.layers.concatenate([flatten_layer,con ])\n",
    "\n",
    "# Add dense and output layers\n",
    "f1= tf.keras.layers.Dense(300, activation='relu')(concat_layer)\n",
    "f2 = tf.keras.layers.Dense(150, activation='relu')(f1)\n",
    "f3 = tf.keras.layers.Dense(100, activation='relu')(f2)\n",
    "\n",
    "dense_layer = tf.keras.layers.Dense(64, activation='relu',name=\"dense\")(f3)\n",
    "\n",
    "output_layer = tf.keras.layers.Dense(1, activation='sigmoid',name=\"output\")(dense_layer)\n",
    "\n",
    "# Create the model\n",
    "model = tf.keras.Model(inputs=[string_input, length_input,currency_input,spam_word_input,emoji_input,contain_input,email_input,phone_input], outputs=output_layer)\n",
    "\n",
    "\n",
    "model.compile(optimizer='adam', loss='binary_crossentropy', metrics=['accuracy'])\n",
    "model.build(input_shape=[])\n",
    "model.summary()\n"
   ]
  },
  {
   "cell_type": "code",
   "execution_count": 74,
   "metadata": {},
   "outputs": [
    {
     "data": {
      "image/png": "[encoded data removed]",
      "text/plain": [
       "<Figure size 640x480 with 1 Axes>"
      ]
     },
     "metadata": {},
     "output_type": "display_data"
    }
   ],
   "source": [
    "\n",
    "# model = \"https://tfhub.dev/google/nnlm-en-dim50/2\"\n",
    "# hub_layer = hub.KerasLayer(model, dtype=tf.string, trainable=True,name=\"hub\")\n",
    "\n",
    "# # nnlm_model = tf.saved_model.load(\"./models/nnlm-en-dim50_2\")\n",
    "\n",
    "# model = tf.keras.Sequential([\n",
    "#     tf.keras.layers.Input(shape=(8,1),name=\"Input_layer\"),   \n",
    "#     embed,\n",
    "#     tf.keras.layers.Dense(300, activation='relu'),\n",
    "#     tf.keras.layers.Dense(150, activation='relu'),\n",
    "#     tf.keras.layers.Dense(100, activation='relu'),\n",
    "#     tf.keras.layers.Dense(1, activation='sigmoid')\n",
    "# ])\n",
    "\n",
    "# model.build()\n",
    "# model.compile(optimizer=keras.optimizers.Adam(), loss=keras.losses.binary_crossentropy, metrics=['accuracy'])\n",
    "# print(model.summary())\n",
    "\n",
    "from tensorflow.keras.utils import plot_model\n",
    "\n",
    "# Plot model\n",
    "plot_model(model, to_file='team_strength_model.png')\n",
    "\n",
    "# Display the image\n",
    "data = plt.imread('team_strength_model.png')\n",
    "plt.imshow(data);"
   ]
  },
  {
   "cell_type": "code",
   "execution_count": 81,
   "metadata": {},
   "outputs": [
    {
     "ename": "ValueError",
     "evalue": "Failed to convert a NumPy array to a Tensor (Unsupported object type int).",
     "output_type": "error",
     "traceback": [
      "\u001b[0;31m---------------------------------------------------------------------------\u001b[0m",
      "\u001b[0;31mValueError\u001b[0m                                Traceback (most recent call last)",
      "Cell \u001b[0;32mIn[81], line 1\u001b[0m\n\u001b[0;32m----> 1\u001b[0m k \u001b[39m=\u001b[39m model\u001b[39m.\u001b[39;49mfit(x_train\u001b[39m.\u001b[39;49mto_numpy(),\n\u001b[1;32m      2\u001b[0m           y_train\u001b[39m.\u001b[39;49mto_numpy(),\n\u001b[1;32m      3\u001b[0m           epochs\u001b[39m=\u001b[39;49m\u001b[39m1\u001b[39;49m,\n\u001b[1;32m      4\u001b[0m           batch_size\u001b[39m=\u001b[39;49m\u001b[39m512\u001b[39;49m,\n\u001b[1;32m      5\u001b[0m           validation_data\u001b[39m=\u001b[39;49m(X_test, y_test),\n\u001b[1;32m      6\u001b[0m           verbose\u001b[39m=\u001b[39;49m\u001b[39m1\u001b[39;49m,\n\u001b[1;32m      7\u001b[0m           callbacks\u001b[39m=\u001b[39;49m[keras\u001b[39m.\u001b[39;49mcallbacks\u001b[39m.\u001b[39;49mEarlyStopping(monitor\u001b[39m=\u001b[39;49m\u001b[39m'\u001b[39;49m\u001b[39mval_loss\u001b[39;49m\u001b[39m'\u001b[39;49m, mode\u001b[39m=\u001b[39;49m\u001b[39m'\u001b[39;49m\u001b[39mmin\u001b[39;49m\u001b[39m'\u001b[39;49m, verbose\u001b[39m=\u001b[39;49m\u001b[39m1\u001b[39;49m, patience\u001b[39m=\u001b[39;49m\u001b[39m10\u001b[39;49m)]\n\u001b[1;32m      8\u001b[0m )\n",
      "File \u001b[0;32m~/.local/lib/python3.11/site-packages/keras/utils/traceback_utils.py:70\u001b[0m, in \u001b[0;36mfilter_traceback.<locals>.error_handler\u001b[0;34m(*args, **kwargs)\u001b[0m\n\u001b[1;32m     67\u001b[0m     filtered_tb \u001b[39m=\u001b[39m _process_traceback_frames(e\u001b[39m.\u001b[39m__traceback__)\n\u001b[1;32m     68\u001b[0m     \u001b[39m# To get the full stack trace, call:\u001b[39;00m\n\u001b[1;32m     69\u001b[0m     \u001b[39m# `tf.debugging.disable_traceback_filtering()`\u001b[39;00m\n\u001b[0;32m---> 70\u001b[0m     \u001b[39mraise\u001b[39;00m e\u001b[39m.\u001b[39mwith_traceback(filtered_tb) \u001b[39mfrom\u001b[39;00m \u001b[39mNone\u001b[39;00m\n\u001b[1;32m     71\u001b[0m \u001b[39mfinally\u001b[39;00m:\n\u001b[1;32m     72\u001b[0m     \u001b[39mdel\u001b[39;00m filtered_tb\n",
      "File \u001b[0;32m~/.local/lib/python3.11/site-packages/tensorflow/python/framework/constant_op.py:103\u001b[0m, in \u001b[0;36mconvert_to_eager_tensor\u001b[0;34m(value, ctx, dtype)\u001b[0m\n\u001b[1;32m    101\u001b[0m     dtype \u001b[39m=\u001b[39m dtypes\u001b[39m.\u001b[39mas_dtype(dtype)\u001b[39m.\u001b[39mas_datatype_enum\n\u001b[1;32m    102\u001b[0m ctx\u001b[39m.\u001b[39mensure_initialized()\n\u001b[0;32m--> 103\u001b[0m \u001b[39mreturn\u001b[39;00m ops\u001b[39m.\u001b[39;49mEagerTensor(value, ctx\u001b[39m.\u001b[39;49mdevice_name, dtype)\n",
      "\u001b[0;31mValueError\u001b[0m: Failed to convert a NumPy array to a Tensor (Unsupported object type int)."
     ]
    }
   ],
   "source": [
    "k = model.fit(x_train,\n",
    "          y_train,\n",
    "          epochs=1,\n",
    "          batch_size=512,\n",
    "          validation_data=(X_test, y_test),\n",
    "          verbose=1,\n",
    "          callbacks=[keras.callbacks.EarlyStopping(monitor='val_loss', mode='min', verbose=1, patience=10)]\n",
    ")"
   ]
  },
  {
   "cell_type": "code",
   "execution_count": 63,
   "metadata": {},
   "outputs": [
    {
     "name": "stdout",
     "output_type": "stream",
     "text": [
      "136/136 [==============================] - 8s 60ms/step - loss: 0.1831 - accuracy: 0.9485\n"
     ]
    },
    {
     "data": {
      "text/plain": [
       "[0.18309266865253448, 0.9484631419181824]"
      ]
     },
     "execution_count": 63,
     "metadata": {},
     "output_type": "execute_result"
    }
   ],
   "source": [
    "model.evaluate([X_test],y_test)"
   ]
  },
  {
   "cell_type": "code",
   "execution_count": 70,
   "metadata": {},
   "outputs": [
    {
     "data": {
      "text/plain": [
       "pandas.core.frame.DataFrame"
      ]
     },
     "execution_count": 70,
     "metadata": {},
     "output_type": "execute_result"
    }
   ],
   "source": []
  },
  {
   "cell_type": "code",
   "execution_count": 68,
   "metadata": {},
   "outputs": [
    {
     "name": "stdout",
     "output_type": "stream",
     "text": [
      "1/1 [==============================] - 0s 67ms/step\n",
      "[[0.9108964]]\n"
     ]
    }
   ],
   "source": [
    "\n",
    "# Prepare example input data\n",
    "string_input_data = np.array([\"free money\"]).astype(str) \n",
    "length_input_data = np.array([20]).astype(int)  # Example length value\n",
    "currency_input_data = np.array([0]).astype(int)  # Example currency value\n",
    "spam_word_input_data = np.array([1]).astype(int)  # Example spam word value\n",
    "emoji_input_data = np.array([1]).astype(int)  # Example emoji value\n",
    "contain_input_data = np.array([0]).astype(int)  # Example containment value\n",
    "email_input_data = np.array([0]).astype(int)  # Example email value\n",
    "phone_input_data = np.array([0]).astype(int)  # Example phone value\n",
    "\n",
    "\n",
    "\n",
    "# Pass the input data to the model for predict\n",
    "# ion\n",
    "predictions = model.predict([string_input_data, length_input_data, currency_input_data, spam_word_input_data,\n",
    "                             emoji_input_data, contain_input_data, email_input_data, phone_input_data])\n",
    "\n",
    "print(predictions)\n"
   ]
  },
  {
   "cell_type": "code",
   "execution_count": 30,
   "metadata": {},
   "outputs": [
    {
     "ename": "NameError",
     "evalue": "name 'x_val' is not defined",
     "output_type": "error",
     "traceback": [
      "\u001b[0;31m---------------------------------------------------------------------------\u001b[0m",
      "\u001b[0;31mNameError\u001b[0m                                 Traceback (most recent call last)",
      "Cell \u001b[0;32mIn[30], line 3\u001b[0m\n\u001b[1;32m      1\u001b[0m cv\u001b[39m=\u001b[39mCountVectorizer(max_features\u001b[39m=\u001b[39m\u001b[39m5000\u001b[39m)\n\u001b[1;32m      2\u001b[0m temp_train\u001b[39m=\u001b[39mcv\u001b[39m.\u001b[39mfit_transform(x_train[\u001b[39m'\u001b[39m\u001b[39mComment\u001b[39m\u001b[39m'\u001b[39m])\u001b[39m.\u001b[39mtoarray()\n\u001b[0;32m----> 3\u001b[0m temp_val\u001b[39m=\u001b[39mcv\u001b[39m.\u001b[39mtransform(x_val[\u001b[39m'\u001b[39m\u001b[39mComment\u001b[39m\u001b[39m'\u001b[39m])\u001b[39m.\u001b[39mtoarray()\n\u001b[1;32m      5\u001b[0m tf\u001b[39m=\u001b[39mTfidfTransformer()\n\u001b[1;32m      6\u001b[0m temp_train\u001b[39m=\u001b[39mtf\u001b[39m.\u001b[39mfit_transform(temp_train)\n",
      "\u001b[0;31mNameError\u001b[0m: name 'x_val' is not defined"
     ]
    }
   ],
   "source": [
    "cv=CountVectorizer(max_features=5000)\n",
    "temp_train=cv.fit_transform(x_train['Comment']).toarray()\n",
    "temp_val=cv.transform(x_val['Comment']).toarray()\n",
    "\n",
    "tf=TfidfTransformer()\n",
    "temp_train=tf.fit_transform(temp_train)\n",
    "temp_val=tf.transform(temp_val)\n",
    "\n",
    "temp_train=pd.DataFrame(temp_train.toarray(),index=x_train.index)\n",
    "temp_val=pd.DataFrame(temp_val.toarray(),index=x_val.index)\n",
    "x_train=pd.concat([x_train,temp_train],axis=1,sort=False)\n",
    "x_val=pd.concat([x_val,temp_val],axis=1,sort=False)\n",
    "\n",
    "x_train.drop(['Comment'],axis=1,inplace=True)\n",
    "x_val.drop(['Comment'],axis=1,inplace=True)\n",
    "\n"
   ]
  },
  {
   "cell_type": "code",
   "execution_count": 36,
   "metadata": {},
   "outputs": [],
   "source": [
    "x_train.columns = x_train.columns.astype(str)\n",
    "x_val.columns = x_val.columns.astype(str)        "
   ]
  },
  {
   "cell_type": "code",
   "execution_count": 37,
   "metadata": {},
   "outputs": [],
   "source": [
    "y_train=y_train.astype(int)\n",
    "y_val=y_val.astype(int)"
   ]
  },
  {
   "cell_type": "code",
   "execution_count": 39,
   "metadata": {},
   "outputs": [
    {
     "name": "stderr",
     "output_type": "stream",
     "text": [
      "/home/brijesh/.local/lib/python3.11/site-packages/sklearn/utils/validation.py:1143: DataConversionWarning: A column-vector y was passed when a 1d array was expected. Please change the shape of y to (n_samples, ), for example using ravel().\n",
      "  y = column_or_1d(y, warn=True)\n",
      "/home/brijesh/.local/lib/python3.11/site-packages/sklearn/base.py:439: UserWarning: X does not have valid feature names, but MultinomialNB was fitted with feature names\n",
      "  warnings.warn(\n"
     ]
    },
    {
     "ename": "ValueError",
     "evalue": "Expected 2D array, got 1D array instead:\narray=['dad'].\nReshape your data either using array.reshape(-1, 1) if your data has a single feature or array.reshape(1, -1) if it contains a single sample.",
     "output_type": "error",
     "traceback": [
      "\u001b[0;31m---------------------------------------------------------------------------\u001b[0m",
      "\u001b[0;31mValueError\u001b[0m                                Traceback (most recent call last)",
      "Cell \u001b[0;32mIn[39], line 3\u001b[0m\n\u001b[1;32m      1\u001b[0m model\u001b[39m=\u001b[39mMultinomialNB()\n\u001b[1;32m      2\u001b[0m model\u001b[39m.\u001b[39mfit(x_train,y_train)\n\u001b[0;32m----> 3\u001b[0m y_preds\u001b[39m=\u001b[39mmodel\u001b[39m.\u001b[39;49mpredict([\u001b[39m\"\u001b[39;49m\u001b[39mdad\u001b[39;49m\u001b[39m\"\u001b[39;49m])\n\u001b[1;32m      4\u001b[0m \u001b[39mprint\u001b[39m(\u001b[39m\"\u001b[39m\u001b[39mMultinomial Naive Bayes:\u001b[39m\u001b[39m\"\u001b[39m,accuracy_score([\u001b[39m1\u001b[39m],y_preds))\n",
      "File \u001b[0;32m~/.local/lib/python3.11/site-packages/sklearn/naive_bayes.py:105\u001b[0m, in \u001b[0;36m_BaseNB.predict\u001b[0;34m(self, X)\u001b[0m\n\u001b[1;32m     91\u001b[0m \u001b[39m\u001b[39m\u001b[39m\"\"\"\u001b[39;00m\n\u001b[1;32m     92\u001b[0m \u001b[39mPerform classification on an array of test vectors X.\u001b[39;00m\n\u001b[1;32m     93\u001b[0m \n\u001b[0;32m   (...)\u001b[0m\n\u001b[1;32m    102\u001b[0m \u001b[39m    Predicted target values for X.\u001b[39;00m\n\u001b[1;32m    103\u001b[0m \u001b[39m\"\"\"\u001b[39;00m\n\u001b[1;32m    104\u001b[0m check_is_fitted(\u001b[39mself\u001b[39m)\n\u001b[0;32m--> 105\u001b[0m X \u001b[39m=\u001b[39m \u001b[39mself\u001b[39;49m\u001b[39m.\u001b[39;49m_check_X(X)\n\u001b[1;32m    106\u001b[0m jll \u001b[39m=\u001b[39m \u001b[39mself\u001b[39m\u001b[39m.\u001b[39m_joint_log_likelihood(X)\n\u001b[1;32m    107\u001b[0m \u001b[39mreturn\u001b[39;00m \u001b[39mself\u001b[39m\u001b[39m.\u001b[39mclasses_[np\u001b[39m.\u001b[39margmax(jll, axis\u001b[39m=\u001b[39m\u001b[39m1\u001b[39m)]\n",
      "File \u001b[0;32m~/.local/lib/python3.11/site-packages/sklearn/naive_bayes.py:579\u001b[0m, in \u001b[0;36m_BaseDiscreteNB._check_X\u001b[0;34m(self, X)\u001b[0m\n\u001b[1;32m    577\u001b[0m \u001b[39mdef\u001b[39;00m \u001b[39m_check_X\u001b[39m(\u001b[39mself\u001b[39m, X):\n\u001b[1;32m    578\u001b[0m \u001b[39m    \u001b[39m\u001b[39m\"\"\"Validate X, used only in predict* methods.\"\"\"\u001b[39;00m\n\u001b[0;32m--> 579\u001b[0m     \u001b[39mreturn\u001b[39;00m \u001b[39mself\u001b[39;49m\u001b[39m.\u001b[39;49m_validate_data(X, accept_sparse\u001b[39m=\u001b[39;49m\u001b[39m\"\u001b[39;49m\u001b[39mcsr\u001b[39;49m\u001b[39m\"\u001b[39;49m, reset\u001b[39m=\u001b[39;49m\u001b[39mFalse\u001b[39;49;00m)\n",
      "File \u001b[0;32m~/.local/lib/python3.11/site-packages/sklearn/base.py:565\u001b[0m, in \u001b[0;36mBaseEstimator._validate_data\u001b[0;34m(self, X, y, reset, validate_separately, **check_params)\u001b[0m\n\u001b[1;32m    563\u001b[0m     \u001b[39mraise\u001b[39;00m \u001b[39mValueError\u001b[39;00m(\u001b[39m\"\u001b[39m\u001b[39mValidation should be done on X, y or both.\u001b[39m\u001b[39m\"\u001b[39m)\n\u001b[1;32m    564\u001b[0m \u001b[39melif\u001b[39;00m \u001b[39mnot\u001b[39;00m no_val_X \u001b[39mand\u001b[39;00m no_val_y:\n\u001b[0;32m--> 565\u001b[0m     X \u001b[39m=\u001b[39m check_array(X, input_name\u001b[39m=\u001b[39;49m\u001b[39m\"\u001b[39;49m\u001b[39mX\u001b[39;49m\u001b[39m\"\u001b[39;49m, \u001b[39m*\u001b[39;49m\u001b[39m*\u001b[39;49mcheck_params)\n\u001b[1;32m    566\u001b[0m     out \u001b[39m=\u001b[39m X\n\u001b[1;32m    567\u001b[0m \u001b[39melif\u001b[39;00m no_val_X \u001b[39mand\u001b[39;00m \u001b[39mnot\u001b[39;00m no_val_y:\n",
      "File \u001b[0;32m~/.local/lib/python3.11/site-packages/sklearn/utils/validation.py:902\u001b[0m, in \u001b[0;36mcheck_array\u001b[0;34m(array, accept_sparse, accept_large_sparse, dtype, order, copy, force_all_finite, ensure_2d, allow_nd, ensure_min_samples, ensure_min_features, estimator, input_name)\u001b[0m\n\u001b[1;32m    900\u001b[0m     \u001b[39m# If input is 1D raise error\u001b[39;00m\n\u001b[1;32m    901\u001b[0m     \u001b[39mif\u001b[39;00m array\u001b[39m.\u001b[39mndim \u001b[39m==\u001b[39m \u001b[39m1\u001b[39m:\n\u001b[0;32m--> 902\u001b[0m         \u001b[39mraise\u001b[39;00m \u001b[39mValueError\u001b[39;00m(\n\u001b[1;32m    903\u001b[0m             \u001b[39m\"\u001b[39m\u001b[39mExpected 2D array, got 1D array instead:\u001b[39m\u001b[39m\\n\u001b[39;00m\u001b[39marray=\u001b[39m\u001b[39m{}\u001b[39;00m\u001b[39m.\u001b[39m\u001b[39m\\n\u001b[39;00m\u001b[39m\"\u001b[39m\n\u001b[1;32m    904\u001b[0m             \u001b[39m\"\u001b[39m\u001b[39mReshape your data either using array.reshape(-1, 1) if \u001b[39m\u001b[39m\"\u001b[39m\n\u001b[1;32m    905\u001b[0m             \u001b[39m\"\u001b[39m\u001b[39myour data has a single feature or array.reshape(1, -1) \u001b[39m\u001b[39m\"\u001b[39m\n\u001b[1;32m    906\u001b[0m             \u001b[39m\"\u001b[39m\u001b[39mif it contains a single sample.\u001b[39m\u001b[39m\"\u001b[39m\u001b[39m.\u001b[39mformat(array)\n\u001b[1;32m    907\u001b[0m         )\n\u001b[1;32m    909\u001b[0m \u001b[39mif\u001b[39;00m dtype_numeric \u001b[39mand\u001b[39;00m array\u001b[39m.\u001b[39mdtype\u001b[39m.\u001b[39mkind \u001b[39min\u001b[39;00m \u001b[39m\"\u001b[39m\u001b[39mUSV\u001b[39m\u001b[39m\"\u001b[39m:\n\u001b[1;32m    910\u001b[0m     \u001b[39mraise\u001b[39;00m \u001b[39mValueError\u001b[39;00m(\n\u001b[1;32m    911\u001b[0m         \u001b[39m\"\u001b[39m\u001b[39mdtype=\u001b[39m\u001b[39m'\u001b[39m\u001b[39mnumeric\u001b[39m\u001b[39m'\u001b[39m\u001b[39m is not compatible with arrays of bytes/strings.\u001b[39m\u001b[39m\"\u001b[39m\n\u001b[1;32m    912\u001b[0m         \u001b[39m\"\u001b[39m\u001b[39mConvert your data to numeric values explicitly instead.\u001b[39m\u001b[39m\"\u001b[39m\n\u001b[1;32m    913\u001b[0m     )\n",
      "\u001b[0;31mValueError\u001b[0m: Expected 2D array, got 1D array instead:\narray=['dad'].\nReshape your data either using array.reshape(-1, 1) if your data has a single feature or array.reshape(1, -1) if it contains a single sample."
     ]
    }
   ],
   "source": [
    "model=MultinomialNB()\n",
    "model.fit(x_train,y_train)\n",
    "y_preds=model.predict([\"dad\"])\n",
    "print(\"Multinomial Naive Bayes:\",accuracy_score([1],y_preds))"
   ]
  },
  {
   "cell_type": "code",
   "execution_count": 114,
   "metadata": {},
   "outputs": [
    {
     "name": "stdout",
     "output_type": "stream",
     "text": [
      "Decision Tree: 0.953782534663099\n"
     ]
    }
   ],
   "source": [
    "model=DecisionTreeClassifier(random_state=0)\n",
    "model.fit(x_train,y_train)\n",
    "y_preds=model.predict(x_val)\n",
    "print(\"Decision Tree:\",accuracy_score(y_val,y_preds))"
   ]
  },
  {
   "cell_type": "code",
   "execution_count": 115,
   "metadata": {},
   "outputs": [
    {
     "name": "stderr",
     "output_type": "stream",
     "text": [
      "/tmp/ipykernel_1921/2502017040.py:2: DataConversionWarning: A column-vector y was passed when a 1d array was expected. Please change the shape of y to (n_samples,), for example using ravel().\n",
      "  model.fit(x_train,y_train)\n"
     ]
    },
    {
     "name": "stdout",
     "output_type": "stream",
     "text": [
      "Random Forest: 0.9778642666018\n"
     ]
    }
   ],
   "source": [
    "model=RandomForestClassifier(n_estimators=100,random_state=0)\n",
    "model.fit(x_train,y_train)\n",
    "y_preds=model.predict(x_val)\n",
    "print(\"Random Forest:\",accuracy_score(y_val,y_preds))"
   ]
  },
  {
   "cell_type": "code",
   "execution_count": null,
   "metadata": {},
   "outputs": [],
   "source": []
  },
  {
   "cell_type": "code",
   "execution_count": null,
   "metadata": {},
   "outputs": [],
   "source": [
    "training_size = int(len(df) * 0.8)\n",
    "vocab_size=50000\n",
    "embedding_dim=32\n",
    "max_length=1000\n",
    "\n",
    "\n",
    "training_sentences = df[\"Comment\"][0:training_size]\n",
    "testing_sentences = df[\"Comment\"][training_size:]\n",
    "training_labels = df[\"Spam\"][0:training_size]\n",
    "testing_labels = df[\"Spam\"][training_size:]"
   ]
  },
  {
   "cell_type": "code",
   "execution_count": null,
   "metadata": {},
   "outputs": [],
   "source": [
    "tokenizer = Tokenizer(num_words=vocab_size, oov_token=\"<00V>\")\n",
    "tokenizer.fit_on_texts(training_sentences)\n",
    "\n",
    "word_index = tokenizer.word_index\n",
    "\n",
    "training_sequences = tokenizer.texts_to_sequences(training_sentences)\n",
    "training_padded = pad_sequences(training_sequences, maxlen=1000, padding=\"post\", truncating=\"post\")\n",
    "\n",
    "testing_sequences = tokenizer.texts_to_sequences(testing_sentences)\n",
    "testing_padded = pad_sequences(testing_sequences, maxlen=1000, padding=\"post\", truncating=\"post\")"
   ]
  },
  {
   "cell_type": "code",
   "execution_count": null,
   "metadata": {},
   "outputs": [
    {
     "name": "stderr",
     "output_type": "stream",
     "text": [
      "2023-06-18 23:24:57.945584: I tensorflow/compiler/xla/stream_executor/cuda/cuda_gpu_executor.cc:996] successful NUMA node read from SysFS had negative value (-1), but there must be at least one NUMA node, so returning NUMA node zero. See more at https://github.com/torvalds/linux/blob/v6.0/Documentation/ABI/testing/sysfs-bus-pci#L344-L355\n",
      "2023-06-18 23:24:58.044037: W tensorflow/core/common_runtime/gpu/gpu_device.cc:1956] Cannot dlopen some GPU libraries. Please make sure the missing libraries mentioned above are installed properly if you would like to use GPU. Follow the guide at https://www.tensorflow.org/install/gpu for how to download and setup the required libraries for your platform.\n",
      "Skipping registering GPU devices...\n"
     ]
    }
   ],
   "source": [
    "model = tf.keras.Sequential([\n",
    "    tf.keras.layers.Embedding(vocab_size, embedding_dim, input_length=max_length),\n",
    "    tf.keras.layers.GlobalAveragePooling1D(),\n",
    "\n",
    "    tf.keras.layers.Dense(16, activation='relu'),\n",
    "    tf.keras.layers.Dense(8, activation='relu'),\n",
    "    tf.keras.layers.Dense(4, activation='relu'),\n",
    "    tf.keras.layers.Dense(2, activation='relu'),\n",
    "    tf.keras.layers.Dense(1, activation='sigmoid')\n",
    "])\n",
    "model.compile(loss='binary_crossentropy',optimizer='adam',metrics=['accuracy'])"
   ]
  },
  {
   "cell_type": "code",
   "execution_count": null,
   "metadata": {},
   "outputs": [
    {
     "name": "stdout",
     "output_type": "stream",
     "text": [
      "Model: \"sequential\"\n",
      "_________________________________________________________________\n",
      " Layer (type)                Output Shape              Param #   \n",
      "=================================================================\n",
      " embedding (Embedding)       (None, 1000, 32)          1600000   \n",
      "                                                                 \n",
      " global_average_pooling1d (G  (None, 32)               0         \n",
      " lobalAveragePooling1D)                                          \n",
      "                                                                 \n",
      " dense (Dense)               (None, 16)                528       \n",
      "                                                                 \n",
      " dense_1 (Dense)             (None, 8)                 136       \n",
      "                                                                 \n",
      " dense_2 (Dense)             (None, 4)                 36        \n",
      "                                                                 \n",
      " dense_3 (Dense)             (None, 2)                 10        \n",
      "                                                                 \n",
      " dense_4 (Dense)             (None, 1)                 3         \n",
      "                                                                 \n",
      "=================================================================\n",
      "Total params: 1,600,713\n",
      "Trainable params: 1,600,713\n",
      "Non-trainable params: 0\n",
      "_________________________________________________________________\n"
     ]
    }
   ],
   "source": [
    "model.summary()"
   ]
  },
  {
   "cell_type": "code",
   "execution_count": null,
   "metadata": {},
   "outputs": [
    {
     "name": "stdout",
     "output_type": "stream",
     "text": [
      "Epoch 1/10\n",
      "514/514 - 13s - loss: 0.2194 - accuracy: 0.9555 - val_loss: 0.5757 - val_accuracy: 0.7796 - 13s/epoch - 25ms/step\n",
      "Epoch 2/10\n",
      "514/514 - 12s - loss: 0.2039 - accuracy: 0.9555 - val_loss: 0.6010 - val_accuracy: 0.7796 - 12s/epoch - 24ms/step\n",
      "Epoch 3/10\n",
      "514/514 - 13s - loss: 0.1943 - accuracy: 0.9555 - val_loss: 0.6258 - val_accuracy: 0.7796 - 13s/epoch - 24ms/step\n",
      "Epoch 4/10\n",
      "514/514 - 12s - loss: 0.1886 - accuracy: 0.9555 - val_loss: 0.6488 - val_accuracy: 0.7796 - 12s/epoch - 24ms/step\n",
      "Epoch 5/10\n",
      "514/514 - 12s - loss: 0.1853 - accuracy: 0.9555 - val_loss: 0.6687 - val_accuracy: 0.7796 - 12s/epoch - 24ms/step\n",
      "Epoch 6/10\n",
      "514/514 - 12s - loss: 0.1835 - accuracy: 0.9555 - val_loss: 0.6853 - val_accuracy: 0.7796 - 12s/epoch - 24ms/step\n",
      "Epoch 7/10\n",
      "514/514 - 13s - loss: 0.1825 - accuracy: 0.9555 - val_loss: 0.6987 - val_accuracy: 0.7796 - 13s/epoch - 24ms/step\n",
      "Epoch 8/10\n",
      "514/514 - 12s - loss: 0.1821 - accuracy: 0.9555 - val_loss: 0.7078 - val_accuracy: 0.7796 - 12s/epoch - 24ms/step\n",
      "Epoch 9/10\n",
      "514/514 - 12s - loss: 0.1820 - accuracy: 0.9555 - val_loss: 0.7132 - val_accuracy: 0.7796 - 12s/epoch - 24ms/step\n",
      "Epoch 10/10\n",
      "514/514 - 12s - loss: 0.1819 - accuracy: 0.9555 - val_loss: 0.7165 - val_accuracy: 0.7796 - 12s/epoch - 24ms/step\n"
     ]
    }
   ],
   "source": [
    "num_epochs = 10\n",
    "\n",
    "history = model.fit(training_padded, training_labels, epochs=num_epochs, validation_data=(testing_padded, testing_labels), verbose=2)"
   ]
  },
  {
   "cell_type": "code",
   "execution_count": 78,
   "metadata": {},
   "outputs": [
    {
     "data": {
      "text/plain": [
       "{'loss': [0.08349471539258957, 0.06279651820659637],\n",
       " 'accuracy': [0.9700138568878174, 0.9772359728813171],\n",
       " 'val_loss': [0.1213839203119278, 0.14979007840156555],\n",
       " 'val_accuracy': [0.9581696391105652, 0.9593251943588257]}"
      ]
     },
     "execution_count": 78,
     "metadata": {},
     "output_type": "execute_result"
    }
   ],
   "source": [
    "k."
   ]
  },
  {
   "cell_type": "code",
   "execution_count": 21,
   "metadata": {},
   "outputs": [
    {
     "data": {
      "image/png": "[encoded data removed]",
      "text/plain": [
       "<Figure size 640x480 with 1 Axes>"
      ]
     },
     "metadata": {},
     "output_type": "display_data"
    },
    {
     "data": {
      "image/png": "[encoded data removed]",
      "text/plain": [
       "<Figure size 640x480 with 1 Axes>"
      ]
     },
     "metadata": {},
     "output_type": "display_data"
    }
   ],
   "source": [
    "import matplotlib.pyplot as plt\n",
    "\n",
    "\n",
    "def plot_graphs(history, string):\n",
    "  plt.plot(history.history[string])\n",
    "  plt.plot(history.history['val_'+string])\n",
    "  plt.xlabel(\"Epochs\")\n",
    "  plt.ylabel(string)\n",
    "  plt.legend([string, 'val_'+string])\n",
    "  plt.show()\n",
    "  \n",
    "plot_graphs(k, \"accuracy\")\n",
    "plot_graphs(k, \"loss\")"
   ]
  },
  {
   "cell_type": "code",
   "execution_count": null,
   "metadata": {},
   "outputs": [
    {
     "name": "stdout",
     "output_type": "stream",
     "text": [
      "129/129 [==============================] - 0s 2ms/step - loss: 0.7165 - accuracy: 0.7796\n",
      "[0.7164579033851624, 0.7796156406402588]\n"
     ]
    }
   ],
   "source": [
    "# sentence = [\"granny starting to fear spiders in the garden might be real\", \"game of thrones season finale showing this sunday night\"]\n",
    "# sequences = tokenizer.texts_to_sequences(sentence)\n",
    "# padded = pad_sequences(sequences, maxlen=max_length, padding=\"post\", truncating=\"post\")\n",
    "print(model.evaluate(testing_padded,testing_labels))"
   ]
  },
  {
   "cell_type": "code",
   "execution_count": 240,
   "metadata": {},
   "outputs": [],
   "source": [
    "from sklearn.pipeline import Pipeline\n",
    "\n",
    "\n",
    "\n",
    "class ConvertData:\n",
    "    \n",
    "    def fit(self,x,y=None):\n",
    "        return self\n",
    "    \n",
    "    def transform(self, df):\n",
    "        df = df.drop_duplicates()\n",
    "        df = df.dropna()\n",
    "        df[\"Spam\"]  = df[\"Spam\"].astype(int)\n",
    "        df[\"Comment\"]  = df[\"Comment\"].astype(str)\n",
    "        return df\n",
    "\n",
    "\n",
    "class RemoveStopWordsPunctuation:\n",
    "    \n",
    "    def fit(self,x,y=None):\n",
    "        return self\n",
    "    \n",
    "    def __remove_punctuation_stopwords(self,text):\n",
    "        pattern = re.compile('[{}]'.format(re.escape('!\"#&\\'()*,-/:;<=>?[\\\\]^_`{|}~')))\n",
    "        text = \" \".join([word.strip() for word in pattern.sub(' ', text.lower()).split() if word not in set(stopwords.words('english'))])\n",
    "        return text\n",
    "\n",
    "\n",
    "    def transform(self, df):\n",
    "        df['Comment'] = df['Comment'].apply(self.__remove_punctuation_stopwords)\n",
    "        return df\n",
    "\n",
    "\n",
    "\n",
    "class AddLengthFlag:\n",
    "    \n",
    "    def fit(self,x,y=None):\n",
    "        return self\n",
    "    \n",
    "    def transform(self, X):\n",
    "        X['length'] = X['Comment'].str.len().astype(int)\n",
    "        return X\n",
    "\n",
    "\n",
    "class AddCurrencyFlag:\n",
    "\n",
    "    def __init__(self) -> None:\n",
    "        self.currency_symbols = ['₤', '₨', '€', '₹', '₿', '$']\n",
    "    \n",
    "    def fit(self,x,y=None):\n",
    "        return self\n",
    "    \n",
    "    def __add_currency_count(self,text):\n",
    "        return sum(text.count(symbol) for symbol in self.currency_symbols )\n",
    "\n",
    "    def transform(self, df):\n",
    "        df['currency']=df['Comment'].apply(self.__add_currency_count)\n",
    "        return df\n",
    "    \n",
    "\n",
    "class AddSpamWordsFlag:\n",
    "\n",
    "    def __init__(self) -> None:\n",
    "        self.spam_words = [ \"Urgent\", \"Exclusive\", \"Limited time\", \"Free\", \"Guaranteed\", \"Act now\", \"Discount\", \"Special offer\", \"Prize\", \"Instant\",    \"Cash\", \"Save\", \"Win\", \"Best\", \"Secret\", \"Incredible\", \"Congratulations\", \"Approved\", \"Risk free\", \"Hidden\", \"Bonus\",    \"Sale\", \"Amazing\", \"Extra cash\", \"Opportunity\", \"Easy\", \"Double your\", \"Best price\", \"Cash back\", \"Deal\", \"Earn\",    \"Money\", \"No obligation\", \"Profit\", \"Results\", \"Exciting\", \"Unbelievable\", \"Jackpot\", \"Fantastic\", \"Instant access\",    \"Million dollars\", \"Discounted\", \"Last chance\", \"Exclusive offer\", \"Big savings\", \"Limited offer\", \"Free trial\",    \"Special promotion\", \"Secret revealed\", \"Valuable\", \"Money-back guarantee\", \"Lowest price\", \"Save money\", \"Make money\",    \"No risk\", \"Exclusive deal\", \"Limited supply\", \"Huge\", \"Incredible offer\", \"Prize winner\", \"Earn extra income\",    \"Limited spots\", \"New offer\", \"Best deal\", \"Don't miss out\", \"Great savings\", \"Top offer\", \"Double your income\",    \"Discount code\", \"Fast cash\", \"Top-rated\", \"Best value\", \"No cost\", \"Elite\", \"Act fast\", \"Unbeatable\", \"Cash prize\",    \"Limited availability\", \"Special discount\", \"Quick cash\", \"No catch\", \"Instant approval\", \"Big discount\", \"Easy money\",    \"Insider\", \"Invitation\", \"Free shipping\", \"Huge discount\", \"Extra income\", \"Secret formula\", \"No strings attached\",    \"Money-making\", \"Dream come true\", \"Massive\", \"Free gift\", \"Incredible opportunity\", \"Risk-free trial\", \"Instant money\",    \"Special price\", \"No purchase necessary\"]\n",
    "\n",
    "    def fit(self,x,y=None):\n",
    "        return self\n",
    "    \n",
    "    def __add_currency_count(self,text):\n",
    "        return sum(text.count(symbol) for symbol in self.spam_words )\n",
    "\n",
    "    def transform(self, df):\n",
    "        df['spam_word']=df['Comment'].apply(self.__add_currency_count)\n",
    "        return df\n",
    "\n",
    "\n",
    "\n",
    "class AddEmojiFlag:\n",
    "\n",
    "    def __init__(self) -> None:\n",
    "        self.emoji_symbols = '💭|🔝|🆗|🎉|🎊|📯|🙌|😂|💸|👉|📢|🚀|💲|💣|🔱|💼|🆙|⏳|✨|💌|💎|🆕|🔞|💡|💰|👑|⭐|🌟|🎤|⚡|📈|💵|🏆|💪|🔓|🆓|🎰|⌚|🚨|💢|📮|🔥|🎈|🎥|🔔|💯|🎶|🔗|🎁|📚|🔊|👍|👏|📱|📝|🤑|🏅|🔒|📣|💥'\n",
    "    \n",
    "    def fit(self,x,y=None):\n",
    "        return self\n",
    "    \n",
    "    def __add_currency_count(self,text):\n",
    "        pattern = '[' + re.escape(self.emoji_symbols) + ']'\n",
    "        return len(re.findall(pattern, text))\n",
    "\n",
    "    def transform(self, df):\n",
    "        df['emoji']=df['Comment'].apply(self.__add_currency_count)\n",
    "        return df\n",
    "\n",
    "class AddContainFlag:\n",
    "\n",
    "    def fit(self,x,y=None):\n",
    "        return self\n",
    "    \n",
    "    def __add_first_count(self,text):\n",
    "        pattern = '[0-9]*%|T&C'\n",
    "        return len(re.findall(pattern, text))\n",
    "    \n",
    "    def __add_second_count(self,text):\n",
    "        pattern = 'https?://\\S+|www\\.\\S+'\n",
    "        return len(re.findall(pattern, text))\n",
    "    \n",
    "\n",
    "    def transform(self, df):\n",
    "        df['contain']=df['Comment'].apply(self.__add_first_count)\n",
    "        df['contain']=df['Comment'].apply(self.__add_second_count)\n",
    "        return df\n",
    "\n",
    "class AddEmailFlag:\n",
    "\n",
    "    def fit(self,x,y=None):\n",
    "        return self\n",
    "    \n",
    "    def __add_email_count(self,text):\n",
    "        pattern = '[\\w]+@[\\w]+\\.\\w+'\n",
    "        return len(re.findall(pattern, text))\n",
    "    \n",
    "\n",
    "\n",
    "    def transform(self, df):\n",
    "        df['email']=df['Comment'].apply(self.__add_email_count)\n",
    "        return df\n",
    "\n",
    "class AddPhoneFlag:\n",
    "\n",
    "    def fit(self,x,y=None):\n",
    "        return self\n",
    "    \n",
    "    def __add_phone_no_count(self,text):\n",
    "        pattern = '\\+?[0-9]?[0-9]? ?0?[0-9]{10}'\n",
    "        return len(re.findall(pattern, text))\n",
    "    \n",
    "\n",
    "    def transform(self, df):\n",
    "        df['phone']=df['Comment'].apply(self.__add_phone_no_count)\n",
    "        return df\n",
    "\n",
    "\n",
    "class RemovePhoneLinkEmail:\n",
    "\n",
    "    def fit(self,x,y=None):\n",
    "        return self\n",
    "    \n",
    "    def __remove(self,text):\n",
    "        text = re.sub(r\"(\\+[0-9]{2})? ?\\d{10}\", \"\", text)\n",
    "        text = re.sub(r\"https?://\\S+|www\\.\\S+\", \"\", text)\n",
    "        text = re.sub(r\"[\\w]+@[\\w]+\\.\\w+\", \"\", text)\n",
    "        text = emoji.replace_emoji(text)\n",
    "        return text \n",
    "\n",
    "    def transform(self, df):\n",
    "        df['Comment']=df['Comment'].apply(self.__remove)\n",
    "        return df\n",
    "\n",
    "class LemmatizeText:\n",
    "    def __init__(self):\n",
    "        self.lemmatizer = nltk.WordNetLemmatizer()\n",
    "    \n",
    "    def fit(self, X, y=None):\n",
    "        return self\n",
    "    \n",
    "    def __lemmatize_text(self, text):\n",
    "        return \" \".join([self.lemmatizer.lemmatize(word) for word in re.split(\"\\W+\", text)]).strip()\n",
    "\n",
    "    def transform(self, df):\n",
    "        df['Comment'] = df['Comment'].map(lambda text: self.__lemmatize_text(text))\n",
    "        return df\n",
    "\n",
    "\n"
   ]
  },
  {
   "cell_type": "code",
   "execution_count": 241,
   "metadata": {},
   "outputs": [],
   "source": [
    "\n",
    "\n",
    "pipe =  Pipeline([\n",
    "    (\"ConvertData\",ConvertData()),\n",
    "    (\"RemoveStopWordsPunctuation\",RemoveStopWordsPunctuation()),\n",
    "\n",
    "    (\"AddCurrencyFlag\",AddCurrencyFlag()),\n",
    "    (\"AddSpamWordsFlag\",AddSpamWordsFlag()),\n",
    "    (\"AddEmojiFlag\",AddEmojiFlag()),\n",
    "    (\"AddContainFlag\",AddContainFlag()),\n",
    "    (\"AddEmailFlag\",AddEmailFlag()),\n",
    "    (\"AddPhoneFlag\",AddPhoneFlag()),\n",
    "\n",
    "    (\"RemovePhoneLinkEmail\",RemovePhoneLinkEmail()),\n",
    "    \n",
    "    (\"LemmatizeText\",LemmatizeText()),\n",
    "\n",
    "    (\"AddLengthFlag\",AddLengthFlag()),\n",
    "\n",
    "\n",
    "\n",
    "])\n"
   ]
  },
  {
   "cell_type": "code",
   "execution_count": 242,
   "metadata": {},
   "outputs": [],
   "source": [
    "\n",
    "d = pipe.transform(df_test)\n",
    "# Function to remove punctuation and stopwords from a text\n"
   ]
  },
  {
   "cell_type": "code",
   "execution_count": 227,
   "metadata": {},
   "outputs": [
    {
     "data": {
      "text/html": [
       "<div>\n",
       "<style scoped>\n",
       "    .dataframe tbody tr th:only-of-type {\n",
       "        vertical-align: middle;\n",
       "    }\n",
       "\n",
       "    .dataframe tbody tr th {\n",
       "        vertical-align: top;\n",
       "    }\n",
       "\n",
       "    .dataframe thead th {\n",
       "        text-align: right;\n",
       "    }\n",
       "</style>\n",
       "<table border=\"1\" class=\"dataframe\">\n",
       "  <thead>\n",
       "    <tr style=\"text-align: right;\">\n",
       "      <th></th>\n",
       "      <th>Comment</th>\n",
       "      <th>Spam</th>\n",
       "      <th>length</th>\n",
       "      <th>currency</th>\n",
       "      <th>spam_word</th>\n",
       "      <th>emoji</th>\n",
       "      <th>contain</th>\n",
       "      <th>email</th>\n",
       "      <th>phone</th>\n",
       "    </tr>\n",
       "  </thead>\n",
       "  <tbody>\n",
       "    <tr>\n",
       "      <th>0</th>\n",
       "      <td>go jurong point crazy available bugis n great ...</td>\n",
       "      <td>0</td>\n",
       "      <td>82</td>\n",
       "      <td>0</td>\n",
       "      <td>0</td>\n",
       "      <td>0</td>\n",
       "      <td>0</td>\n",
       "      <td>0</td>\n",
       "      <td>0</td>\n",
       "    </tr>\n",
       "    <tr>\n",
       "      <th>1</th>\n",
       "      <td>ok lar joking wif u oni</td>\n",
       "      <td>1</td>\n",
       "      <td>23</td>\n",
       "      <td>0</td>\n",
       "      <td>0</td>\n",
       "      <td>0</td>\n",
       "      <td>0</td>\n",
       "      <td>0</td>\n",
       "      <td>0</td>\n",
       "    </tr>\n",
       "    <tr>\n",
       "      <th>2</th>\n",
       "      <td>free entry 2 wkly comp win fa cup final tkts 2...</td>\n",
       "      <td>1</td>\n",
       "      <td>135</td>\n",
       "      <td>0</td>\n",
       "      <td>1</td>\n",
       "      <td>0</td>\n",
       "      <td>1</td>\n",
       "      <td>0</td>\n",
       "      <td>1</td>\n",
       "    </tr>\n",
       "    <tr>\n",
       "      <th>3</th>\n",
       "      <td>u dun say early hor u c already say</td>\n",
       "      <td>0</td>\n",
       "      <td>35</td>\n",
       "      <td>0</td>\n",
       "      <td>0</td>\n",
       "      <td>0</td>\n",
       "      <td>0</td>\n",
       "      <td>0</td>\n",
       "      <td>0</td>\n",
       "    </tr>\n",
       "    <tr>\n",
       "      <th>4</th>\n",
       "      <td>nah dont think go usf life around though</td>\n",
       "      <td>0</td>\n",
       "      <td>43</td>\n",
       "      <td>0</td>\n",
       "      <td>0</td>\n",
       "      <td>0</td>\n",
       "      <td>0</td>\n",
       "      <td>0</td>\n",
       "      <td>0</td>\n",
       "    </tr>\n",
       "    <tr>\n",
       "      <th>...</th>\n",
       "      <td>...</td>\n",
       "      <td>...</td>\n",
       "      <td>...</td>\n",
       "      <td>...</td>\n",
       "      <td>...</td>\n",
       "      <td>...</td>\n",
       "      <td>...</td>\n",
       "      <td>...</td>\n",
       "      <td>...</td>\n",
       "    </tr>\n",
       "    <tr>\n",
       "      <th>21632</th>\n",
       "      <td>status</td>\n",
       "      <td>1</td>\n",
       "      <td>6</td>\n",
       "      <td>0</td>\n",
       "      <td>0</td>\n",
       "      <td>0</td>\n",
       "      <td>0</td>\n",
       "      <td>0</td>\n",
       "      <td>0</td>\n",
       "    </tr>\n",
       "    <tr>\n",
       "      <th>21633</th>\n",
       "      <td>believe eye</td>\n",
       "      <td>1</td>\n",
       "      <td>12</td>\n",
       "      <td>0</td>\n",
       "      <td>0</td>\n",
       "      <td>0</td>\n",
       "      <td>0</td>\n",
       "      <td>0</td>\n",
       "      <td>0</td>\n",
       "    </tr>\n",
       "    <tr>\n",
       "      <th>21634</th>\n",
       "      <td>zero chance</td>\n",
       "      <td>1</td>\n",
       "      <td>11</td>\n",
       "      <td>0</td>\n",
       "      <td>0</td>\n",
       "      <td>0</td>\n",
       "      <td>0</td>\n",
       "      <td>0</td>\n",
       "      <td>0</td>\n",
       "    </tr>\n",
       "    <tr>\n",
       "      <th>21635</th>\n",
       "      <td>zero percent</td>\n",
       "      <td>1</td>\n",
       "      <td>12</td>\n",
       "      <td>0</td>\n",
       "      <td>0</td>\n",
       "      <td>0</td>\n",
       "      <td>0</td>\n",
       "      <td>0</td>\n",
       "      <td>0</td>\n",
       "    </tr>\n",
       "    <tr>\n",
       "      <th>21636</th>\n",
       "      <td>zero risk</td>\n",
       "      <td>1</td>\n",
       "      <td>9</td>\n",
       "      <td>0</td>\n",
       "      <td>0</td>\n",
       "      <td>0</td>\n",
       "      <td>0</td>\n",
       "      <td>0</td>\n",
       "      <td>0</td>\n",
       "    </tr>\n",
       "  </tbody>\n",
       "</table>\n",
       "<p>21635 rows × 9 columns</p>\n",
       "</div>"
      ],
      "text/plain": [
       "                                                 Comment  Spam  length   \n",
       "0      go jurong point crazy available bugis n great ...     0      82  \\\n",
       "1                                ok lar joking wif u oni     1      23   \n",
       "2      free entry 2 wkly comp win fa cup final tkts 2...     1     135   \n",
       "3                    u dun say early hor u c already say     0      35   \n",
       "4               nah dont think go usf life around though     0      43   \n",
       "...                                                  ...   ...     ...   \n",
       "21632                                             status     1       6   \n",
       "21633                                        believe eye     1      12   \n",
       "21634                                        zero chance     1      11   \n",
       "21635                                       zero percent     1      12   \n",
       "21636                                          zero risk     1       9   \n",
       "\n",
       "       currency  spam_word  emoji  contain  email  phone  \n",
       "0             0          0      0        0      0      0  \n",
       "1             0          0      0        0      0      0  \n",
       "2             0          1      0        1      0      1  \n",
       "3             0          0      0        0      0      0  \n",
       "4             0          0      0        0      0      0  \n",
       "...         ...        ...    ...      ...    ...    ...  \n",
       "21632         0          0      0        0      0      0  \n",
       "21633         0          0      0        0      0      0  \n",
       "21634         0          0      0        0      0      0  \n",
       "21635         0          0      0        0      0      0  \n",
       "21636         0          0      0        0      0      0  \n",
       "\n",
       "[21635 rows x 9 columns]"
      ]
     },
     "execution_count": 227,
     "metadata": {},
     "output_type": "execute_result"
    }
   ],
   "source": [
    "df"
   ]
  },
  {
   "cell_type": "code",
   "execution_count": 244,
   "metadata": {},
   "outputs": [],
   "source": [
    "d = d.reindex(columns=['Comment',\t'Spam'\t,'length',\t'currency',\t'spam_word',\t'emoji'\t,'contain',\t'email',\t'phone'])\n"
   ]
  },
  {
   "cell_type": "code",
   "execution_count": 245,
   "metadata": {},
   "outputs": [],
   "source": [
    "d.to_csv(\"d.csv\")"
   ]
  },
  {
   "cell_type": "code",
   "execution_count": 144,
   "metadata": {},
   "outputs": [
    {
     "data": {
      "text/plain": [
       "'dadad@d.ca'"
      ]
     },
     "execution_count": 144,
     "metadata": {},
     "output_type": "execute_result"
    }
   ],
   "source": [
    "pattern = re.compile('[{}]'.format(re.escape('!\"#&\\'()*,-/:;<=>?[\\\\]^_`{|}~')))\n",
    "\" \".join([word.lower() for word in pattern.sub('', \"dadad@d.ca\".lower().strip()).split() if word.lower() not in set(stopwords.words('english'))])"
   ]
  },
  {
   "cell_type": "code",
   "execution_count": 248,
   "metadata": {},
   "outputs": [
    {
     "ename": "ModuleNotFoundError",
     "evalue": "No module named 'enchant'",
     "output_type": "error",
     "traceback": [
      "\u001b[0;31m---------------------------------------------------------------------------\u001b[0m",
      "\u001b[0;31mModuleNotFoundError\u001b[0m                       Traceback (most recent call last)",
      "Cell \u001b[0;32mIn[248], line 1\u001b[0m\n\u001b[0;32m----> 1\u001b[0m \u001b[39mfrom\u001b[39;00m \u001b[39menchant\u001b[39;00m\u001b[39m.\u001b[39;00m\u001b[39mchecker\u001b[39;00m \u001b[39mimport\u001b[39;00m SpellChecker\n\u001b[1;32m      3\u001b[0m \u001b[39mdef\u001b[39;00m \u001b[39mdetect_spelling_mistakes\u001b[39m(text):\n\u001b[1;32m      4\u001b[0m     spell_checker \u001b[39m=\u001b[39m SpellChecker(\u001b[39m\"\u001b[39m\u001b[39men_US\u001b[39m\u001b[39m\"\u001b[39m)\n",
      "\u001b[0;31mModuleNotFoundError\u001b[0m: No module named 'enchant'"
     ]
    }
   ],
   "source": [
    "from enchant.checker import SpellChecker\n",
    "\n",
    "def detect_spelling_mistakes(text):\n",
    "    spell_checker = SpellChecker(\"en_US\")\n",
    "    spell_checker.set_text(text)\n",
    "    \n",
    "    for error in spell_checker:\n",
    "        print(\"Spelling mistake:\", error.word)\n",
    "\n",
    "detect_spelling_mistakes(\"dadad\")"
   ]
  },
  {
   "cell_type": "code",
   "execution_count": 235,
   "metadata": {},
   "outputs": [
    {
     "ename": "BrokenProcessPool",
     "evalue": "A task has failed to un-serialize. Please ensure that the arguments of the function are all picklable.",
     "output_type": "error",
     "traceback": [
      "\u001b[0;31m---------------------------------------------------------------------------\u001b[0m",
      "\u001b[0;31m_RemoteTraceback\u001b[0m                          Traceback (most recent call last)",
      "\u001b[0;31m_RemoteTraceback\u001b[0m: \n\"\"\"\nTraceback (most recent call last):\n  File \"/home/brijesh/.local/lib/python3.11/site-packages/joblib/externals/loky/process_executor.py\", line 391, in _process_worker\n    call_item = call_queue.get(block=True, timeout=timeout)\n                ^^^^^^^^^^^^^^^^^^^^^^^^^^^^^^^^^^^^^^^^^^^\n  File \"/usr/lib/python3.11/multiprocessing/queues.py\", line 122, in get\n    return _ForkingPickler.loads(res)\n           ^^^^^^^^^^^^^^^^^^^^^^^^^^\nAttributeError: 'WordListCorpusReader' object has no attribute '_unload'\n\"\"\"",
      "\nThe above exception was the direct cause of the following exception:\n",
      "\u001b[0;31mBrokenProcessPool\u001b[0m                         Traceback (most recent call last)",
      "Cell \u001b[0;32mIn[235], line 31\u001b[0m\n\u001b[1;32m     28\u001b[0m     \u001b[39mreturn\u001b[39;00m parallel_transform(pipe, X)\n\u001b[1;32m     30\u001b[0m \u001b[39m# Call the parallel_pipeline_transform function to transform your data in parallel\u001b[39;00m\n\u001b[0;32m---> 31\u001b[0m transformed_data \u001b[39m=\u001b[39m parallel_pipeline_transform(df_test)\n",
      "Cell \u001b[0;32mIn[235], line 28\u001b[0m, in \u001b[0;36mparallel_pipeline_transform\u001b[0;34m(X)\u001b[0m\n\u001b[1;32m     27\u001b[0m \u001b[39mdef\u001b[39;00m \u001b[39mparallel_pipeline_transform\u001b[39m(X):\n\u001b[0;32m---> 28\u001b[0m     \u001b[39mreturn\u001b[39;00m parallel_transform(pipe, X)\n",
      "Cell \u001b[0;32mIn[235], line 6\u001b[0m, in \u001b[0;36mparallel_transform\u001b[0;34m(transformer, X)\u001b[0m\n\u001b[1;32m      5\u001b[0m \u001b[39mdef\u001b[39;00m \u001b[39mparallel_transform\u001b[39m(transformer, X):\n\u001b[0;32m----> 6\u001b[0m     \u001b[39mreturn\u001b[39;00m Parallel(n_jobs\u001b[39m=\u001b[39;49m\u001b[39m-\u001b[39;49m\u001b[39m1\u001b[39;49m)(delayed(transformer\u001b[39m.\u001b[39;49mtransform)(chunk) \u001b[39mfor\u001b[39;49;00m chunk \u001b[39min\u001b[39;49;00m np\u001b[39m.\u001b[39;49marray_split(X, n_jobs))\n",
      "File \u001b[0;32m~/.local/lib/python3.11/site-packages/joblib/parallel.py:1098\u001b[0m, in \u001b[0;36mParallel.__call__\u001b[0;34m(self, iterable)\u001b[0m\n\u001b[1;32m   1095\u001b[0m     \u001b[39mself\u001b[39m\u001b[39m.\u001b[39m_iterating \u001b[39m=\u001b[39m \u001b[39mFalse\u001b[39;00m\n\u001b[1;32m   1097\u001b[0m \u001b[39mwith\u001b[39;00m \u001b[39mself\u001b[39m\u001b[39m.\u001b[39m_backend\u001b[39m.\u001b[39mretrieval_context():\n\u001b[0;32m-> 1098\u001b[0m     \u001b[39mself\u001b[39;49m\u001b[39m.\u001b[39;49mretrieve()\n\u001b[1;32m   1099\u001b[0m \u001b[39m# Make sure that we get a last message telling us we are done\u001b[39;00m\n\u001b[1;32m   1100\u001b[0m elapsed_time \u001b[39m=\u001b[39m time\u001b[39m.\u001b[39mtime() \u001b[39m-\u001b[39m \u001b[39mself\u001b[39m\u001b[39m.\u001b[39m_start_time\n",
      "File \u001b[0;32m~/.local/lib/python3.11/site-packages/joblib/parallel.py:975\u001b[0m, in \u001b[0;36mParallel.retrieve\u001b[0;34m(self)\u001b[0m\n\u001b[1;32m    973\u001b[0m \u001b[39mtry\u001b[39;00m:\n\u001b[1;32m    974\u001b[0m     \u001b[39mif\u001b[39;00m \u001b[39mgetattr\u001b[39m(\u001b[39mself\u001b[39m\u001b[39m.\u001b[39m_backend, \u001b[39m'\u001b[39m\u001b[39msupports_timeout\u001b[39m\u001b[39m'\u001b[39m, \u001b[39mFalse\u001b[39;00m):\n\u001b[0;32m--> 975\u001b[0m         \u001b[39mself\u001b[39m\u001b[39m.\u001b[39m_output\u001b[39m.\u001b[39mextend(job\u001b[39m.\u001b[39;49mget(timeout\u001b[39m=\u001b[39;49m\u001b[39mself\u001b[39;49m\u001b[39m.\u001b[39;49mtimeout))\n\u001b[1;32m    976\u001b[0m     \u001b[39melse\u001b[39;00m:\n\u001b[1;32m    977\u001b[0m         \u001b[39mself\u001b[39m\u001b[39m.\u001b[39m_output\u001b[39m.\u001b[39mextend(job\u001b[39m.\u001b[39mget())\n",
      "File \u001b[0;32m~/.local/lib/python3.11/site-packages/joblib/_parallel_backends.py:567\u001b[0m, in \u001b[0;36mLokyBackend.wrap_future_result\u001b[0;34m(future, timeout)\u001b[0m\n\u001b[1;32m    564\u001b[0m \u001b[39m\u001b[39m\u001b[39m\"\"\"Wrapper for Future.result to implement the same behaviour as\u001b[39;00m\n\u001b[1;32m    565\u001b[0m \u001b[39mAsyncResults.get from multiprocessing.\"\"\"\u001b[39;00m\n\u001b[1;32m    566\u001b[0m \u001b[39mtry\u001b[39;00m:\n\u001b[0;32m--> 567\u001b[0m     \u001b[39mreturn\u001b[39;00m future\u001b[39m.\u001b[39;49mresult(timeout\u001b[39m=\u001b[39;49mtimeout)\n\u001b[1;32m    568\u001b[0m \u001b[39mexcept\u001b[39;00m CfTimeoutError \u001b[39mas\u001b[39;00m e:\n\u001b[1;32m    569\u001b[0m     \u001b[39mraise\u001b[39;00m \u001b[39mTimeoutError\u001b[39;00m \u001b[39mfrom\u001b[39;00m \u001b[39me\u001b[39;00m\n",
      "File \u001b[0;32m/usr/lib/python3.11/concurrent/futures/_base.py:456\u001b[0m, in \u001b[0;36mFuture.result\u001b[0;34m(self, timeout)\u001b[0m\n\u001b[1;32m    454\u001b[0m     \u001b[39mraise\u001b[39;00m CancelledError()\n\u001b[1;32m    455\u001b[0m \u001b[39melif\u001b[39;00m \u001b[39mself\u001b[39m\u001b[39m.\u001b[39m_state \u001b[39m==\u001b[39m FINISHED:\n\u001b[0;32m--> 456\u001b[0m     \u001b[39mreturn\u001b[39;00m \u001b[39mself\u001b[39;49m\u001b[39m.\u001b[39;49m__get_result()\n\u001b[1;32m    457\u001b[0m \u001b[39melse\u001b[39;00m:\n\u001b[1;32m    458\u001b[0m     \u001b[39mraise\u001b[39;00m \u001b[39mTimeoutError\u001b[39;00m()\n",
      "File \u001b[0;32m/usr/lib/python3.11/concurrent/futures/_base.py:401\u001b[0m, in \u001b[0;36mFuture.__get_result\u001b[0;34m(self)\u001b[0m\n\u001b[1;32m    399\u001b[0m \u001b[39mif\u001b[39;00m \u001b[39mself\u001b[39m\u001b[39m.\u001b[39m_exception:\n\u001b[1;32m    400\u001b[0m     \u001b[39mtry\u001b[39;00m:\n\u001b[0;32m--> 401\u001b[0m         \u001b[39mraise\u001b[39;00m \u001b[39mself\u001b[39m\u001b[39m.\u001b[39m_exception\n\u001b[1;32m    402\u001b[0m     \u001b[39mfinally\u001b[39;00m:\n\u001b[1;32m    403\u001b[0m         \u001b[39m# Break a reference cycle with the exception in self._exception\u001b[39;00m\n\u001b[1;32m    404\u001b[0m         \u001b[39mself\u001b[39m \u001b[39m=\u001b[39m \u001b[39mNone\u001b[39;00m\n",
      "\u001b[0;31mBrokenProcessPool\u001b[0m: A task has failed to un-serialize. Please ensure that the arguments of the function are all picklable."
     ]
    }
   ],
   "source": [
    "from sklearn.pipeline import make_pipeline\n",
    "from joblib import Parallel, delayed\n",
    "\n",
    "# Define a function to execute a transformer in parallel\n",
    "def parallel_transform(transformer, X):\n",
    "    return Parallel(n_jobs=-1)(delayed(transformer.transform)(chunk) for chunk in np.array_split(X, n_jobs))\n",
    "\n",
    "# Set the number of parallel jobs\n",
    "n_jobs = 4  # Adjust the number of parallel jobs as per your system's capabilities\n",
    "\n",
    "# Define your pipeline\n",
    "pipe = make_pipeline(\n",
    "    ConvertData(),\n",
    "    RemoveStopWordsPunctuation(),\n",
    "    AddLengthFlag(),\n",
    "    AddCurrencyFlag(),\n",
    "    AddEmojiFlag(),\n",
    "    AddContainFlag(),\n",
    "    AddSpamWordsFlag(),\n",
    "    AddEmailFlag(),\n",
    "    AddPhoneFlag(),\n",
    "    RemovePhoneLinkEmail(),\n",
    "    LemmatizeText()\n",
    ")\n",
    "\n",
    "# Parallelize the pipeline transformations\n",
    "def parallel_pipeline_transform(X):\n",
    "    return parallel_transform(pipe, X)\n",
    "\n",
    "# Call the parallel_pipeline_transform function to transform your data in parallel\n",
    "transformed_data = parallel_pipeline_transform(df_test)\n"
   ]
  },
  {
   "cell_type": "code",
   "execution_count": null,
   "metadata": {},
   "outputs": [],
   "source": []
  }
 ],
 "metadata": {
  "kernelspec": {
   "display_name": "Python 3",
   "language": "python",
   "name": "python3"
  },
  "language_info": {
   "codemirror_mode": {
    "name": "ipython",
    "version": 3
   },
   "file_extension": ".py",
   "mimetype": "text/x-python",
   "name": "python",
   "nbconvert_exporter": "python",
   "pygments_lexer": "ipython3",
   "version": "3.11.3"
  },
  "orig_nbformat": 4
 },
 "nbformat": 4,
 "nbformat_minor": 2
}
